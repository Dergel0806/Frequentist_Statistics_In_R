{
 "cells": [
  {
   "cell_type": "markdown",
   "metadata": {},
   "source": [
    "**Quiz 6 of Frequentist Statistic by Ihor Markevych.**"
   ]
  },
  {
   "cell_type": "code",
   "execution_count": 1,
   "metadata": {},
   "outputs": [
    {
     "name": "stderr",
     "output_type": "stream",
     "text": [
      "Loading required package: carData\n"
     ]
    }
   ],
   "source": [
    "library(car)\n",
    "library(pastecs)\n",
    "library(WRS2)\n",
    "library(gmodels)\n",
    "library(MASS)"
   ]
  },
  {
   "cell_type": "code",
   "execution_count": 2,
   "metadata": {},
   "outputs": [],
   "source": [
    "d <- read.csv('Final_Data_University_IM.csv')\n",
    "d$CRIMINAL_RECORD  <- as.factor(d$CRIMINAL_RECORD)\n",
    "d$ADMITTED <- as.factor(d$ADMITTED)"
   ]
  },
  {
   "cell_type": "code",
   "execution_count": 3,
   "metadata": {},
   "outputs": [
    {
     "data": {
      "text/html": [
       "<table>\n",
       "<thead><tr><th scope=col>GPA</th><th scope=col>HOURS_STUDIED_FOR_ENRANCE_EXAM</th><th scope=col>GRE</th><th scope=col>RACE</th><th scope=col>CRIMINAL_RECORD</th><th scope=col>ADMITTED</th></tr></thead>\n",
       "<tbody>\n",
       "\t<tr><td>2.80 </td><td>50   </td><td>264  </td><td>Human</td><td>0    </td><td>0    </td></tr>\n",
       "\t<tr><td>2.80 </td><td>50   </td><td>260  </td><td>Dwarf</td><td>1    </td><td>0    </td></tr>\n",
       "\t<tr><td>3.28 </td><td>59   </td><td>337  </td><td>Human</td><td>0    </td><td>1    </td></tr>\n",
       "\t<tr><td>2.80 </td><td>50   </td><td>287  </td><td>Elf  </td><td>0    </td><td>0    </td></tr>\n",
       "\t<tr><td>2.80 </td><td>44   </td><td>281  </td><td>Elf  </td><td>0    </td><td>0    </td></tr>\n",
       "\t<tr><td>2.90 </td><td>51   </td><td>270  </td><td>Elf  </td><td>0    </td><td>0    </td></tr>\n",
       "</tbody>\n",
       "</table>\n"
      ],
      "text/latex": [
       "\\begin{tabular}{r|llllll}\n",
       " GPA & HOURS\\_STUDIED\\_FOR\\_ENRANCE\\_EXAM & GRE & RACE & CRIMINAL\\_RECORD & ADMITTED\\\\\n",
       "\\hline\n",
       "\t 2.80  & 50    & 264   & Human & 0     & 0    \\\\\n",
       "\t 2.80  & 50    & 260   & Dwarf & 1     & 0    \\\\\n",
       "\t 3.28  & 59    & 337   & Human & 0     & 1    \\\\\n",
       "\t 2.80  & 50    & 287   & Elf   & 0     & 0    \\\\\n",
       "\t 2.80  & 44    & 281   & Elf   & 0     & 0    \\\\\n",
       "\t 2.90  & 51    & 270   & Elf   & 0     & 0    \\\\\n",
       "\\end{tabular}\n"
      ],
      "text/markdown": [
       "\n",
       "| GPA | HOURS_STUDIED_FOR_ENRANCE_EXAM | GRE | RACE | CRIMINAL_RECORD | ADMITTED |\n",
       "|---|---|---|---|---|---|\n",
       "| 2.80  | 50    | 264   | Human | 0     | 0     |\n",
       "| 2.80  | 50    | 260   | Dwarf | 1     | 0     |\n",
       "| 3.28  | 59    | 337   | Human | 0     | 1     |\n",
       "| 2.80  | 50    | 287   | Elf   | 0     | 0     |\n",
       "| 2.80  | 44    | 281   | Elf   | 0     | 0     |\n",
       "| 2.90  | 51    | 270   | Elf   | 0     | 0     |\n",
       "\n"
      ],
      "text/plain": [
       "  GPA  HOURS_STUDIED_FOR_ENRANCE_EXAM GRE RACE  CRIMINAL_RECORD ADMITTED\n",
       "1 2.80 50                             264 Human 0               0       \n",
       "2 2.80 50                             260 Dwarf 1               0       \n",
       "3 3.28 59                             337 Human 0               1       \n",
       "4 2.80 50                             287 Elf   0               0       \n",
       "5 2.80 44                             281 Elf   0               0       \n",
       "6 2.90 51                             270 Elf   0               0       "
      ]
     },
     "metadata": {},
     "output_type": "display_data"
    }
   ],
   "source": [
    "head(d)"
   ]
  },
  {
   "cell_type": "code",
   "execution_count": 4,
   "metadata": {},
   "outputs": [
    {
     "data": {
      "text/plain": [
       "      GPA        HOURS_STUDIED_FOR_ENRANCE_EXAM      GRE           RACE    \n",
       " Min.   :2.800   Min.   :33.00                  Min.   :260.0   Dwarf:244  \n",
       " 1st Qu.:2.800   1st Qu.:47.00                  1st Qu.:270.0   Elf  :250  \n",
       " Median :2.800   Median :50.00                  Median :281.0   Human:258  \n",
       " Mean   :2.928   Mean   :50.13                  Mean   :288.9   Orc  :127  \n",
       " 3rd Qu.:2.990   3rd Qu.:54.00                  3rd Qu.:305.0   Troll:121  \n",
       " Max.   :4.000   Max.   :69.00                  Max.   :340.0              \n",
       " CRIMINAL_RECORD ADMITTED\n",
       " 0:870           0:799   \n",
       " 1:130           1:201   \n",
       "                         \n",
       "                         \n",
       "                         \n",
       "                         "
      ]
     },
     "metadata": {},
     "output_type": "display_data"
    }
   ],
   "source": [
    "summary(d)"
   ]
  },
  {
   "cell_type": "markdown",
   "metadata": {},
   "source": [
    "# Question 1\n",
    "Since we want to check for three way interaction for three categorical variables, we'll go with **loglin**."
   ]
  },
  {
   "cell_type": "code",
   "execution_count": 5,
   "metadata": {},
   "outputs": [
    {
     "data": {
      "text/plain": [
       "LR tests for hierarchical log-linear models\n",
       "\n",
       "Model 1:\n",
       " . ~ ADMITTED + CRIMINAL_RECORD + RACE + ADMITTED:CRIMINAL_RECORD + ADMITTED:RACE + CRIMINAL_RECORD:RACE \n",
       "Model 2:\n",
       " ~ADMITTED * CRIMINAL_RECORD * RACE \n",
       "\n",
       "          Deviance df Delta(Dev) Delta(df) P(> Delta(Dev)\n",
       "Model 1   3.503252  4                                    \n",
       "Model 2   0.000000  0   3.503252         4        0.47738\n",
       "Saturated 0.000000  0   0.000000         0        1.00000"
      ]
     },
     "metadata": {},
     "output_type": "display_data"
    }
   ],
   "source": [
    "#create contingency table \n",
    "contingencyTable <- xtabs(~ ADMITTED + CRIMINAL_RECORD + RACE, data = d)\n",
    "\n",
    "#create saturated model\n",
    "\n",
    "saturated <- loglm(~ ADMITTED * CRIMINAL_RECORD * RACE, data = contingencyTable)\n",
    "\n",
    "#remove threeWay interaction\n",
    "threeWay <- update(saturated, .~. -ADMITTED : CRIMINAL_RECORD : RACE)\n",
    "\n",
    "#compare models\n",
    "anova(saturated, threeWay)"
   ]
  },
  {
   "cell_type": "markdown",
   "metadata": {},
   "source": [
    "As we can see, there is no significant difference between models that include three way interaction and that does not, so, this interaction is not significant (there is no interaction).\n",
    "\n",
    "-------------------------------------------------"
   ]
  },
  {
   "cell_type": "markdown",
   "metadata": {},
   "source": [
    "# Question 2\n",
    "We have `GPA` and `RACE` - one numeric var, one categorical. For this case we can use **ANOVA**."
   ]
  },
  {
   "cell_type": "code",
   "execution_count": 6,
   "metadata": {},
   "outputs": [
    {
     "data": {
      "text/html": [
       "<table>\n",
       "<thead><tr><th></th><th scope=col>Df</th><th scope=col>F value</th><th scope=col>Pr(&gt;F)</th></tr></thead>\n",
       "<tbody>\n",
       "\t<tr><th scope=row>group</th><td>  4      </td><td>1.717966 </td><td>0.1437455</td></tr>\n",
       "\t<tr><th scope=row> </th><td>995      </td><td>      NA </td><td>       NA</td></tr>\n",
       "</tbody>\n",
       "</table>\n"
      ],
      "text/latex": [
       "\\begin{tabular}{r|lll}\n",
       "  & Df & F value & Pr(>F)\\\\\n",
       "\\hline\n",
       "\tgroup &   4       & 1.717966  & 0.1437455\\\\\n",
       "\t  & 995       &       NA  &        NA\\\\\n",
       "\\end{tabular}\n"
      ],
      "text/markdown": [
       "\n",
       "| <!--/--> | Df | F value | Pr(>F) |\n",
       "|---|---|---|---|\n",
       "| group |   4       | 1.717966  | 0.1437455 |\n",
       "|   | 995       |       NA  |        NA |\n",
       "\n"
      ],
      "text/plain": [
       "      Df  F value  Pr(>F)   \n",
       "group   4 1.717966 0.1437455\n",
       "      995       NA        NA"
      ]
     },
     "metadata": {},
     "output_type": "display_data"
    }
   ],
   "source": [
    "leveneTest(d$GPA, d$RACE, center = median)"
   ]
  },
  {
   "cell_type": "markdown",
   "metadata": {},
   "source": [
    "Levene test not violated, we can go with ANOVA."
   ]
  },
  {
   "cell_type": "code",
   "execution_count": 7,
   "metadata": {},
   "outputs": [
    {
     "data": {
      "text/html": [
       "<table>\n",
       "<thead><tr><th></th><th scope=col>Sum Sq</th><th scope=col>Df</th><th scope=col>F value</th><th scope=col>Pr(&gt;F)</th></tr></thead>\n",
       "<tbody>\n",
       "\t<tr><th scope=row>(Intercept)</th><td>2087.338507 </td><td>  1         </td><td>38185.553293</td><td>0.0000000   </td></tr>\n",
       "\t<tr><th scope=row>RACE</th><td>   0.375637 </td><td>  4         </td><td>    1.717966</td><td>0.1437455   </td></tr>\n",
       "\t<tr><th scope=row>Residuals</th><td>  54.389727 </td><td>995         </td><td>          NA</td><td>       NA   </td></tr>\n",
       "</tbody>\n",
       "</table>\n"
      ],
      "text/latex": [
       "\\begin{tabular}{r|llll}\n",
       "  & Sum Sq & Df & F value & Pr(>F)\\\\\n",
       "\\hline\n",
       "\t(Intercept) & 2087.338507  &   1          & 38185.553293 & 0.0000000   \\\\\n",
       "\tRACE &    0.375637  &   4          &     1.717966 & 0.1437455   \\\\\n",
       "\tResiduals &   54.389727  & 995          &           NA &        NA   \\\\\n",
       "\\end{tabular}\n"
      ],
      "text/markdown": [
       "\n",
       "| <!--/--> | Sum Sq | Df | F value | Pr(>F) |\n",
       "|---|---|---|---|---|\n",
       "| (Intercept) | 2087.338507  |   1          | 38185.553293 | 0.0000000    |\n",
       "| RACE |    0.375637  |   4          |     1.717966 | 0.1437455    |\n",
       "| Residuals |   54.389727  | 995          |           NA |        NA    |\n",
       "\n"
      ],
      "text/plain": [
       "            Sum Sq      Df  F value      Pr(>F)   \n",
       "(Intercept) 2087.338507   1 38185.553293 0.0000000\n",
       "RACE           0.375637   4     1.717966 0.1437455\n",
       "Residuals     54.389727 995           NA        NA"
      ]
     },
     "metadata": {},
     "output_type": "display_data"
    }
   ],
   "source": [
    "m <- aov(GPA ~ RACE, data = d)  \n",
    "Anova(m, type='III')"
   ]
  },
  {
   "cell_type": "markdown",
   "metadata": {},
   "source": [
    "As we can see, $p-value$ is big enough to claim that there is no evidence to say that there is any difference.\n",
    "\n",
    "-------------"
   ]
  },
  {
   "cell_type": "markdown",
   "metadata": {},
   "source": [
    "# Question 3\n",
    "We have `GRE` and `RACE` - one numeric var, one categorical. For this case we can use **ANOVA**."
   ]
  },
  {
   "cell_type": "code",
   "execution_count": 8,
   "metadata": {},
   "outputs": [
    {
     "data": {
      "text/html": [
       "<table>\n",
       "<thead><tr><th></th><th scope=col>Df</th><th scope=col>F value</th><th scope=col>Pr(&gt;F)</th></tr></thead>\n",
       "<tbody>\n",
       "\t<tr><th scope=row>group</th><td>  4      </td><td>1.19652  </td><td>0.3106903</td></tr>\n",
       "\t<tr><th scope=row> </th><td>995      </td><td>     NA  </td><td>       NA</td></tr>\n",
       "</tbody>\n",
       "</table>\n"
      ],
      "text/latex": [
       "\\begin{tabular}{r|lll}\n",
       "  & Df & F value & Pr(>F)\\\\\n",
       "\\hline\n",
       "\tgroup &   4       & 1.19652   & 0.3106903\\\\\n",
       "\t  & 995       &      NA   &        NA\\\\\n",
       "\\end{tabular}\n"
      ],
      "text/markdown": [
       "\n",
       "| <!--/--> | Df | F value | Pr(>F) |\n",
       "|---|---|---|---|\n",
       "| group |   4       | 1.19652   | 0.3106903 |\n",
       "|   | 995       |      NA   |        NA |\n",
       "\n"
      ],
      "text/plain": [
       "      Df  F value Pr(>F)   \n",
       "group   4 1.19652 0.3106903\n",
       "      995      NA        NA"
      ]
     },
     "metadata": {},
     "output_type": "display_data"
    }
   ],
   "source": [
    "leveneTest(d$GRE, d$RACE, center = median)"
   ]
  },
  {
   "cell_type": "markdown",
   "metadata": {},
   "source": [
    "Levene test not violated, we can go with ANOVA."
   ]
  },
  {
   "cell_type": "code",
   "execution_count": 9,
   "metadata": {},
   "outputs": [
    {
     "data": {
      "text/html": [
       "<table>\n",
       "<thead><tr><th></th><th scope=col>Sum Sq</th><th scope=col>Df</th><th scope=col>F value</th><th scope=col>Pr(&gt;F)</th></tr></thead>\n",
       "<tbody>\n",
       "\t<tr><th scope=row>(Intercept)</th><td>20693021.512</td><td>  1         </td><td>3.458520e+04</td><td>0.0000000   </td></tr>\n",
       "\t<tr><th scope=row>RACE</th><td>    2062.561</td><td>  4         </td><td>8.618134e-01</td><td>0.4863286   </td></tr>\n",
       "\t<tr><th scope=row>Residuals</th><td>  595328.558</td><td>995         </td><td>          NA</td><td>       NA   </td></tr>\n",
       "</tbody>\n",
       "</table>\n"
      ],
      "text/latex": [
       "\\begin{tabular}{r|llll}\n",
       "  & Sum Sq & Df & F value & Pr(>F)\\\\\n",
       "\\hline\n",
       "\t(Intercept) & 20693021.512 &   1          & 3.458520e+04 & 0.0000000   \\\\\n",
       "\tRACE &     2062.561 &   4          & 8.618134e-01 & 0.4863286   \\\\\n",
       "\tResiduals &   595328.558 & 995          &           NA &        NA   \\\\\n",
       "\\end{tabular}\n"
      ],
      "text/markdown": [
       "\n",
       "| <!--/--> | Sum Sq | Df | F value | Pr(>F) |\n",
       "|---|---|---|---|---|\n",
       "| (Intercept) | 20693021.512 |   1          | 3.458520e+04 | 0.0000000    |\n",
       "| RACE |     2062.561 |   4          | 8.618134e-01 | 0.4863286    |\n",
       "| Residuals |   595328.558 | 995          |           NA |        NA    |\n",
       "\n"
      ],
      "text/plain": [
       "            Sum Sq       Df  F value      Pr(>F)   \n",
       "(Intercept) 20693021.512   1 3.458520e+04 0.0000000\n",
       "RACE            2062.561   4 8.618134e-01 0.4863286\n",
       "Residuals     595328.558 995           NA        NA"
      ]
     },
     "metadata": {},
     "output_type": "display_data"
    }
   ],
   "source": [
    "m <- aov(GRE ~ RACE, data = d)  \n",
    "Anova(m, type='III')"
   ]
  },
  {
   "cell_type": "markdown",
   "metadata": {},
   "source": [
    "As we can see, $p-value$ is big enough to claim that there is no evidence to say that there is any difference.\n",
    "\n",
    "-------------"
   ]
  },
  {
   "cell_type": "markdown",
   "metadata": {},
   "source": [
    "# Question 4\n",
    "This should be a **FACTORIAL ANOVA**, since we have two categorical variables (`CRIMINAL_RECORD` and `RACE`) and one numerical (`GPA`)."
   ]
  },
  {
   "cell_type": "code",
   "execution_count": 10,
   "metadata": {},
   "outputs": [
    {
     "data": {
      "text/html": [
       "<table>\n",
       "<thead><tr><th></th><th scope=col>Df</th><th scope=col>F value</th><th scope=col>Pr(&gt;F)</th></tr></thead>\n",
       "<tbody>\n",
       "\t<tr><th scope=row>group</th><td>  9        </td><td>2.648314   </td><td>0.004916428</td></tr>\n",
       "\t<tr><th scope=row> </th><td>990        </td><td>      NA   </td><td>         NA</td></tr>\n",
       "</tbody>\n",
       "</table>\n"
      ],
      "text/latex": [
       "\\begin{tabular}{r|lll}\n",
       "  & Df & F value & Pr(>F)\\\\\n",
       "\\hline\n",
       "\tgroup &   9         & 2.648314    & 0.004916428\\\\\n",
       "\t  & 990         &       NA    &          NA\\\\\n",
       "\\end{tabular}\n"
      ],
      "text/markdown": [
       "\n",
       "| <!--/--> | Df | F value | Pr(>F) |\n",
       "|---|---|---|---|\n",
       "| group |   9         | 2.648314    | 0.004916428 |\n",
       "|   | 990         |       NA    |          NA |\n",
       "\n"
      ],
      "text/plain": [
       "      Df  F value  Pr(>F)     \n",
       "group   9 2.648314 0.004916428\n",
       "      990       NA          NA"
      ]
     },
     "metadata": {},
     "output_type": "display_data"
    }
   ],
   "source": [
    "leveneTest(d$GPA, interaction(d$RACE, d$CRIMINAL_RECORD), center = median)"
   ]
  },
  {
   "cell_type": "markdown",
   "metadata": {},
   "source": [
    "Levene test violated, we'll go with robust FACTORIAL ANOVA."
   ]
  },
  {
   "cell_type": "code",
   "execution_count": 11,
   "metadata": {},
   "outputs": [
    {
     "name": "stderr",
     "output_type": "stream",
     "text": [
      "Aggregation requires fun.aggregate: length used as default\n"
     ]
    },
    {
     "data": {
      "text/plain": [
       "Call:\n",
       "mcp2a(formula = GPA ~ RACE + CRIMINAL_RECORD, data = d, nboot = 200)\n",
       "\n",
       "                        psihat ci.lower ci.upper p-value\n",
       "RACE1                        0        0        0       0\n",
       "RACE2                        0        0        0       0\n",
       "RACE3                        1        1        1       0\n",
       "RACE4                        1        1        1       0\n",
       "RACE5                        0        0        0       0\n",
       "RACE6                        1        1        1       0\n",
       "RACE7                        1        1        1       0\n",
       "RACE8                        1        1        1       0\n",
       "RACE9                        1        1        1       0\n",
       "RACE10                       0        0        0       0\n",
       "CRIMINAL_RECORD1             3        3        3       0\n",
       "RACE1:CRIMINAL_RECORD1       0        0        0       0\n",
       "RACE2:CRIMINAL_RECORD1       0        0        0       0\n",
       "RACE3:CRIMINAL_RECORD1       1        1        1       0\n",
       "RACE4:CRIMINAL_RECORD1       1        1        1       0\n",
       "RACE5:CRIMINAL_RECORD1       0        0        0       0\n",
       "RACE6:CRIMINAL_RECORD1       1        1        1       0\n",
       "RACE7:CRIMINAL_RECORD1       1        1        1       0\n",
       "RACE8:CRIMINAL_RECORD1       1        1        1       0\n",
       "RACE9:CRIMINAL_RECORD1       1        1        1       0\n",
       "RACE10:CRIMINAL_RECORD1      0        0        0       0\n"
      ]
     },
     "metadata": {},
     "output_type": "display_data"
    }
   ],
   "source": [
    "mcp2a(GPA ~ RACE + CRIMINAL_RECORD, d, nboot = 200)"
   ]
  },
  {
   "cell_type": "markdown",
   "metadata": {},
   "source": [
    "All values are small enough to say that there is enough evidence to claim difference.\n",
    "\n",
    "----------"
   ]
  },
  {
   "cell_type": "markdown",
   "metadata": {},
   "source": [
    "# Question 5\n",
    "I believe Question 5 is just rephrased Question 4, so, answer will be same.\n",
    "\n",
    "---------"
   ]
  },
  {
   "cell_type": "markdown",
   "metadata": {},
   "source": [
    "# Question 6\n",
    "\n",
    "Since we have one categorical variable (`ADMITTED`) and one numerical (`HOURS_STUDIED_FOR_ENRANCE_EXAM`), we'll go with **ANOVA** again.\n",
    "\n"
   ]
  },
  {
   "cell_type": "code",
   "execution_count": 12,
   "metadata": {},
   "outputs": [
    {
     "data": {
      "text/html": [
       "<table>\n",
       "<thead><tr><th></th><th scope=col>Df</th><th scope=col>F value</th><th scope=col>Pr(&gt;F)</th></tr></thead>\n",
       "<tbody>\n",
       "\t<tr><th scope=row>group</th><td>  1       </td><td>5.645061  </td><td>0.01769256</td></tr>\n",
       "\t<tr><th scope=row> </th><td>998       </td><td>      NA  </td><td>        NA</td></tr>\n",
       "</tbody>\n",
       "</table>\n"
      ],
      "text/latex": [
       "\\begin{tabular}{r|lll}\n",
       "  & Df & F value & Pr(>F)\\\\\n",
       "\\hline\n",
       "\tgroup &   1        & 5.645061   & 0.01769256\\\\\n",
       "\t  & 998        &       NA   &         NA\\\\\n",
       "\\end{tabular}\n"
      ],
      "text/markdown": [
       "\n",
       "| <!--/--> | Df | F value | Pr(>F) |\n",
       "|---|---|---|---|\n",
       "| group |   1        | 5.645061   | 0.01769256 |\n",
       "|   | 998        |       NA   |         NA |\n",
       "\n"
      ],
      "text/plain": [
       "      Df  F value  Pr(>F)    \n",
       "group   1 5.645061 0.01769256\n",
       "      998       NA         NA"
      ]
     },
     "metadata": {},
     "output_type": "display_data"
    }
   ],
   "source": [
    "leveneTest(d$HOURS_STUDIED_FOR_ENRANCE_EXAM, d$ADMITTED, center = median)"
   ]
  },
  {
   "cell_type": "markdown",
   "metadata": {},
   "source": [
    "This is violated, will need to go with non-parametric test. Options here are:\n",
    "- Wilcox(paired=F)\n",
    "- K-W\n",
    "- robust ANOVA"
   ]
  },
  {
   "cell_type": "markdown",
   "metadata": {},
   "source": [
    "Wilcox(paired=F):"
   ]
  },
  {
   "cell_type": "code",
   "execution_count": 13,
   "metadata": {},
   "outputs": [],
   "source": [
    "m <- wilcox.test(HOURS_STUDIED_FOR_ENRANCE_EXAM ~ ADMITTED, data = d)"
   ]
  },
  {
   "cell_type": "code",
   "execution_count": 14,
   "metadata": {},
   "outputs": [
    {
     "data": {
      "text/plain": [
       "\n",
       "\tWilcoxon rank sum test with continuity correction\n",
       "\n",
       "data:  HOURS_STUDIED_FOR_ENRANCE_EXAM by ADMITTED\n",
       "W = 15939, p-value < 2.2e-16\n",
       "alternative hypothesis: true location shift is not equal to 0\n"
      ]
     },
     "metadata": {},
     "output_type": "display_data"
    }
   ],
   "source": [
    "m"
   ]
  },
  {
   "cell_type": "markdown",
   "metadata": {},
   "source": [
    "Robust ANOVA:"
   ]
  },
  {
   "cell_type": "code",
   "execution_count": 15,
   "metadata": {},
   "outputs": [
    {
     "data": {
      "text/plain": [
       "Call:\n",
       "t1way(formula = d$HOURS_STUDIED_FOR_ENRANCE_EXAM ~ d$ADMITTED, \n",
       "    tr = 0.2)\n",
       "\n",
       "Test statistic: F = 476.3973 \n",
       "Degrees of freedom 1: 1 \n",
       "Degrees of freedom 2: 210.01 \n",
       "p-value: 0 \n",
       "\n",
       "Explanatory measure of effect size: 0.89 \n"
      ]
     },
     "metadata": {},
     "output_type": "display_data"
    }
   ],
   "source": [
    "t1way(d$HOURS_STUDIED_FOR_ENRANCE_EXAM ~ d$ADMITTED, tr = .2)"
   ]
  },
  {
   "cell_type": "code",
   "execution_count": 16,
   "metadata": {},
   "outputs": [
    {
     "data": {
      "text/plain": [
       "Call:\n",
       "t1waybt(formula = d$HOURS_STUDIED_FOR_ENRANCE_EXAM ~ d$ADMITTED, \n",
       "    tr = 0.2)\n",
       "\n",
       "Effective number of bootstrap samples was 599.\n",
       "\n",
       "Test statistic: 476.3973 \n",
       "p-value: 0 \n",
       "Variance explained 0.814 \n",
       "Effect size 0.902 \n"
      ]
     },
     "metadata": {},
     "output_type": "display_data"
    }
   ],
   "source": [
    "t1waybt(d$HOURS_STUDIED_FOR_ENRANCE_EXAM ~ d$ADMITTED, tr = .2)"
   ]
  },
  {
   "cell_type": "markdown",
   "metadata": {},
   "source": [
    "K-W:"
   ]
  },
  {
   "cell_type": "code",
   "execution_count": 17,
   "metadata": {},
   "outputs": [
    {
     "data": {
      "text/plain": [
       "\n",
       "\tKruskal-Wallis rank sum test\n",
       "\n",
       "data:  d$HOURS_STUDIED_FOR_ENRANCE_EXAM by d$ADMITTED\n",
       "Kruskal-Wallis chi-squared = 310.69, df = 1, p-value < 2.2e-16\n"
      ]
     },
     "metadata": {},
     "output_type": "display_data"
    }
   ],
   "source": [
    "kruskal.test(d$HOURS_STUDIED_FOR_ENRANCE_EXAM ~ d$ADMITTED)"
   ]
  },
  {
   "cell_type": "markdown",
   "metadata": {},
   "source": [
    "All of those tests gave same result - $p-value$ is small enough to claim significance.\n",
    "\n",
    "-----------"
   ]
  },
  {
   "cell_type": "markdown",
   "metadata": {},
   "source": [
    "# Question 7\n",
    "\n",
    "Since we have two categorical variable (`ADMITTED`, `RACE`), we'll do $\\chi ^ 2$-test.\n",
    "\n"
   ]
  },
  {
   "cell_type": "code",
   "execution_count": 18,
   "metadata": {},
   "outputs": [
    {
     "name": "stdout",
     "output_type": "stream",
     "text": [
      "\n",
      "   Cell Contents\n",
      "|-------------------------|\n",
      "|                   Count |\n",
      "|         Expected Values |\n",
      "| Chi-square contribution |\n",
      "|             Row Percent |\n",
      "|          Column Percent |\n",
      "|           Total Percent |\n",
      "|            Std Residual |\n",
      "|-------------------------|\n",
      "\n",
      "Total Observations in Table:  1000 \n",
      "\n",
      "             | d$RACE \n",
      "  d$ADMITTED |    Dwarf  |      Elf  |    Human  |      Orc  |    Troll  | Row Total | \n",
      "-------------|-----------|-----------|-----------|-----------|-----------|-----------|\n",
      "           0 |      184  |      198  |      209  |      111  |       97  |      799  | \n",
      "             |  194.956  |  199.750  |  206.142  |  101.473  |   96.679  |           | \n",
      "             |    0.616  |    0.015  |    0.040  |    0.894  |    0.001  |           | \n",
      "             |   23.029% |   24.781% |   26.158% |   13.892% |   12.140% |   79.900% | \n",
      "             |   75.410% |   79.200% |   81.008% |   87.402% |   80.165% |           | \n",
      "             |   18.400% |   19.800% |   20.900% |   11.100% |    9.700% |           | \n",
      "             |   -0.785  |   -0.124  |    0.199  |    0.946  |    0.033  |           | \n",
      "-------------|-----------|-----------|-----------|-----------|-----------|-----------|\n",
      "           1 |       60  |       52  |       49  |       16  |       24  |      201  | \n",
      "             |   49.044  |   50.250  |   51.858  |   25.527  |   24.321  |           | \n",
      "             |    2.447  |    0.061  |    0.158  |    3.556  |    0.004  |           | \n",
      "             |   29.851% |   25.871% |   24.378% |    7.960% |   11.940% |   20.100% | \n",
      "             |   24.590% |   20.800% |   18.992% |   12.598% |   19.835% |           | \n",
      "             |    6.000% |    5.200% |    4.900% |    1.600% |    2.400% |           | \n",
      "             |    1.564  |    0.247  |   -0.397  |   -1.886  |   -0.065  |           | \n",
      "-------------|-----------|-----------|-----------|-----------|-----------|-----------|\n",
      "Column Total |      244  |      250  |      258  |      127  |      121  |     1000  | \n",
      "             |   24.400% |   25.000% |   25.800% |   12.700% |   12.100% |           | \n",
      "-------------|-----------|-----------|-----------|-----------|-----------|-----------|\n",
      "\n",
      " \n",
      "Statistics for All Table Factors\n",
      "\n",
      "\n",
      "Pearson's Chi-squared test \n",
      "------------------------------------------------------------\n",
      "Chi^2 =  7.791945     d.f. =  4     p =  0.0995038 \n",
      "\n",
      "\n",
      " \n",
      "Fisher's Exact Test for Count Data\n",
      "------------------------------------------------------------\n",
      "Alternative hypothesis: two.sided\n",
      "p =  0.09315307 \n",
      "\n",
      " \n",
      "       Minimum expected frequency: 24.321 \n",
      "\n"
     ]
    }
   ],
   "source": [
    "CrossTable(d$ADMITTED, d$RACE, fisher = TRUE, chisq = TRUE, expected = TRUE, sresid = TRUE, format = \"SPSS\")"
   ]
  },
  {
   "cell_type": "markdown",
   "metadata": {},
   "source": [
    "As we can see, $p-value$ is big enough to say that there is no evidence to claim difference.\n",
    "\n",
    "-----------"
   ]
  },
  {
   "cell_type": "code",
   "execution_count": null,
   "metadata": {},
   "outputs": [],
   "source": []
  }
 ],
 "metadata": {
  "kernelspec": {
   "display_name": "R",
   "language": "R",
   "name": "ir"
  },
  "language_info": {
   "codemirror_mode": "r",
   "file_extension": ".r",
   "mimetype": "text/x-r-source",
   "name": "R",
   "pygments_lexer": "r",
   "version": "3.6.1"
  }
 },
 "nbformat": 4,
 "nbformat_minor": 2
}
