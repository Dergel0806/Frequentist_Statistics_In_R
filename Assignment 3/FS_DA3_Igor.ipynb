{
 "cells": [
  {
   "cell_type": "markdown",
   "metadata": {},
   "source": [
    "# Interpretation:\n",
    "**simple regression (unlikely)**\n",
    "1. check that the predictor is significant.\n",
    "1. if predictor is significant then you may conclude that the variable contributes R^2 to the total variance in the model. (larger numbers = more predictive weight)\n",
    "\n",
    "**multiple regression model**  \n",
    "Blurb: since it is highly likely you will have multiple variables that you are comparing this can become more complicated  \n",
    "in short we want to compare how effective the model is while understanding that in general more variables -> a greater r value.\n",
    "\n",
    "my rule of thumb is you may use as many variables as are significant while all other variables included are significant.  \n",
    "emphasis this is my rule and not a standard practice."
   ]
  },
  {
   "cell_type": "code",
   "execution_count": 2,
   "metadata": {},
   "outputs": [
    {
     "name": "stderr",
     "output_type": "stream",
     "text": [
      "Loading required package: carData\n",
      "\n",
      "Attaching package: 'boot'\n",
      "\n",
      "The following object is masked from 'package:car':\n",
      "\n",
      "    logit\n",
      "\n"
     ]
    }
   ],
   "source": [
    "library(car)\n",
    "library(boot)"
   ]
  },
  {
   "cell_type": "code",
   "execution_count": 3,
   "metadata": {},
   "outputs": [],
   "source": [
    "linearRegressionAsumptionsCheck <- function(model){\n",
    "    pass <- T\n",
    "    if(dwt(model)$p < .05){\n",
    "        cat('D-W VIOLATED!\\n')\n",
    "        pass <- F\n",
    "    }\n",
    "\n",
    "    if(length(model$coefficients) > 2){\n",
    "        if(length(colnames(vif(model))) > 0){\n",
    "           vif <- vif(model)[,'GVIF']\n",
    "        }\n",
    "        else {\n",
    "           vif <- vif(model)\n",
    "        }\n",
    "        if(mean(vif) > 1.1){\n",
    "            cat('NON-COLINEARITY MAY BE VIOLATED!\\n')\n",
    "            cat(vif,'\\n')\n",
    "            cat('Average:', mean(vif),'\\n')\n",
    "            pass <- F\n",
    "        }\n",
    "        if(any(vif > 10)){\n",
    "            cat('NON-COLINEARITY VIOLATED!\\n')\n",
    "            pass <- F\n",
    "        }\n",
    "\n",
    "        if(any(1 / vif < .2)){\n",
    "            cat('TOLERANCE IS VIOLATED!\\n')\n",
    "            pass <- F\n",
    "        }\n",
    "    }\n",
    "    return(pass)\n",
    "}"
   ]
  },
  {
   "cell_type": "code",
   "execution_count": 4,
   "metadata": {},
   "outputs": [],
   "source": [
    "d <- read.csv('DS3IM.csv')\n",
    "d['categoryI'] <- lapply(d['category1'], as.factor)\n",
    "d['categoryII'] <- lapply(d['category2'], as.factor)\n",
    "d['categoryIII'] <- d['category3']"
   ]
  },
  {
   "cell_type": "code",
   "execution_count": 5,
   "metadata": {},
   "outputs": [
    {
     "data": {
      "text/html": [
       "<table>\n",
       "<thead><tr><th scope=col>traitX</th><th scope=col>traitY</th><th scope=col>traitZ</th><th scope=col>itemA</th><th scope=col>itemB</th><th scope=col>itemC</th><th scope=col>itemD</th><th scope=col>itemE</th><th scope=col>itemF</th><th scope=col>itemG</th><th scope=col>category1</th><th scope=col>category2</th><th scope=col>category3</th><th scope=col>categoryI</th><th scope=col>categoryII</th><th scope=col>categoryIII</th></tr></thead>\n",
       "<tbody>\n",
       "\t<tr><td>61      </td><td>60      </td><td>31      </td><td>0       </td><td>0       </td><td>1       </td><td>0       </td><td>1       </td><td>1       </td><td>1       </td><td>2       </td><td> 3      </td><td>Elephant</td><td>2       </td><td>3       </td><td>Elephant</td></tr>\n",
       "\t<tr><td>39      </td><td>50      </td><td>49      </td><td>1       </td><td>1       </td><td>1       </td><td>0       </td><td>1       </td><td>1       </td><td>1       </td><td>1       </td><td> 3      </td><td>Cat     </td><td>1       </td><td>3       </td><td>Cat     </td></tr>\n",
       "\t<tr><td>50      </td><td>28      </td><td>55      </td><td>1       </td><td>0       </td><td>0       </td><td>0       </td><td>0       </td><td>1       </td><td>0       </td><td>1       </td><td> 2      </td><td>Elephant</td><td>1       </td><td>2       </td><td>Elephant</td></tr>\n",
       "\t<tr><td>40      </td><td>50      </td><td>57      </td><td>0       </td><td>0       </td><td>0       </td><td>1       </td><td>0       </td><td>0       </td><td>1       </td><td>1       </td><td> 9      </td><td>Cat     </td><td>1       </td><td>9       </td><td>Cat     </td></tr>\n",
       "\t<tr><td>39      </td><td>32      </td><td>65      </td><td>1       </td><td>0       </td><td>0       </td><td>1       </td><td>0       </td><td>1       </td><td>0       </td><td>1       </td><td>10      </td><td>Elephant</td><td>1       </td><td>10      </td><td>Elephant</td></tr>\n",
       "\t<tr><td>48      </td><td>42      </td><td>55      </td><td>1       </td><td>1       </td><td>0       </td><td>1       </td><td>1       </td><td>1       </td><td>0       </td><td>1       </td><td> 1      </td><td>Cat     </td><td>1       </td><td>1       </td><td>Cat     </td></tr>\n",
       "</tbody>\n",
       "</table>\n"
      ],
      "text/latex": [
       "\\begin{tabular}{r|llllllllllllllll}\n",
       " traitX & traitY & traitZ & itemA & itemB & itemC & itemD & itemE & itemF & itemG & category1 & category2 & category3 & categoryI & categoryII & categoryIII\\\\\n",
       "\\hline\n",
       "\t 61       & 60       & 31       & 0        & 0        & 1        & 0        & 1        & 1        & 1        & 2        &  3       & Elephant & 2        & 3        & Elephant\\\\\n",
       "\t 39       & 50       & 49       & 1        & 1        & 1        & 0        & 1        & 1        & 1        & 1        &  3       & Cat      & 1        & 3        & Cat     \\\\\n",
       "\t 50       & 28       & 55       & 1        & 0        & 0        & 0        & 0        & 1        & 0        & 1        &  2       & Elephant & 1        & 2        & Elephant\\\\\n",
       "\t 40       & 50       & 57       & 0        & 0        & 0        & 1        & 0        & 0        & 1        & 1        &  9       & Cat      & 1        & 9        & Cat     \\\\\n",
       "\t 39       & 32       & 65       & 1        & 0        & 0        & 1        & 0        & 1        & 0        & 1        & 10       & Elephant & 1        & 10       & Elephant\\\\\n",
       "\t 48       & 42       & 55       & 1        & 1        & 0        & 1        & 1        & 1        & 0        & 1        &  1       & Cat      & 1        & 1        & Cat     \\\\\n",
       "\\end{tabular}\n"
      ],
      "text/markdown": [
       "\n",
       "| traitX | traitY | traitZ | itemA | itemB | itemC | itemD | itemE | itemF | itemG | category1 | category2 | category3 | categoryI | categoryII | categoryIII |\n",
       "|---|---|---|---|---|---|---|---|---|---|---|---|---|---|---|---|\n",
       "| 61       | 60       | 31       | 0        | 0        | 1        | 0        | 1        | 1        | 1        | 2        |  3       | Elephant | 2        | 3        | Elephant |\n",
       "| 39       | 50       | 49       | 1        | 1        | 1        | 0        | 1        | 1        | 1        | 1        |  3       | Cat      | 1        | 3        | Cat      |\n",
       "| 50       | 28       | 55       | 1        | 0        | 0        | 0        | 0        | 1        | 0        | 1        |  2       | Elephant | 1        | 2        | Elephant |\n",
       "| 40       | 50       | 57       | 0        | 0        | 0        | 1        | 0        | 0        | 1        | 1        |  9       | Cat      | 1        | 9        | Cat      |\n",
       "| 39       | 32       | 65       | 1        | 0        | 0        | 1        | 0        | 1        | 0        | 1        | 10       | Elephant | 1        | 10       | Elephant |\n",
       "| 48       | 42       | 55       | 1        | 1        | 0        | 1        | 1        | 1        | 0        | 1        |  1       | Cat      | 1        | 1        | Cat      |\n",
       "\n"
      ],
      "text/plain": [
       "  traitX traitY traitZ itemA itemB itemC itemD itemE itemF itemG category1\n",
       "1 61     60     31     0     0     1     0     1     1     1     2        \n",
       "2 39     50     49     1     1     1     0     1     1     1     1        \n",
       "3 50     28     55     1     0     0     0     0     1     0     1        \n",
       "4 40     50     57     0     0     0     1     0     0     1     1        \n",
       "5 39     32     65     1     0     0     1     0     1     0     1        \n",
       "6 48     42     55     1     1     0     1     1     1     0     1        \n",
       "  category2 category3 categoryI categoryII categoryIII\n",
       "1  3        Elephant  2         3          Elephant   \n",
       "2  3        Cat       1         3          Cat        \n",
       "3  2        Elephant  1         2          Elephant   \n",
       "4  9        Cat       1         9          Cat        \n",
       "5 10        Elephant  1         10         Elephant   \n",
       "6  1        Cat       1         1          Cat        "
      ]
     },
     "metadata": {},
     "output_type": "display_data"
    }
   ],
   "source": [
    "head(d)"
   ]
  },
  {
   "cell_type": "markdown",
   "metadata": {},
   "source": [
    "# For trait X\n",
    "## Model"
   ]
  },
  {
   "cell_type": "code",
   "execution_count": 6,
   "metadata": {},
   "outputs": [
    {
     "data": {
      "text/html": [
       "<table>\n",
       "<thead><tr><th></th><th scope=col>traitX</th><th scope=col>traitY</th><th scope=col>traitZ</th><th scope=col>itemA</th><th scope=col>itemB</th><th scope=col>itemC</th><th scope=col>itemD</th><th scope=col>itemE</th><th scope=col>itemF</th><th scope=col>itemG</th><th scope=col>category1</th><th scope=col>category2</th></tr></thead>\n",
       "<tbody>\n",
       "\t<tr><th scope=row>traitX</th><td> 1.00000000  </td><td>-0.034807288 </td><td>-0.02020283  </td><td>-0.017062932 </td><td> 0.0125354792</td><td> 0.16184698  </td><td>0.04614069   </td><td> 0.205004784 </td><td> 0.203719353 </td><td> 0.169610609 </td><td>-0.089377886 </td><td>-0.2314050388</td></tr>\n",
       "\t<tr><th scope=row>traitY</th><td>-0.03480729  </td><td> 1.000000000 </td><td>-0.02060729  </td><td> 0.004983899 </td><td> 0.1261166343</td><td> 0.01659569  </td><td>0.14157210   </td><td> 0.127667902 </td><td>-0.019174383 </td><td> 0.107462841 </td><td> 0.073202692 </td><td>-0.1001159215</td></tr>\n",
       "\t<tr><th scope=row>traitZ</th><td>-0.02020283  </td><td>-0.020607293 </td><td> 1.00000000  </td><td> 0.210511573 </td><td>-0.0800841886</td><td> 0.03074428  </td><td>0.15838230   </td><td> 0.036416432 </td><td> 0.187976275 </td><td> 0.173497535 </td><td>-0.010167369 </td><td> 0.0150856012</td></tr>\n",
       "\t<tr><th scope=row>itemA</th><td>-0.01706293  </td><td> 0.004983899 </td><td> 0.21051157  </td><td> 1.000000000 </td><td> 0.0132912828</td><td>-0.02808225  </td><td>0.05333550   </td><td> 0.009888453 </td><td> 0.087297265 </td><td> 0.030144844 </td><td>-0.037326152 </td><td> 0.0032592871</td></tr>\n",
       "\t<tr><th scope=row>itemB</th><td> 0.01253548  </td><td> 0.126116634 </td><td>-0.08008419  </td><td> 0.013291283 </td><td> 1.0000000000</td><td> 0.06058169  </td><td>0.04235235   </td><td> 0.029118682 </td><td>-0.042233545 </td><td> 0.040032003 </td><td>-0.043812587 </td><td> 0.0009832249</td></tr>\n",
       "\t<tr><th scope=row>itemC</th><td> 0.16184698  </td><td> 0.016595687 </td><td> 0.03074428  </td><td>-0.028082248 </td><td> 0.0605816888</td><td> 1.00000000  </td><td>0.01310123   </td><td> 0.025275505 </td><td> 0.042644255 </td><td> 0.051961634 </td><td>-0.040565271 </td><td> 0.0206550632</td></tr>\n",
       "\t<tr><th scope=row>itemD</th><td> 0.04614069  </td><td> 0.141572102 </td><td> 0.15838230  </td><td> 0.053335500 </td><td> 0.0423523488</td><td> 0.01310123  </td><td>1.00000000   </td><td> 0.088492043 </td><td> 0.072414125 </td><td> 0.089978097 </td><td> 0.021672366 </td><td> 0.0209350037</td></tr>\n",
       "\t<tr><th scope=row>itemE</th><td> 0.20500478  </td><td> 0.127667902 </td><td> 0.03641643  </td><td> 0.009888453 </td><td> 0.0291186823</td><td> 0.02527550  </td><td>0.08849204   </td><td> 1.000000000 </td><td> 0.039296759 </td><td> 0.132214765 </td><td>-0.017084511 </td><td>-0.0181404126</td></tr>\n",
       "\t<tr><th scope=row>itemF</th><td> 0.20371935  </td><td>-0.019174383 </td><td> 0.18797628  </td><td> 0.087297265 </td><td>-0.0422335448</td><td> 0.04264426  </td><td>0.07241413   </td><td> 0.039296759 </td><td> 1.000000000 </td><td> 0.074041626 </td><td> 0.006225407 </td><td>-0.0313141529</td></tr>\n",
       "\t<tr><th scope=row>itemG</th><td> 0.16961061  </td><td> 0.107462841 </td><td> 0.17349754  </td><td> 0.030144844 </td><td> 0.0400320034</td><td> 0.05196163  </td><td>0.08997810   </td><td> 0.132214765 </td><td> 0.074041626 </td><td> 1.000000000 </td><td>-0.036031603 </td><td>-0.0045046262</td></tr>\n",
       "\t<tr><th scope=row>category1</th><td>-0.08937789  </td><td> 0.073202692 </td><td>-0.01016737  </td><td>-0.037326152 </td><td>-0.0438125873</td><td>-0.04056527  </td><td>0.02167237   </td><td>-0.017084511 </td><td> 0.006225407 </td><td>-0.036031603 </td><td> 1.000000000 </td><td>-0.0273692038</td></tr>\n",
       "\t<tr><th scope=row>category2</th><td>-0.23140504  </td><td>-0.100115921 </td><td> 0.01508560  </td><td> 0.003259287 </td><td> 0.0009832249</td><td> 0.02065506  </td><td>0.02093500   </td><td>-0.018140413 </td><td>-0.031314153 </td><td>-0.004504626 </td><td>-0.027369204 </td><td> 1.0000000000</td></tr>\n",
       "</tbody>\n",
       "</table>\n"
      ],
      "text/latex": [
       "\\begin{tabular}{r|llllllllllll}\n",
       "  & traitX & traitY & traitZ & itemA & itemB & itemC & itemD & itemE & itemF & itemG & category1 & category2\\\\\n",
       "\\hline\n",
       "\ttraitX &  1.00000000   & -0.034807288  & -0.02020283   & -0.017062932  &  0.0125354792 &  0.16184698   & 0.04614069    &  0.205004784  &  0.203719353  &  0.169610609  & -0.089377886  & -0.2314050388\\\\\n",
       "\ttraitY & -0.03480729   &  1.000000000  & -0.02060729   &  0.004983899  &  0.1261166343 &  0.01659569   & 0.14157210    &  0.127667902  & -0.019174383  &  0.107462841  &  0.073202692  & -0.1001159215\\\\\n",
       "\ttraitZ & -0.02020283   & -0.020607293  &  1.00000000   &  0.210511573  & -0.0800841886 &  0.03074428   & 0.15838230    &  0.036416432  &  0.187976275  &  0.173497535  & -0.010167369  &  0.0150856012\\\\\n",
       "\titemA & -0.01706293   &  0.004983899  &  0.21051157   &  1.000000000  &  0.0132912828 & -0.02808225   & 0.05333550    &  0.009888453  &  0.087297265  &  0.030144844  & -0.037326152  &  0.0032592871\\\\\n",
       "\titemB &  0.01253548   &  0.126116634  & -0.08008419   &  0.013291283  &  1.0000000000 &  0.06058169   & 0.04235235    &  0.029118682  & -0.042233545  &  0.040032003  & -0.043812587  &  0.0009832249\\\\\n",
       "\titemC &  0.16184698   &  0.016595687  &  0.03074428   & -0.028082248  &  0.0605816888 &  1.00000000   & 0.01310123    &  0.025275505  &  0.042644255  &  0.051961634  & -0.040565271  &  0.0206550632\\\\\n",
       "\titemD &  0.04614069   &  0.141572102  &  0.15838230   &  0.053335500  &  0.0423523488 &  0.01310123   & 1.00000000    &  0.088492043  &  0.072414125  &  0.089978097  &  0.021672366  &  0.0209350037\\\\\n",
       "\titemE &  0.20500478   &  0.127667902  &  0.03641643   &  0.009888453  &  0.0291186823 &  0.02527550   & 0.08849204    &  1.000000000  &  0.039296759  &  0.132214765  & -0.017084511  & -0.0181404126\\\\\n",
       "\titemF &  0.20371935   & -0.019174383  &  0.18797628   &  0.087297265  & -0.0422335448 &  0.04264426   & 0.07241413    &  0.039296759  &  1.000000000  &  0.074041626  &  0.006225407  & -0.0313141529\\\\\n",
       "\titemG &  0.16961061   &  0.107462841  &  0.17349754   &  0.030144844  &  0.0400320034 &  0.05196163   & 0.08997810    &  0.132214765  &  0.074041626  &  1.000000000  & -0.036031603  & -0.0045046262\\\\\n",
       "\tcategory1 & -0.08937789   &  0.073202692  & -0.01016737   & -0.037326152  & -0.0438125873 & -0.04056527   & 0.02167237    & -0.017084511  &  0.006225407  & -0.036031603  &  1.000000000  & -0.0273692038\\\\\n",
       "\tcategory2 & -0.23140504   & -0.100115921  &  0.01508560   &  0.003259287  &  0.0009832249 &  0.02065506   & 0.02093500    & -0.018140413  & -0.031314153  & -0.004504626  & -0.027369204  &  1.0000000000\\\\\n",
       "\\end{tabular}\n"
      ],
      "text/markdown": [
       "\n",
       "| <!--/--> | traitX | traitY | traitZ | itemA | itemB | itemC | itemD | itemE | itemF | itemG | category1 | category2 |\n",
       "|---|---|---|---|---|---|---|---|---|---|---|---|---|\n",
       "| traitX |  1.00000000   | -0.034807288  | -0.02020283   | -0.017062932  |  0.0125354792 |  0.16184698   | 0.04614069    |  0.205004784  |  0.203719353  |  0.169610609  | -0.089377886  | -0.2314050388 |\n",
       "| traitY | -0.03480729   |  1.000000000  | -0.02060729   |  0.004983899  |  0.1261166343 |  0.01659569   | 0.14157210    |  0.127667902  | -0.019174383  |  0.107462841  |  0.073202692  | -0.1001159215 |\n",
       "| traitZ | -0.02020283   | -0.020607293  |  1.00000000   |  0.210511573  | -0.0800841886 |  0.03074428   | 0.15838230    |  0.036416432  |  0.187976275  |  0.173497535  | -0.010167369  |  0.0150856012 |\n",
       "| itemA | -0.01706293   |  0.004983899  |  0.21051157   |  1.000000000  |  0.0132912828 | -0.02808225   | 0.05333550    |  0.009888453  |  0.087297265  |  0.030144844  | -0.037326152  |  0.0032592871 |\n",
       "| itemB |  0.01253548   |  0.126116634  | -0.08008419   |  0.013291283  |  1.0000000000 |  0.06058169   | 0.04235235    |  0.029118682  | -0.042233545  |  0.040032003  | -0.043812587  |  0.0009832249 |\n",
       "| itemC |  0.16184698   |  0.016595687  |  0.03074428   | -0.028082248  |  0.0605816888 |  1.00000000   | 0.01310123    |  0.025275505  |  0.042644255  |  0.051961634  | -0.040565271  |  0.0206550632 |\n",
       "| itemD |  0.04614069   |  0.141572102  |  0.15838230   |  0.053335500  |  0.0423523488 |  0.01310123   | 1.00000000    |  0.088492043  |  0.072414125  |  0.089978097  |  0.021672366  |  0.0209350037 |\n",
       "| itemE |  0.20500478   |  0.127667902  |  0.03641643   |  0.009888453  |  0.0291186823 |  0.02527550   | 0.08849204    |  1.000000000  |  0.039296759  |  0.132214765  | -0.017084511  | -0.0181404126 |\n",
       "| itemF |  0.20371935   | -0.019174383  |  0.18797628   |  0.087297265  | -0.0422335448 |  0.04264426   | 0.07241413    |  0.039296759  |  1.000000000  |  0.074041626  |  0.006225407  | -0.0313141529 |\n",
       "| itemG |  0.16961061   |  0.107462841  |  0.17349754   |  0.030144844  |  0.0400320034 |  0.05196163   | 0.08997810    |  0.132214765  |  0.074041626  |  1.000000000  | -0.036031603  | -0.0045046262 |\n",
       "| category1 | -0.08937789   |  0.073202692  | -0.01016737   | -0.037326152  | -0.0438125873 | -0.04056527   | 0.02167237    | -0.017084511  |  0.006225407  | -0.036031603  |  1.000000000  | -0.0273692038 |\n",
       "| category2 | -0.23140504   | -0.100115921  |  0.01508560   |  0.003259287  |  0.0009832249 |  0.02065506   | 0.02093500    | -0.018140413  | -0.031314153  | -0.004504626  | -0.027369204  |  1.0000000000 |\n",
       "\n"
      ],
      "text/plain": [
       "          traitX      traitY       traitZ      itemA        itemB        \n",
       "traitX     1.00000000 -0.034807288 -0.02020283 -0.017062932  0.0125354792\n",
       "traitY    -0.03480729  1.000000000 -0.02060729  0.004983899  0.1261166343\n",
       "traitZ    -0.02020283 -0.020607293  1.00000000  0.210511573 -0.0800841886\n",
       "itemA     -0.01706293  0.004983899  0.21051157  1.000000000  0.0132912828\n",
       "itemB      0.01253548  0.126116634 -0.08008419  0.013291283  1.0000000000\n",
       "itemC      0.16184698  0.016595687  0.03074428 -0.028082248  0.0605816888\n",
       "itemD      0.04614069  0.141572102  0.15838230  0.053335500  0.0423523488\n",
       "itemE      0.20500478  0.127667902  0.03641643  0.009888453  0.0291186823\n",
       "itemF      0.20371935 -0.019174383  0.18797628  0.087297265 -0.0422335448\n",
       "itemG      0.16961061  0.107462841  0.17349754  0.030144844  0.0400320034\n",
       "category1 -0.08937789  0.073202692 -0.01016737 -0.037326152 -0.0438125873\n",
       "category2 -0.23140504 -0.100115921  0.01508560  0.003259287  0.0009832249\n",
       "          itemC       itemD      itemE        itemF        itemG       \n",
       "traitX     0.16184698 0.04614069  0.205004784  0.203719353  0.169610609\n",
       "traitY     0.01659569 0.14157210  0.127667902 -0.019174383  0.107462841\n",
       "traitZ     0.03074428 0.15838230  0.036416432  0.187976275  0.173497535\n",
       "itemA     -0.02808225 0.05333550  0.009888453  0.087297265  0.030144844\n",
       "itemB      0.06058169 0.04235235  0.029118682 -0.042233545  0.040032003\n",
       "itemC      1.00000000 0.01310123  0.025275505  0.042644255  0.051961634\n",
       "itemD      0.01310123 1.00000000  0.088492043  0.072414125  0.089978097\n",
       "itemE      0.02527550 0.08849204  1.000000000  0.039296759  0.132214765\n",
       "itemF      0.04264426 0.07241413  0.039296759  1.000000000  0.074041626\n",
       "itemG      0.05196163 0.08997810  0.132214765  0.074041626  1.000000000\n",
       "category1 -0.04056527 0.02167237 -0.017084511  0.006225407 -0.036031603\n",
       "category2  0.02065506 0.02093500 -0.018140413 -0.031314153 -0.004504626\n",
       "          category1    category2    \n",
       "traitX    -0.089377886 -0.2314050388\n",
       "traitY     0.073202692 -0.1001159215\n",
       "traitZ    -0.010167369  0.0150856012\n",
       "itemA     -0.037326152  0.0032592871\n",
       "itemB     -0.043812587  0.0009832249\n",
       "itemC     -0.040565271  0.0206550632\n",
       "itemD      0.021672366  0.0209350037\n",
       "itemE     -0.017084511 -0.0181404126\n",
       "itemF      0.006225407 -0.0313141529\n",
       "itemG     -0.036031603 -0.0045046262\n",
       "category1  1.000000000 -0.0273692038\n",
       "category2 -0.027369204  1.0000000000"
      ]
     },
     "metadata": {},
     "output_type": "display_data"
    }
   ],
   "source": [
    "cor(d[1:12])"
   ]
  },
  {
   "cell_type": "code",
   "execution_count": 7,
   "metadata": {},
   "outputs": [
    {
     "data": {
      "text/plain": [
       "\n",
       "Call:\n",
       "lm(formula = traitX ~ itemC + itemE + itemF + itemG + categoryI + \n",
       "    categoryII, data = d)\n",
       "\n",
       "Residuals:\n",
       "     Min       1Q   Median       3Q      Max \n",
       "-27.4863  -4.4898  -0.3175   4.3690  30.8659 \n",
       "\n",
       "Coefficients:\n",
       "             Estimate Std. Error t value Pr(>|t|)    \n",
       "(Intercept)   53.1270     0.8745  60.752  < 2e-16 ***\n",
       "itemC          2.5948     0.4641   5.591 2.93e-08 ***\n",
       "itemE          2.6565     0.4704   5.648 2.13e-08 ***\n",
       "itemF          2.8394     0.4644   6.115 1.39e-09 ***\n",
       "itemG          2.0444     0.4695   4.355 1.47e-05 ***\n",
       "categoryI2    -1.6858     0.4637  -3.636 0.000291 ***\n",
       "categoryII2   -7.2810     1.0264  -7.093 2.50e-12 ***\n",
       "categoryII3  -10.4320     1.0274 -10.153  < 2e-16 ***\n",
       "categoryII4  -10.8073     1.0327 -10.465  < 2e-16 ***\n",
       "categoryII5  -10.2664     1.0174 -10.091  < 2e-16 ***\n",
       "categoryII6  -10.3142     1.0488  -9.834  < 2e-16 ***\n",
       "categoryII7  -10.2800     0.9638 -10.666  < 2e-16 ***\n",
       "categoryII8   -9.5046     1.0050  -9.458  < 2e-16 ***\n",
       "categoryII9   -9.8029     1.0156  -9.652  < 2e-16 ***\n",
       "categoryII10 -10.2529     1.0259  -9.994  < 2e-16 ***\n",
       "---\n",
       "Signif. codes:  0 '***' 0.001 '**' 0.01 '*' 0.05 '.' 0.1 ' ' 1\n",
       "\n",
       "Residual standard error: 7.299 on 985 degrees of freedom\n",
       "Multiple R-squared:  0.2668,\tAdjusted R-squared:  0.2563 \n",
       "F-statistic:  25.6 on 14 and 985 DF,  p-value: < 2.2e-16\n"
      ]
     },
     "metadata": {},
     "output_type": "display_data"
    },
    {
     "name": "stdout",
     "output_type": "stream",
     "text": [
      "---------------\n",
      "\n",
      "\n",
      "ALL GOOD!\n"
     ]
    }
   ],
   "source": [
    "model <- lm(traitX ~ itemC + itemE + itemF + itemG + categoryI + categoryII, data = d)\n",
    "summary(model)\n",
    "cat('---------------\\n\\n\\n')\n",
    "if(linearRegressionAsumptionsCheck(model)){\n",
    "    cat('ALL GOOD!\\n')\n",
    "} else {\n",
    "    cat('Blia...\\n')\n",
    "}"
   ]
  },
  {
   "cell_type": "code",
   "execution_count": 8,
   "metadata": {},
   "outputs": [
    {
     "data": {
      "text/html": [
       "<table>\n",
       "<thead><tr><th></th><th scope=col>Estimate</th><th scope=col>Std. Error</th><th scope=col>t value</th><th scope=col>Pr(&gt;|t|)</th></tr></thead>\n",
       "<tbody>\n",
       "\t<tr><th scope=row>(Intercept)</th><td> 53.126977  </td><td>0.8744833   </td><td> 60.752419  </td><td>0.000000e+00</td></tr>\n",
       "\t<tr><th scope=row>itemC</th><td>  2.594819  </td><td>0.4641202   </td><td>  5.590834  </td><td>2.925750e-08</td></tr>\n",
       "\t<tr><th scope=row>itemE</th><td>  2.656480  </td><td>0.4703516   </td><td>  5.647860  </td><td>2.125029e-08</td></tr>\n",
       "\t<tr><th scope=row>itemF</th><td>  2.839437  </td><td>0.4643771   </td><td>  6.114508  </td><td>1.394467e-09</td></tr>\n",
       "\t<tr><th scope=row>itemG</th><td>  2.044438  </td><td>0.4694936   </td><td>  4.354560  </td><td>1.472780e-05</td></tr>\n",
       "\t<tr><th scope=row>categoryI2</th><td> -1.685814  </td><td>0.4636708   </td><td> -3.635800  </td><td>2.914640e-04</td></tr>\n",
       "\t<tr><th scope=row>categoryII2</th><td> -7.280997  </td><td>1.0264472   </td><td> -7.093396  </td><td>2.497137e-12</td></tr>\n",
       "\t<tr><th scope=row>categoryII3</th><td>-10.431998  </td><td>1.0274378   </td><td>-10.153411  </td><td>4.190840e-23</td></tr>\n",
       "\t<tr><th scope=row>categoryII4</th><td>-10.807326  </td><td>1.0327371   </td><td>-10.464740  </td><td>2.252125e-24</td></tr>\n",
       "\t<tr><th scope=row>categoryII5</th><td>-10.266420  </td><td>1.0173538   </td><td>-10.091298  </td><td>7.447177e-23</td></tr>\n",
       "\t<tr><th scope=row>categoryII6</th><td>-10.314159  </td><td>1.0487829   </td><td> -9.834408  </td><td>7.792840e-22</td></tr>\n",
       "\t<tr><th scope=row>categoryII7</th><td>-10.279954  </td><td>0.9638047   </td><td>-10.666013  </td><td>3.279300e-25</td></tr>\n",
       "\t<tr><th scope=row>categoryII8</th><td> -9.504560  </td><td>1.0049701   </td><td> -9.457555  </td><td>2.234948e-20</td></tr>\n",
       "\t<tr><th scope=row>categoryII9</th><td> -9.802935  </td><td>1.0156430   </td><td> -9.651949  </td><td>4.009959e-21</td></tr>\n",
       "\t<tr><th scope=row>categoryII10</th><td>-10.252899  </td><td>1.0259352   </td><td> -9.993710  </td><td>1.827375e-22</td></tr>\n",
       "</tbody>\n",
       "</table>\n"
      ],
      "text/latex": [
       "\\begin{tabular}{r|llll}\n",
       "  & Estimate & Std. Error & t value & Pr(>\\textbar{}t\\textbar{})\\\\\n",
       "\\hline\n",
       "\t(Intercept) &  53.126977   & 0.8744833    &  60.752419   & 0.000000e+00\\\\\n",
       "\titemC &   2.594819   & 0.4641202    &   5.590834   & 2.925750e-08\\\\\n",
       "\titemE &   2.656480   & 0.4703516    &   5.647860   & 2.125029e-08\\\\\n",
       "\titemF &   2.839437   & 0.4643771    &   6.114508   & 1.394467e-09\\\\\n",
       "\titemG &   2.044438   & 0.4694936    &   4.354560   & 1.472780e-05\\\\\n",
       "\tcategoryI2 &  -1.685814   & 0.4636708    &  -3.635800   & 2.914640e-04\\\\\n",
       "\tcategoryII2 &  -7.280997   & 1.0264472    &  -7.093396   & 2.497137e-12\\\\\n",
       "\tcategoryII3 & -10.431998   & 1.0274378    & -10.153411   & 4.190840e-23\\\\\n",
       "\tcategoryII4 & -10.807326   & 1.0327371    & -10.464740   & 2.252125e-24\\\\\n",
       "\tcategoryII5 & -10.266420   & 1.0173538    & -10.091298   & 7.447177e-23\\\\\n",
       "\tcategoryII6 & -10.314159   & 1.0487829    &  -9.834408   & 7.792840e-22\\\\\n",
       "\tcategoryII7 & -10.279954   & 0.9638047    & -10.666013   & 3.279300e-25\\\\\n",
       "\tcategoryII8 &  -9.504560   & 1.0049701    &  -9.457555   & 2.234948e-20\\\\\n",
       "\tcategoryII9 &  -9.802935   & 1.0156430    &  -9.651949   & 4.009959e-21\\\\\n",
       "\tcategoryII10 & -10.252899   & 1.0259352    &  -9.993710   & 1.827375e-22\\\\\n",
       "\\end{tabular}\n"
      ],
      "text/markdown": [
       "\n",
       "| <!--/--> | Estimate | Std. Error | t value | Pr(>|t|) |\n",
       "|---|---|---|---|---|\n",
       "| (Intercept) |  53.126977   | 0.8744833    |  60.752419   | 0.000000e+00 |\n",
       "| itemC |   2.594819   | 0.4641202    |   5.590834   | 2.925750e-08 |\n",
       "| itemE |   2.656480   | 0.4703516    |   5.647860   | 2.125029e-08 |\n",
       "| itemF |   2.839437   | 0.4643771    |   6.114508   | 1.394467e-09 |\n",
       "| itemG |   2.044438   | 0.4694936    |   4.354560   | 1.472780e-05 |\n",
       "| categoryI2 |  -1.685814   | 0.4636708    |  -3.635800   | 2.914640e-04 |\n",
       "| categoryII2 |  -7.280997   | 1.0264472    |  -7.093396   | 2.497137e-12 |\n",
       "| categoryII3 | -10.431998   | 1.0274378    | -10.153411   | 4.190840e-23 |\n",
       "| categoryII4 | -10.807326   | 1.0327371    | -10.464740   | 2.252125e-24 |\n",
       "| categoryII5 | -10.266420   | 1.0173538    | -10.091298   | 7.447177e-23 |\n",
       "| categoryII6 | -10.314159   | 1.0487829    |  -9.834408   | 7.792840e-22 |\n",
       "| categoryII7 | -10.279954   | 0.9638047    | -10.666013   | 3.279300e-25 |\n",
       "| categoryII8 |  -9.504560   | 1.0049701    |  -9.457555   | 2.234948e-20 |\n",
       "| categoryII9 |  -9.802935   | 1.0156430    |  -9.651949   | 4.009959e-21 |\n",
       "| categoryII10 | -10.252899   | 1.0259352    |  -9.993710   | 1.827375e-22 |\n",
       "\n"
      ],
      "text/plain": [
       "             Estimate   Std. Error t value    Pr(>|t|)    \n",
       "(Intercept)   53.126977 0.8744833   60.752419 0.000000e+00\n",
       "itemC          2.594819 0.4641202    5.590834 2.925750e-08\n",
       "itemE          2.656480 0.4703516    5.647860 2.125029e-08\n",
       "itemF          2.839437 0.4643771    6.114508 1.394467e-09\n",
       "itemG          2.044438 0.4694936    4.354560 1.472780e-05\n",
       "categoryI2    -1.685814 0.4636708   -3.635800 2.914640e-04\n",
       "categoryII2   -7.280997 1.0264472   -7.093396 2.497137e-12\n",
       "categoryII3  -10.431998 1.0274378  -10.153411 4.190840e-23\n",
       "categoryII4  -10.807326 1.0327371  -10.464740 2.252125e-24\n",
       "categoryII5  -10.266420 1.0173538  -10.091298 7.447177e-23\n",
       "categoryII6  -10.314159 1.0487829   -9.834408 7.792840e-22\n",
       "categoryII7  -10.279954 0.9638047  -10.666013 3.279300e-25\n",
       "categoryII8   -9.504560 1.0049701   -9.457555 2.234948e-20\n",
       "categoryII9   -9.802935 1.0156430   -9.651949 4.009959e-21\n",
       "categoryII10 -10.252899 1.0259352   -9.993710 1.827375e-22"
      ]
     },
     "metadata": {},
     "output_type": "display_data"
    }
   ],
   "source": [
    "summary(model)$coefficients"
   ]
  },
  {
   "cell_type": "markdown",
   "metadata": {},
   "source": [
    "## Assumptions:\n",
    "- independence of errors: for DW sig value = assumption is violated\n",
    "- not colinear: violation if vif any value > 10 or average value considerably > 1 or tolerance < .2"
   ]
  },
  {
   "cell_type": "markdown",
   "metadata": {},
   "source": [
    "Random error and homoscedacity:\n",
    "\n",
    "normal should appear approximately equally distributed (no real pattern of data)"
   ]
  },
  {
   "cell_type": "code",
   "execution_count": 9,
   "metadata": {},
   "outputs": [
    {
     "data": {
      "image/png": "[encoded data removed]",
      "text/plain": [
       "Plot with title \"Histogram of rstudent(model)\""
      ]
     },
     "metadata": {},
     "output_type": "display_data"
    }
   ],
   "source": [
    "par(mfrow=c(1,3))\n",
    "plot(model, which=1:2)\n",
    "hist(rstudent(model))\n",
    "par(mfrow=c(1,1))"
   ]
  },
  {
   "cell_type": "code",
   "execution_count": 10,
   "metadata": {},
   "outputs": [],
   "source": [
    "# bootReg <- function(formula, data, i){\n",
    "#     d <- data[i,]\n",
    "#     fit <- lm(formula, data = d)\n",
    "#     return(coef(fit))\n",
    "# }\n",
    "# robustModel <- boot(statistic = bootReg, formula = traitX ~ itemC + itemE + itemF + itemG + category1 + category2, data = d, R = 2000)"
   ]
  },
  {
   "cell_type": "code",
   "execution_count": 11,
   "metadata": {},
   "outputs": [],
   "source": [
    "# coefs <- c()\n",
    "# predictors <- c('intercept', 'itemC', 'itemE', 'itemF', 'itemG', 'category1', 'category2')\n",
    "# for(i in 1:length(predictors)){\n",
    "#     cat(predictors[i],'\\n')\n",
    "#     cat(boot.ci(robustModel, type = \"bca\", index = i)[['bca']][4], \n",
    "#         boot.ci(robustModel, type = \"bca\", index = i)[['bca']][5], '\\n')\n",
    "#     cat('-------------------------\\n\\n')\n",
    "#     coefs <- c(coefs, mean(boot.ci(robustModel, type = \"bca\", index = i)[['bca']][4:5]))\n",
    "# }\n",
    "\n",
    "# cat('traitX =', coefs[1], '+')\n",
    "# for(i in 2:length(predictors)){\n",
    "#     cat(coefs,'*', predictors[i])\n",
    "# }"
   ]
  },
  {
   "cell_type": "markdown",
   "metadata": {},
   "source": [
    "# For trait Y\n",
    "## Model"
   ]
  },
  {
   "cell_type": "code",
   "execution_count": 12,
   "metadata": {},
   "outputs": [],
   "source": [
    "# mapCat3 <- function(el){\n",
    "#     if(el == 'Cat' || el == 'Dog') return('CatOrDog')\n",
    "#     else return(as.character(el))\n",
    "# }\n",
    "\n",
    "d1 <- d\n",
    "d1[d1[, 'categoryII'] %in% 6:10, 'categoryII'] <- 10"
   ]
  },
  {
   "cell_type": "code",
   "execution_count": 13,
   "metadata": {},
   "outputs": [
    {
     "data": {
      "text/html": [
       "<table>\n",
       "<thead><tr><th scope=col>traitX</th><th scope=col>traitY</th><th scope=col>traitZ</th><th scope=col>itemA</th><th scope=col>itemB</th><th scope=col>itemC</th><th scope=col>itemD</th><th scope=col>itemE</th><th scope=col>itemF</th><th scope=col>itemG</th><th scope=col>category1</th><th scope=col>category2</th><th scope=col>category3</th><th scope=col>categoryI</th><th scope=col>categoryII</th><th scope=col>categoryIII</th></tr></thead>\n",
       "<tbody>\n",
       "\t<tr><td>61      </td><td>60      </td><td>31      </td><td>0       </td><td>0       </td><td>1       </td><td>0       </td><td>1       </td><td>1       </td><td>1       </td><td>2       </td><td> 3      </td><td>Elephant</td><td>2       </td><td>3       </td><td>Elephant</td></tr>\n",
       "\t<tr><td>39      </td><td>50      </td><td>49      </td><td>1       </td><td>1       </td><td>1       </td><td>0       </td><td>1       </td><td>1       </td><td>1       </td><td>1       </td><td> 3      </td><td>Cat     </td><td>1       </td><td>3       </td><td>Cat     </td></tr>\n",
       "\t<tr><td>50      </td><td>28      </td><td>55      </td><td>1       </td><td>0       </td><td>0       </td><td>0       </td><td>0       </td><td>1       </td><td>0       </td><td>1       </td><td> 2      </td><td>Elephant</td><td>1       </td><td>2       </td><td>Elephant</td></tr>\n",
       "\t<tr><td>40      </td><td>50      </td><td>57      </td><td>0       </td><td>0       </td><td>0       </td><td>1       </td><td>0       </td><td>0       </td><td>1       </td><td>1       </td><td> 9      </td><td>Cat     </td><td>1       </td><td>10      </td><td>Cat     </td></tr>\n",
       "\t<tr><td>39      </td><td>32      </td><td>65      </td><td>1       </td><td>0       </td><td>0       </td><td>1       </td><td>0       </td><td>1       </td><td>0       </td><td>1       </td><td>10      </td><td>Elephant</td><td>1       </td><td>10      </td><td>Elephant</td></tr>\n",
       "\t<tr><td>48      </td><td>42      </td><td>55      </td><td>1       </td><td>1       </td><td>0       </td><td>1       </td><td>1       </td><td>1       </td><td>0       </td><td>1       </td><td> 1      </td><td>Cat     </td><td>1       </td><td>1       </td><td>Cat     </td></tr>\n",
       "</tbody>\n",
       "</table>\n"
      ],
      "text/latex": [
       "\\begin{tabular}{r|llllllllllllllll}\n",
       " traitX & traitY & traitZ & itemA & itemB & itemC & itemD & itemE & itemF & itemG & category1 & category2 & category3 & categoryI & categoryII & categoryIII\\\\\n",
       "\\hline\n",
       "\t 61       & 60       & 31       & 0        & 0        & 1        & 0        & 1        & 1        & 1        & 2        &  3       & Elephant & 2        & 3        & Elephant\\\\\n",
       "\t 39       & 50       & 49       & 1        & 1        & 1        & 0        & 1        & 1        & 1        & 1        &  3       & Cat      & 1        & 3        & Cat     \\\\\n",
       "\t 50       & 28       & 55       & 1        & 0        & 0        & 0        & 0        & 1        & 0        & 1        &  2       & Elephant & 1        & 2        & Elephant\\\\\n",
       "\t 40       & 50       & 57       & 0        & 0        & 0        & 1        & 0        & 0        & 1        & 1        &  9       & Cat      & 1        & 10       & Cat     \\\\\n",
       "\t 39       & 32       & 65       & 1        & 0        & 0        & 1        & 0        & 1        & 0        & 1        & 10       & Elephant & 1        & 10       & Elephant\\\\\n",
       "\t 48       & 42       & 55       & 1        & 1        & 0        & 1        & 1        & 1        & 0        & 1        &  1       & Cat      & 1        & 1        & Cat     \\\\\n",
       "\\end{tabular}\n"
      ],
      "text/markdown": [
       "\n",
       "| traitX | traitY | traitZ | itemA | itemB | itemC | itemD | itemE | itemF | itemG | category1 | category2 | category3 | categoryI | categoryII | categoryIII |\n",
       "|---|---|---|---|---|---|---|---|---|---|---|---|---|---|---|---|\n",
       "| 61       | 60       | 31       | 0        | 0        | 1        | 0        | 1        | 1        | 1        | 2        |  3       | Elephant | 2        | 3        | Elephant |\n",
       "| 39       | 50       | 49       | 1        | 1        | 1        | 0        | 1        | 1        | 1        | 1        |  3       | Cat      | 1        | 3        | Cat      |\n",
       "| 50       | 28       | 55       | 1        | 0        | 0        | 0        | 0        | 1        | 0        | 1        |  2       | Elephant | 1        | 2        | Elephant |\n",
       "| 40       | 50       | 57       | 0        | 0        | 0        | 1        | 0        | 0        | 1        | 1        |  9       | Cat      | 1        | 10       | Cat      |\n",
       "| 39       | 32       | 65       | 1        | 0        | 0        | 1        | 0        | 1        | 0        | 1        | 10       | Elephant | 1        | 10       | Elephant |\n",
       "| 48       | 42       | 55       | 1        | 1        | 0        | 1        | 1        | 1        | 0        | 1        |  1       | Cat      | 1        | 1        | Cat      |\n",
       "\n"
      ],
      "text/plain": [
       "  traitX traitY traitZ itemA itemB itemC itemD itemE itemF itemG category1\n",
       "1 61     60     31     0     0     1     0     1     1     1     2        \n",
       "2 39     50     49     1     1     1     0     1     1     1     1        \n",
       "3 50     28     55     1     0     0     0     0     1     0     1        \n",
       "4 40     50     57     0     0     0     1     0     0     1     1        \n",
       "5 39     32     65     1     0     0     1     0     1     0     1        \n",
       "6 48     42     55     1     1     0     1     1     1     0     1        \n",
       "  category2 category3 categoryI categoryII categoryIII\n",
       "1  3        Elephant  2         3          Elephant   \n",
       "2  3        Cat       1         3          Cat        \n",
       "3  2        Elephant  1         2          Elephant   \n",
       "4  9        Cat       1         10         Cat        \n",
       "5 10        Elephant  1         10         Elephant   \n",
       "6  1        Cat       1         1          Cat        "
      ]
     },
     "metadata": {},
     "output_type": "display_data"
    }
   ],
   "source": [
    "head(d1)"
   ]
  },
  {
   "cell_type": "markdown",
   "metadata": {},
   "source": [
    "Some playing:"
   ]
  },
  {
   "cell_type": "code",
   "execution_count": 21,
   "metadata": {},
   "outputs": [
    {
     "data": {
      "text/html": [
       "<table>\n",
       "<thead><tr><th scope=col>Res.Df</th><th scope=col>RSS</th><th scope=col>Df</th><th scope=col>Sum of Sq</th><th scope=col>F</th><th scope=col>Pr(&gt;F)</th></tr></thead>\n",
       "<tbody>\n",
       "\t<tr><td>994         </td><td>118791.98   </td><td>NA          </td><td>      NA    </td><td>      NA    </td><td>          NA</td></tr>\n",
       "\t<tr><td>985         </td><td> 99555.72   </td><td> 9          </td><td>19236.27    </td><td>21.14698    </td><td>6.735622e-33</td></tr>\n",
       "</tbody>\n",
       "</table>\n"
      ],
      "text/latex": [
       "\\begin{tabular}{r|llllll}\n",
       " Res.Df & RSS & Df & Sum of Sq & F & Pr(>F)\\\\\n",
       "\\hline\n",
       "\t 994          & 118791.98    & NA           &       NA     &       NA     &           NA\\\\\n",
       "\t 985          &  99555.72    &  9           & 19236.27     & 21.14698     & 6.735622e-33\\\\\n",
       "\\end{tabular}\n"
      ],
      "text/markdown": [
       "\n",
       "| Res.Df | RSS | Df | Sum of Sq | F | Pr(>F) |\n",
       "|---|---|---|---|---|---|\n",
       "| 994          | 118791.98    | NA           |       NA     |       NA     |           NA |\n",
       "| 985          |  99555.72    |  9           | 19236.27     | 21.14698     | 6.735622e-33 |\n",
       "\n"
      ],
      "text/plain": [
       "  Res.Df RSS       Df Sum of Sq F        Pr(>F)      \n",
       "1 994    118791.98 NA       NA        NA           NA\n",
       "2 985     99555.72  9 19236.27  21.14698 6.735622e-33"
      ]
     },
     "metadata": {},
     "output_type": "display_data"
    }
   ],
   "source": [
    "model1 <- lm(traitY ~ itemB + itemD + itemE+ itemG + categoryI, data = d)\n",
    "model2 <- lm(traitY ~ itemB + itemD + itemE+ itemG + categoryI + categoryII, data = d)\n",
    "anova(model1, model2)"
   ]
  },
  {
   "cell_type": "markdown",
   "metadata": {},
   "source": [
    "---------"
   ]
  },
  {
   "cell_type": "code",
   "execution_count": 28,
   "metadata": {},
   "outputs": [
    {
     "data": {
      "text/plain": [
       "\n",
       "Call:\n",
       "lm(formula = traitY ~ itemB + itemD + itemE + itemG + categoryI, \n",
       "    data = d)\n",
       "\n",
       "Residuals:\n",
       "    Min      1Q  Median      3Q     Max \n",
       "-35.676  -8.354   0.956   7.649  39.310 \n",
       "\n",
       "Coefficients:\n",
       "            Estimate Std. Error t value Pr(>|t|)    \n",
       "(Intercept)  40.8657     0.7955  51.369  < 2e-16 ***\n",
       "itemB         2.6605     0.6933   3.837 0.000132 ***\n",
       "itemD         2.6594     0.6973   3.814 0.000145 ***\n",
       "itemE         2.3532     0.7018   3.353 0.000829 ***\n",
       "itemG         1.8249     0.7005   2.605 0.009326 ** \n",
       "categoryI2    1.8105     0.6929   2.613 0.009109 ** \n",
       "---\n",
       "Signif. codes:  0 '***' 0.001 '**' 0.01 '*' 0.05 '.' 0.1 ' ' 1\n",
       "\n",
       "Residual standard error: 10.93 on 994 degrees of freedom\n",
       "Multiple R-squared:  0.05962,\tAdjusted R-squared:  0.05489 \n",
       "F-statistic:  12.6 on 5 and 994 DF,  p-value: 6.895e-12\n"
      ]
     },
     "metadata": {},
     "output_type": "display_data"
    },
    {
     "name": "stdout",
     "output_type": "stream",
     "text": [
      "---------------\n",
      "\n",
      "\n",
      "ALL GOOD!\n"
     ]
    }
   ],
   "source": [
    "model <- lm(traitY ~ itemB + itemD + itemE + itemG + categoryI, data = d)\n",
    "summary(model)\n",
    "cat('---------------\\n\\n\\n')\n",
    "if(linearRegressionAsumptionsCheck(model)){\n",
    "    cat('ALL GOOD!\\n')\n",
    "} else {\n",
    "    cat('Blia...\\n')\n",
    "}"
   ]
  },
  {
   "cell_type": "code",
   "execution_count": 16,
   "metadata": {},
   "outputs": [
    {
     "data": {
      "image/png": "[encoded data removed]",
      "text/plain": [
       "Plot with title \"Histogram of rstudent(model)\""
      ]
     },
     "metadata": {},
     "output_type": "display_data"
    }
   ],
   "source": [
    "par(mfrow=c(1,3))\n",
    "plot(model, which=1:2)\n",
    "hist(rstudent(model))\n",
    "par(mfrow=c(1,1))"
   ]
  },
  {
   "cell_type": "code",
   "execution_count": 17,
   "metadata": {},
   "outputs": [
    {
     "data": {
      "text/html": [
       "<table>\n",
       "<thead><tr><th></th><th scope=col>Estimate</th><th scope=col>Std. Error</th><th scope=col>t value</th><th scope=col>Pr(&gt;|t|)</th></tr></thead>\n",
       "<tbody>\n",
       "\t<tr><th scope=row>(Intercept)</th><td>40.865654    </td><td>0.7955289    </td><td>51.369166    </td><td>5.419084e-282</td></tr>\n",
       "\t<tr><th scope=row>itemB</th><td> 2.660527    </td><td>0.6933499    </td><td> 3.837207    </td><td> 1.322934e-04</td></tr>\n",
       "\t<tr><th scope=row>itemD</th><td> 2.659356    </td><td>0.6972669    </td><td> 3.813971    </td><td> 1.451802e-04</td></tr>\n",
       "\t<tr><th scope=row>itemE</th><td> 2.353186    </td><td>0.7017783    </td><td> 3.353176    </td><td> 8.290458e-04</td></tr>\n",
       "\t<tr><th scope=row>itemG</th><td> 1.824872    </td><td>0.7005415    </td><td> 2.604945    </td><td> 9.326115e-03</td></tr>\n",
       "\t<tr><th scope=row>categoryI2</th><td> 1.810460    </td><td>0.6928533    </td><td> 2.613049    </td><td> 9.109351e-03</td></tr>\n",
       "</tbody>\n",
       "</table>\n"
      ],
      "text/latex": [
       "\\begin{tabular}{r|llll}\n",
       "  & Estimate & Std. Error & t value & Pr(>\\textbar{}t\\textbar{})\\\\\n",
       "\\hline\n",
       "\t(Intercept) & 40.865654     & 0.7955289     & 51.369166     & 5.419084e-282\\\\\n",
       "\titemB &  2.660527     & 0.6933499     &  3.837207     &  1.322934e-04\\\\\n",
       "\titemD &  2.659356     & 0.6972669     &  3.813971     &  1.451802e-04\\\\\n",
       "\titemE &  2.353186     & 0.7017783     &  3.353176     &  8.290458e-04\\\\\n",
       "\titemG &  1.824872     & 0.7005415     &  2.604945     &  9.326115e-03\\\\\n",
       "\tcategoryI2 &  1.810460     & 0.6928533     &  2.613049     &  9.109351e-03\\\\\n",
       "\\end{tabular}\n"
      ],
      "text/markdown": [
       "\n",
       "| <!--/--> | Estimate | Std. Error | t value | Pr(>|t|) |\n",
       "|---|---|---|---|---|\n",
       "| (Intercept) | 40.865654     | 0.7955289     | 51.369166     | 5.419084e-282 |\n",
       "| itemB |  2.660527     | 0.6933499     |  3.837207     |  1.322934e-04 |\n",
       "| itemD |  2.659356     | 0.6972669     |  3.813971     |  1.451802e-04 |\n",
       "| itemE |  2.353186     | 0.7017783     |  3.353176     |  8.290458e-04 |\n",
       "| itemG |  1.824872     | 0.7005415     |  2.604945     |  9.326115e-03 |\n",
       "| categoryI2 |  1.810460     | 0.6928533     |  2.613049     |  9.109351e-03 |\n",
       "\n"
      ],
      "text/plain": [
       "            Estimate  Std. Error t value   Pr(>|t|)     \n",
       "(Intercept) 40.865654 0.7955289  51.369166 5.419084e-282\n",
       "itemB        2.660527 0.6933499   3.837207  1.322934e-04\n",
       "itemD        2.659356 0.6972669   3.813971  1.451802e-04\n",
       "itemE        2.353186 0.7017783   3.353176  8.290458e-04\n",
       "itemG        1.824872 0.7005415   2.604945  9.326115e-03\n",
       "categoryI2   1.810460 0.6928533   2.613049  9.109351e-03"
      ]
     },
     "metadata": {},
     "output_type": "display_data"
    }
   ],
   "source": [
    "summary(model)$coefficients"
   ]
  },
  {
   "cell_type": "markdown",
   "metadata": {},
   "source": [
    "# For trait Z\n",
    "## Model"
   ]
  },
  {
   "cell_type": "code",
   "execution_count": 18,
   "metadata": {},
   "outputs": [
    {
     "data": {
      "text/html": [
       "<table>\n",
       "<thead><tr><th scope=col>traitX</th><th scope=col>traitY</th><th scope=col>traitZ</th><th scope=col>itemA</th><th scope=col>itemB</th><th scope=col>itemC</th><th scope=col>itemD</th><th scope=col>itemE</th><th scope=col>itemF</th><th scope=col>itemG</th><th scope=col>category1</th><th scope=col>category2</th><th scope=col>category3</th><th scope=col>categoryI</th><th scope=col>categoryII</th><th scope=col>categoryIII</th></tr></thead>\n",
       "<tbody>\n",
       "\t<tr><td>61      </td><td>60      </td><td>31      </td><td>0       </td><td>0       </td><td>1       </td><td>0       </td><td>1       </td><td>1       </td><td>1       </td><td>2       </td><td> 3      </td><td>Elephant</td><td>2       </td><td>3       </td><td>Elephant</td></tr>\n",
       "\t<tr><td>39      </td><td>50      </td><td>49      </td><td>1       </td><td>1       </td><td>1       </td><td>0       </td><td>1       </td><td>1       </td><td>1       </td><td>1       </td><td> 3      </td><td>Cat     </td><td>1       </td><td>3       </td><td>Cat     </td></tr>\n",
       "\t<tr><td>50      </td><td>28      </td><td>55      </td><td>1       </td><td>0       </td><td>0       </td><td>0       </td><td>0       </td><td>1       </td><td>0       </td><td>1       </td><td> 2      </td><td>Elephant</td><td>1       </td><td>2       </td><td>Elephant</td></tr>\n",
       "\t<tr><td>40      </td><td>50      </td><td>57      </td><td>0       </td><td>0       </td><td>0       </td><td>1       </td><td>0       </td><td>0       </td><td>1       </td><td>1       </td><td> 9      </td><td>Cat     </td><td>1       </td><td>9       </td><td>Cat     </td></tr>\n",
       "\t<tr><td>39      </td><td>32      </td><td>65      </td><td>1       </td><td>0       </td><td>0       </td><td>1       </td><td>0       </td><td>1       </td><td>0       </td><td>1       </td><td>10      </td><td>Elephant</td><td>1       </td><td>10      </td><td>Elephant</td></tr>\n",
       "\t<tr><td>48      </td><td>42      </td><td>55      </td><td>1       </td><td>1       </td><td>0       </td><td>1       </td><td>1       </td><td>1       </td><td>0       </td><td>1       </td><td> 1      </td><td>Cat     </td><td>1       </td><td>1       </td><td>Cat     </td></tr>\n",
       "</tbody>\n",
       "</table>\n"
      ],
      "text/latex": [
       "\\begin{tabular}{r|llllllllllllllll}\n",
       " traitX & traitY & traitZ & itemA & itemB & itemC & itemD & itemE & itemF & itemG & category1 & category2 & category3 & categoryI & categoryII & categoryIII\\\\\n",
       "\\hline\n",
       "\t 61       & 60       & 31       & 0        & 0        & 1        & 0        & 1        & 1        & 1        & 2        &  3       & Elephant & 2        & 3        & Elephant\\\\\n",
       "\t 39       & 50       & 49       & 1        & 1        & 1        & 0        & 1        & 1        & 1        & 1        &  3       & Cat      & 1        & 3        & Cat     \\\\\n",
       "\t 50       & 28       & 55       & 1        & 0        & 0        & 0        & 0        & 1        & 0        & 1        &  2       & Elephant & 1        & 2        & Elephant\\\\\n",
       "\t 40       & 50       & 57       & 0        & 0        & 0        & 1        & 0        & 0        & 1        & 1        &  9       & Cat      & 1        & 9        & Cat     \\\\\n",
       "\t 39       & 32       & 65       & 1        & 0        & 0        & 1        & 0        & 1        & 0        & 1        & 10       & Elephant & 1        & 10       & Elephant\\\\\n",
       "\t 48       & 42       & 55       & 1        & 1        & 0        & 1        & 1        & 1        & 0        & 1        &  1       & Cat      & 1        & 1        & Cat     \\\\\n",
       "\\end{tabular}\n"
      ],
      "text/markdown": [
       "\n",
       "| traitX | traitY | traitZ | itemA | itemB | itemC | itemD | itemE | itemF | itemG | category1 | category2 | category3 | categoryI | categoryII | categoryIII |\n",
       "|---|---|---|---|---|---|---|---|---|---|---|---|---|---|---|---|\n",
       "| 61       | 60       | 31       | 0        | 0        | 1        | 0        | 1        | 1        | 1        | 2        |  3       | Elephant | 2        | 3        | Elephant |\n",
       "| 39       | 50       | 49       | 1        | 1        | 1        | 0        | 1        | 1        | 1        | 1        |  3       | Cat      | 1        | 3        | Cat      |\n",
       "| 50       | 28       | 55       | 1        | 0        | 0        | 0        | 0        | 1        | 0        | 1        |  2       | Elephant | 1        | 2        | Elephant |\n",
       "| 40       | 50       | 57       | 0        | 0        | 0        | 1        | 0        | 0        | 1        | 1        |  9       | Cat      | 1        | 9        | Cat      |\n",
       "| 39       | 32       | 65       | 1        | 0        | 0        | 1        | 0        | 1        | 0        | 1        | 10       | Elephant | 1        | 10       | Elephant |\n",
       "| 48       | 42       | 55       | 1        | 1        | 0        | 1        | 1        | 1        | 0        | 1        |  1       | Cat      | 1        | 1        | Cat      |\n",
       "\n"
      ],
      "text/plain": [
       "  traitX traitY traitZ itemA itemB itemC itemD itemE itemF itemG category1\n",
       "1 61     60     31     0     0     1     0     1     1     1     2        \n",
       "2 39     50     49     1     1     1     0     1     1     1     1        \n",
       "3 50     28     55     1     0     0     0     0     1     0     1        \n",
       "4 40     50     57     0     0     0     1     0     0     1     1        \n",
       "5 39     32     65     1     0     0     1     0     1     0     1        \n",
       "6 48     42     55     1     1     0     1     1     1     0     1        \n",
       "  category2 category3 categoryI categoryII categoryIII\n",
       "1  3        Elephant  2         3          Elephant   \n",
       "2  3        Cat       1         3          Cat        \n",
       "3  2        Elephant  1         2          Elephant   \n",
       "4  9        Cat       1         9          Cat        \n",
       "5 10        Elephant  1         10         Elephant   \n",
       "6  1        Cat       1         1          Cat        "
      ]
     },
     "metadata": {},
     "output_type": "display_data"
    }
   ],
   "source": [
    "head(d)"
   ]
  },
  {
   "cell_type": "code",
   "execution_count": 19,
   "metadata": {},
   "outputs": [
    {
     "data": {
      "text/plain": [
       "\n",
       "Call:\n",
       "lm(formula = traitZ ~ itemA + itemB + itemD + itemF + itemG, \n",
       "    data = d)\n",
       "\n",
       "Residuals:\n",
       "     Min       1Q   Median       3Q      Max \n",
       "-29.1614  -4.3863  -0.0753   4.4398  29.9328 \n",
       "\n",
       "Coefficients:\n",
       "            Estimate Std. Error t value Pr(>|t|)    \n",
       "(Intercept)  46.1614     0.5184  89.038  < 2e-16 ***\n",
       "itemA         2.8292     0.4513   6.269 5.41e-10 ***\n",
       "itemB        -1.3222     0.4496  -2.941  0.00335 ** \n",
       "itemD         1.9297     0.4521   4.268 2.16e-05 ***\n",
       "itemF         2.2248     0.4527   4.915 1.04e-06 ***\n",
       "itemG         2.2442     0.4516   4.969 7.92e-07 ***\n",
       "---\n",
       "Signif. codes:  0 '***' 0.001 '**' 0.01 '*' 0.05 '.' 0.1 ' ' 1\n",
       "\n",
       "Residual standard error: 7.089 on 994 degrees of freedom\n",
       "Multiple R-squared:  0.1203,\tAdjusted R-squared:  0.1159 \n",
       "F-statistic:  27.2 on 5 and 994 DF,  p-value: < 2.2e-16\n"
      ]
     },
     "metadata": {},
     "output_type": "display_data"
    },
    {
     "name": "stdout",
     "output_type": "stream",
     "text": [
      "---------------\n",
      "\n",
      "\n",
      "ALL GOOD!\n"
     ]
    }
   ],
   "source": [
    "model <- lm(traitZ ~ itemA + itemB + itemD + itemF + itemG, data = d)\n",
    "summary(model)\n",
    "cat('---------------\\n\\n\\n')\n",
    "if(linearRegressionAsumptionsCheck(model)){\n",
    "    cat('ALL GOOD!\\n')\n",
    "} else {\n",
    "    cat('Blia...\\n')\n",
    "}"
   ]
  },
  {
   "cell_type": "code",
   "execution_count": 20,
   "metadata": {},
   "outputs": [
    {
     "data": {
      "text/html": [
       "<table>\n",
       "<thead><tr><th></th><th scope=col>Estimate</th><th scope=col>Std. Error</th><th scope=col>t value</th><th scope=col>Pr(&gt;|t|)</th></tr></thead>\n",
       "<tbody>\n",
       "\t<tr><th scope=row>(Intercept)</th><td>46.161441   </td><td>0.5184471   </td><td>89.037894   </td><td>0.000000e+00</td></tr>\n",
       "\t<tr><th scope=row>itemA</th><td> 2.829167   </td><td>0.4512886   </td><td> 6.269085   </td><td>5.405583e-10</td></tr>\n",
       "\t<tr><th scope=row>itemB</th><td>-1.322181   </td><td>0.4496300   </td><td>-2.940597   </td><td>3.351694e-03</td></tr>\n",
       "\t<tr><th scope=row>itemD</th><td> 1.929739   </td><td>0.4521211   </td><td> 4.268191   </td><td>2.159191e-05</td></tr>\n",
       "\t<tr><th scope=row>itemF</th><td> 2.224835   </td><td>0.4526787   </td><td> 4.914823   </td><td>1.038895e-06</td></tr>\n",
       "\t<tr><th scope=row>itemG</th><td> 2.244155   </td><td>0.4516304   </td><td> 4.969008   </td><td>7.920364e-07</td></tr>\n",
       "</tbody>\n",
       "</table>\n"
      ],
      "text/latex": [
       "\\begin{tabular}{r|llll}\n",
       "  & Estimate & Std. Error & t value & Pr(>\\textbar{}t\\textbar{})\\\\\n",
       "\\hline\n",
       "\t(Intercept) & 46.161441    & 0.5184471    & 89.037894    & 0.000000e+00\\\\\n",
       "\titemA &  2.829167    & 0.4512886    &  6.269085    & 5.405583e-10\\\\\n",
       "\titemB & -1.322181    & 0.4496300    & -2.940597    & 3.351694e-03\\\\\n",
       "\titemD &  1.929739    & 0.4521211    &  4.268191    & 2.159191e-05\\\\\n",
       "\titemF &  2.224835    & 0.4526787    &  4.914823    & 1.038895e-06\\\\\n",
       "\titemG &  2.244155    & 0.4516304    &  4.969008    & 7.920364e-07\\\\\n",
       "\\end{tabular}\n"
      ],
      "text/markdown": [
       "\n",
       "| <!--/--> | Estimate | Std. Error | t value | Pr(>|t|) |\n",
       "|---|---|---|---|---|\n",
       "| (Intercept) | 46.161441    | 0.5184471    | 89.037894    | 0.000000e+00 |\n",
       "| itemA |  2.829167    | 0.4512886    |  6.269085    | 5.405583e-10 |\n",
       "| itemB | -1.322181    | 0.4496300    | -2.940597    | 3.351694e-03 |\n",
       "| itemD |  1.929739    | 0.4521211    |  4.268191    | 2.159191e-05 |\n",
       "| itemF |  2.224835    | 0.4526787    |  4.914823    | 1.038895e-06 |\n",
       "| itemG |  2.244155    | 0.4516304    |  4.969008    | 7.920364e-07 |\n",
       "\n"
      ],
      "text/plain": [
       "            Estimate  Std. Error t value   Pr(>|t|)    \n",
       "(Intercept) 46.161441 0.5184471  89.037894 0.000000e+00\n",
       "itemA        2.829167 0.4512886   6.269085 5.405583e-10\n",
       "itemB       -1.322181 0.4496300  -2.940597 3.351694e-03\n",
       "itemD        1.929739 0.4521211   4.268191 2.159191e-05\n",
       "itemF        2.224835 0.4526787   4.914823 1.038895e-06\n",
       "itemG        2.244155 0.4516304   4.969008 7.920364e-07"
      ]
     },
     "metadata": {},
     "output_type": "display_data"
    }
   ],
   "source": [
    "summary(model)$coefficients"
   ]
  },
  {
   "cell_type": "code",
   "execution_count": null,
   "metadata": {},
   "outputs": [],
   "source": []
  }
 ],
 "metadata": {
  "kernelspec": {
   "display_name": "R",
   "language": "R",
   "name": "ir"
  }
 },
 "nbformat": 4,
 "nbformat_minor": 2
}
