{
 "cells": [
  {
   "cell_type": "code",
   "execution_count": 1,
   "metadata": {},
   "outputs": [
    {
     "name": "stderr",
     "output_type": "stream",
     "text": [
      "Loading required package: carData\n",
      "Loading required package: mvtnorm\n",
      "Loading required package: survival\n",
      "Loading required package: TH.data\n",
      "Loading required package: MASS\n",
      "\n",
      "Attaching package: 'TH.data'\n",
      "\n",
      "The following object is masked from 'package:MASS':\n",
      "\n",
      "    geyser\n",
      "\n"
     ]
    }
   ],
   "source": [
    "library(compute.es)\n",
    "library(car)\n",
    "library(ggplot2)\n",
    "library(multcomp)\n",
    "library(pastecs)\n",
    "library(WRS2)"
   ]
  },
  {
   "cell_type": "code",
   "execution_count": 2,
   "metadata": {},
   "outputs": [],
   "source": [
    "d <- read.csv('./Quiz_4_1.csv')"
   ]
  },
  {
   "cell_type": "code",
   "execution_count": 3,
   "metadata": {
    "scrolled": true
   },
   "outputs": [
    {
     "data": {
      "text/html": [
       "<table>\n",
       "<thead><tr><th scope=col>tribe</th><th scope=col>status</th><th scope=col>wealth</th></tr></thead>\n",
       "<tbody>\n",
       "\t<tr><td>Yellow   </td><td>Peasant  </td><td> 4       </td></tr>\n",
       "\t<tr><td>Yellow   </td><td>Peasant  </td><td> 4       </td></tr>\n",
       "\t<tr><td>Blue     </td><td>Peasant  </td><td> 4       </td></tr>\n",
       "\t<tr><td>Red      </td><td>Officer  </td><td> 9       </td></tr>\n",
       "\t<tr><td>Blue     </td><td>Chieftain</td><td>56       </td></tr>\n",
       "\t<tr><td>Yellow   </td><td>Peasant  </td><td> 3       </td></tr>\n",
       "\t<tr><td>Yellow   </td><td>Peasant  </td><td> 3       </td></tr>\n",
       "\t<tr><td>Red      </td><td>Peasant  </td><td> 5       </td></tr>\n",
       "\t<tr><td>Red      </td><td>Peasant  </td><td> 4       </td></tr>\n",
       "\t<tr><td>Yellow   </td><td>Officer  </td><td>13       </td></tr>\n",
       "\t<tr><td>Blue     </td><td>Peasant  </td><td> 4       </td></tr>\n",
       "\t<tr><td>Yellow   </td><td>Officer  </td><td>16       </td></tr>\n",
       "\t<tr><td>Blue     </td><td>Peasant  </td><td> 3       </td></tr>\n",
       "\t<tr><td>Red      </td><td>Peasant  </td><td> 5       </td></tr>\n",
       "\t<tr><td>Red      </td><td>Peasant  </td><td> 6       </td></tr>\n",
       "\t<tr><td>Red      </td><td>Peasant  </td><td> 1       </td></tr>\n",
       "\t<tr><td>Yellow   </td><td>Officer  </td><td>22       </td></tr>\n",
       "\t<tr><td>Yellow   </td><td>Peasant  </td><td> 3       </td></tr>\n",
       "\t<tr><td>Yellow   </td><td>Officer  </td><td>21       </td></tr>\n",
       "\t<tr><td>Yellow   </td><td>Peasant  </td><td> 1       </td></tr>\n",
       "\t<tr><td>Blue     </td><td>Peasant  </td><td> 1       </td></tr>\n",
       "\t<tr><td>Blue     </td><td>Officer  </td><td>18       </td></tr>\n",
       "\t<tr><td>Blue     </td><td>Chieftain</td><td>44       </td></tr>\n",
       "\t<tr><td>Blue     </td><td>Peasant  </td><td> 1       </td></tr>\n",
       "\t<tr><td>Red      </td><td>Peasant  </td><td> 6       </td></tr>\n",
       "\t<tr><td>Yellow   </td><td>Officer  </td><td>10       </td></tr>\n",
       "\t<tr><td>Yellow   </td><td>Officer  </td><td>24       </td></tr>\n",
       "\t<tr><td>Yellow   </td><td>Peasant  </td><td> 1       </td></tr>\n",
       "\t<tr><td>Blue     </td><td>Peasant  </td><td> 1       </td></tr>\n",
       "\t<tr><td>Yellow   </td><td>Peasant  </td><td> 1       </td></tr>\n",
       "\t<tr><td>...</td><td>...</td><td>...</td></tr>\n",
       "\t<tr><td>Yellow   </td><td>Peasant  </td><td> 1       </td></tr>\n",
       "\t<tr><td>Yellow   </td><td>Peasant  </td><td> 2       </td></tr>\n",
       "\t<tr><td>Blue     </td><td>Officer  </td><td>24       </td></tr>\n",
       "\t<tr><td>Blue     </td><td>Peasant  </td><td> 2       </td></tr>\n",
       "\t<tr><td>Blue     </td><td>Officer  </td><td>13       </td></tr>\n",
       "\t<tr><td>Blue     </td><td>Peasant  </td><td> 5       </td></tr>\n",
       "\t<tr><td>Red      </td><td>Peasant  </td><td> 4       </td></tr>\n",
       "\t<tr><td>Blue     </td><td>Officer  </td><td>13       </td></tr>\n",
       "\t<tr><td>Blue     </td><td>Peasant  </td><td> 5       </td></tr>\n",
       "\t<tr><td>Yellow   </td><td>Chieftain</td><td>66       </td></tr>\n",
       "\t<tr><td>Yellow   </td><td>Officer  </td><td>12       </td></tr>\n",
       "\t<tr><td>Red      </td><td>Peasant  </td><td> 6       </td></tr>\n",
       "\t<tr><td>Blue     </td><td>Peasant  </td><td> 3       </td></tr>\n",
       "\t<tr><td>Yellow   </td><td>Officer  </td><td>18       </td></tr>\n",
       "\t<tr><td>Red      </td><td>Peasant  </td><td> 2       </td></tr>\n",
       "\t<tr><td>Yellow   </td><td>Peasant  </td><td> 4       </td></tr>\n",
       "\t<tr><td>Red      </td><td>Peasant  </td><td> 3       </td></tr>\n",
       "\t<tr><td>Red      </td><td>Peasant  </td><td> 8       </td></tr>\n",
       "\t<tr><td>Yellow   </td><td>Chieftain</td><td>46       </td></tr>\n",
       "\t<tr><td>Blue     </td><td>Peasant  </td><td> 3       </td></tr>\n",
       "\t<tr><td>Yellow   </td><td>Peasant  </td><td> 5       </td></tr>\n",
       "\t<tr><td>Red      </td><td>Peasant  </td><td> 8       </td></tr>\n",
       "\t<tr><td>Yellow   </td><td>Officer  </td><td>21       </td></tr>\n",
       "\t<tr><td>Blue     </td><td>Peasant  </td><td> 3       </td></tr>\n",
       "\t<tr><td>Yellow   </td><td>Peasant  </td><td> 3       </td></tr>\n",
       "\t<tr><td>Blue     </td><td>Peasant  </td><td> 5       </td></tr>\n",
       "\t<tr><td>Blue     </td><td>Officer  </td><td>12       </td></tr>\n",
       "\t<tr><td>Red      </td><td>Officer  </td><td> 8       </td></tr>\n",
       "\t<tr><td>Blue     </td><td>Officer  </td><td>24       </td></tr>\n",
       "\t<tr><td>Yellow   </td><td>Peasant  </td><td> 4       </td></tr>\n",
       "</tbody>\n",
       "</table>\n"
      ],
      "text/latex": [
       "\\begin{tabular}{r|lll}\n",
       " tribe & status & wealth\\\\\n",
       "\\hline\n",
       "\t Yellow    & Peasant   &  4       \\\\\n",
       "\t Yellow    & Peasant   &  4       \\\\\n",
       "\t Blue      & Peasant   &  4       \\\\\n",
       "\t Red       & Officer   &  9       \\\\\n",
       "\t Blue      & Chieftain & 56       \\\\\n",
       "\t Yellow    & Peasant   &  3       \\\\\n",
       "\t Yellow    & Peasant   &  3       \\\\\n",
       "\t Red       & Peasant   &  5       \\\\\n",
       "\t Red       & Peasant   &  4       \\\\\n",
       "\t Yellow    & Officer   & 13       \\\\\n",
       "\t Blue      & Peasant   &  4       \\\\\n",
       "\t Yellow    & Officer   & 16       \\\\\n",
       "\t Blue      & Peasant   &  3       \\\\\n",
       "\t Red       & Peasant   &  5       \\\\\n",
       "\t Red       & Peasant   &  6       \\\\\n",
       "\t Red       & Peasant   &  1       \\\\\n",
       "\t Yellow    & Officer   & 22       \\\\\n",
       "\t Yellow    & Peasant   &  3       \\\\\n",
       "\t Yellow    & Officer   & 21       \\\\\n",
       "\t Yellow    & Peasant   &  1       \\\\\n",
       "\t Blue      & Peasant   &  1       \\\\\n",
       "\t Blue      & Officer   & 18       \\\\\n",
       "\t Blue      & Chieftain & 44       \\\\\n",
       "\t Blue      & Peasant   &  1       \\\\\n",
       "\t Red       & Peasant   &  6       \\\\\n",
       "\t Yellow    & Officer   & 10       \\\\\n",
       "\t Yellow    & Officer   & 24       \\\\\n",
       "\t Yellow    & Peasant   &  1       \\\\\n",
       "\t Blue      & Peasant   &  1       \\\\\n",
       "\t Yellow    & Peasant   &  1       \\\\\n",
       "\t ... & ... & ...\\\\\n",
       "\t Yellow    & Peasant   &  1       \\\\\n",
       "\t Yellow    & Peasant   &  2       \\\\\n",
       "\t Blue      & Officer   & 24       \\\\\n",
       "\t Blue      & Peasant   &  2       \\\\\n",
       "\t Blue      & Officer   & 13       \\\\\n",
       "\t Blue      & Peasant   &  5       \\\\\n",
       "\t Red       & Peasant   &  4       \\\\\n",
       "\t Blue      & Officer   & 13       \\\\\n",
       "\t Blue      & Peasant   &  5       \\\\\n",
       "\t Yellow    & Chieftain & 66       \\\\\n",
       "\t Yellow    & Officer   & 12       \\\\\n",
       "\t Red       & Peasant   &  6       \\\\\n",
       "\t Blue      & Peasant   &  3       \\\\\n",
       "\t Yellow    & Officer   & 18       \\\\\n",
       "\t Red       & Peasant   &  2       \\\\\n",
       "\t Yellow    & Peasant   &  4       \\\\\n",
       "\t Red       & Peasant   &  3       \\\\\n",
       "\t Red       & Peasant   &  8       \\\\\n",
       "\t Yellow    & Chieftain & 46       \\\\\n",
       "\t Blue      & Peasant   &  3       \\\\\n",
       "\t Yellow    & Peasant   &  5       \\\\\n",
       "\t Red       & Peasant   &  8       \\\\\n",
       "\t Yellow    & Officer   & 21       \\\\\n",
       "\t Blue      & Peasant   &  3       \\\\\n",
       "\t Yellow    & Peasant   &  3       \\\\\n",
       "\t Blue      & Peasant   &  5       \\\\\n",
       "\t Blue      & Officer   & 12       \\\\\n",
       "\t Red       & Officer   &  8       \\\\\n",
       "\t Blue      & Officer   & 24       \\\\\n",
       "\t Yellow    & Peasant   &  4       \\\\\n",
       "\\end{tabular}\n"
      ],
      "text/markdown": [
       "\n",
       "| tribe | status | wealth |\n",
       "|---|---|---|\n",
       "| Yellow    | Peasant   |  4        |\n",
       "| Yellow    | Peasant   |  4        |\n",
       "| Blue      | Peasant   |  4        |\n",
       "| Red       | Officer   |  9        |\n",
       "| Blue      | Chieftain | 56        |\n",
       "| Yellow    | Peasant   |  3        |\n",
       "| Yellow    | Peasant   |  3        |\n",
       "| Red       | Peasant   |  5        |\n",
       "| Red       | Peasant   |  4        |\n",
       "| Yellow    | Officer   | 13        |\n",
       "| Blue      | Peasant   |  4        |\n",
       "| Yellow    | Officer   | 16        |\n",
       "| Blue      | Peasant   |  3        |\n",
       "| Red       | Peasant   |  5        |\n",
       "| Red       | Peasant   |  6        |\n",
       "| Red       | Peasant   |  1        |\n",
       "| Yellow    | Officer   | 22        |\n",
       "| Yellow    | Peasant   |  3        |\n",
       "| Yellow    | Officer   | 21        |\n",
       "| Yellow    | Peasant   |  1        |\n",
       "| Blue      | Peasant   |  1        |\n",
       "| Blue      | Officer   | 18        |\n",
       "| Blue      | Chieftain | 44        |\n",
       "| Blue      | Peasant   |  1        |\n",
       "| Red       | Peasant   |  6        |\n",
       "| Yellow    | Officer   | 10        |\n",
       "| Yellow    | Officer   | 24        |\n",
       "| Yellow    | Peasant   |  1        |\n",
       "| Blue      | Peasant   |  1        |\n",
       "| Yellow    | Peasant   |  1        |\n",
       "| ... | ... | ... |\n",
       "| Yellow    | Peasant   |  1        |\n",
       "| Yellow    | Peasant   |  2        |\n",
       "| Blue      | Officer   | 24        |\n",
       "| Blue      | Peasant   |  2        |\n",
       "| Blue      | Officer   | 13        |\n",
       "| Blue      | Peasant   |  5        |\n",
       "| Red       | Peasant   |  4        |\n",
       "| Blue      | Officer   | 13        |\n",
       "| Blue      | Peasant   |  5        |\n",
       "| Yellow    | Chieftain | 66        |\n",
       "| Yellow    | Officer   | 12        |\n",
       "| Red       | Peasant   |  6        |\n",
       "| Blue      | Peasant   |  3        |\n",
       "| Yellow    | Officer   | 18        |\n",
       "| Red       | Peasant   |  2        |\n",
       "| Yellow    | Peasant   |  4        |\n",
       "| Red       | Peasant   |  3        |\n",
       "| Red       | Peasant   |  8        |\n",
       "| Yellow    | Chieftain | 46        |\n",
       "| Blue      | Peasant   |  3        |\n",
       "| Yellow    | Peasant   |  5        |\n",
       "| Red       | Peasant   |  8        |\n",
       "| Yellow    | Officer   | 21        |\n",
       "| Blue      | Peasant   |  3        |\n",
       "| Yellow    | Peasant   |  3        |\n",
       "| Blue      | Peasant   |  5        |\n",
       "| Blue      | Officer   | 12        |\n",
       "| Red       | Officer   |  8        |\n",
       "| Blue      | Officer   | 24        |\n",
       "| Yellow    | Peasant   |  4        |\n",
       "\n"
      ],
      "text/plain": [
       "     tribe  status    wealth\n",
       "1    Yellow Peasant    4    \n",
       "2    Yellow Peasant    4    \n",
       "3    Blue   Peasant    4    \n",
       "4    Red    Officer    9    \n",
       "5    Blue   Chieftain 56    \n",
       "6    Yellow Peasant    3    \n",
       "7    Yellow Peasant    3    \n",
       "8    Red    Peasant    5    \n",
       "9    Red    Peasant    4    \n",
       "10   Yellow Officer   13    \n",
       "11   Blue   Peasant    4    \n",
       "12   Yellow Officer   16    \n",
       "13   Blue   Peasant    3    \n",
       "14   Red    Peasant    5    \n",
       "15   Red    Peasant    6    \n",
       "16   Red    Peasant    1    \n",
       "17   Yellow Officer   22    \n",
       "18   Yellow Peasant    3    \n",
       "19   Yellow Officer   21    \n",
       "20   Yellow Peasant    1    \n",
       "21   Blue   Peasant    1    \n",
       "22   Blue   Officer   18    \n",
       "23   Blue   Chieftain 44    \n",
       "24   Blue   Peasant    1    \n",
       "25   Red    Peasant    6    \n",
       "26   Yellow Officer   10    \n",
       "27   Yellow Officer   24    \n",
       "28   Yellow Peasant    1    \n",
       "29   Blue   Peasant    1    \n",
       "30   Yellow Peasant    1    \n",
       "...  ...    ...       ...   \n",
       "971  Yellow Peasant    1    \n",
       "972  Yellow Peasant    2    \n",
       "973  Blue   Officer   24    \n",
       "974  Blue   Peasant    2    \n",
       "975  Blue   Officer   13    \n",
       "976  Blue   Peasant    5    \n",
       "977  Red    Peasant    4    \n",
       "978  Blue   Officer   13    \n",
       "979  Blue   Peasant    5    \n",
       "980  Yellow Chieftain 66    \n",
       "981  Yellow Officer   12    \n",
       "982  Red    Peasant    6    \n",
       "983  Blue   Peasant    3    \n",
       "984  Yellow Officer   18    \n",
       "985  Red    Peasant    2    \n",
       "986  Yellow Peasant    4    \n",
       "987  Red    Peasant    3    \n",
       "988  Red    Peasant    8    \n",
       "989  Yellow Chieftain 46    \n",
       "990  Blue   Peasant    3    \n",
       "991  Yellow Peasant    5    \n",
       "992  Red    Peasant    8    \n",
       "993  Yellow Officer   21    \n",
       "994  Blue   Peasant    3    \n",
       "995  Yellow Peasant    3    \n",
       "996  Blue   Peasant    5    \n",
       "997  Blue   Officer   12    \n",
       "998  Red    Officer    8    \n",
       "999  Blue   Officer   24    \n",
       "1000 Yellow Peasant    4    "
      ]
     },
     "metadata": {},
     "output_type": "display_data"
    }
   ],
   "source": [
    "d"
   ]
  },
  {
   "cell_type": "code",
   "execution_count": 4,
   "metadata": {},
   "outputs": [
    {
     "data": {
      "text/html": [
       "<table>\n",
       "<thead><tr><th></th><th scope=col>Df</th><th scope=col>F value</th><th scope=col>Pr(&gt;F)</th></tr></thead>\n",
       "<tbody>\n",
       "\t<tr><th scope=row>group</th><td>  2      </td><td>0.7457757</td><td>0.4746306</td></tr>\n",
       "\t<tr><th scope=row> </th><td>997      </td><td>       NA</td><td>       NA</td></tr>\n",
       "</tbody>\n",
       "</table>\n"
      ],
      "text/latex": [
       "\\begin{tabular}{r|lll}\n",
       "  & Df & F value & Pr(>F)\\\\\n",
       "\\hline\n",
       "\tgroup &   2       & 0.7457757 & 0.4746306\\\\\n",
       "\t  & 997       &        NA &        NA\\\\\n",
       "\\end{tabular}\n"
      ],
      "text/markdown": [
       "\n",
       "| <!--/--> | Df | F value | Pr(>F) |\n",
       "|---|---|---|---|\n",
       "| group |   2       | 0.7457757 | 0.4746306 |\n",
       "|   | 997       |        NA |        NA |\n",
       "\n"
      ],
      "text/plain": [
       "      Df  F value   Pr(>F)   \n",
       "group   2 0.7457757 0.4746306\n",
       "      997        NA        NA"
      ]
     },
     "metadata": {},
     "output_type": "display_data"
    }
   ],
   "source": [
    "leveneTest(d$wealth, d$tribe, center = mean)"
   ]
  },
  {
   "cell_type": "code",
   "execution_count": 5,
   "metadata": {},
   "outputs": [
    {
     "data": {
      "text/plain": [
       "Call:\n",
       "t1way(formula = wealth ~ tribe, data = d)\n",
       "\n",
       "Test statistic: F = 1.7901 \n",
       "Degrees of freedom 1: 2 \n",
       "Degrees of freedom 2: 397.58 \n",
       "p-value: 0.16829 \n",
       "\n",
       "Explanatory measure of effect size: 0.08 \n"
      ]
     },
     "metadata": {},
     "output_type": "display_data"
    }
   ],
   "source": [
    "t1way(wealth ~ tribe, data=d)"
   ]
  },
  {
   "cell_type": "code",
   "execution_count": 6,
   "metadata": {},
   "outputs": [
    {
     "data": {
      "text/plain": [
       "\n",
       "\tOne-way analysis of means (not assuming equal variances)\n",
       "\n",
       "data:  wealth and tribe\n",
       "F = 1.0935, num df = 2.00, denom df = 663.65, p-value = 0.3356\n"
      ]
     },
     "metadata": {},
     "output_type": "display_data"
    }
   ],
   "source": [
    "oneway.test(wealth ~ tribe, data=d)"
   ]
  },
  {
   "cell_type": "markdown",
   "metadata": {},
   "source": [
    "No difference between tribes in general."
   ]
  },
  {
   "cell_type": "markdown",
   "metadata": {},
   "source": [
    "-----------------------"
   ]
  },
  {
   "cell_type": "code",
   "execution_count": 7,
   "metadata": {},
   "outputs": [
    {
     "data": {
      "text/html": [
       "<table>\n",
       "<thead><tr><th></th><th scope=col>Df</th><th scope=col>F value</th><th scope=col>Pr(&gt;F)</th></tr></thead>\n",
       "<tbody>\n",
       "\t<tr><th scope=row>group</th><td>  2          </td><td>441.385      </td><td>5.108978e-138</td></tr>\n",
       "\t<tr><th scope=row> </th><td>997          </td><td>     NA      </td><td>           NA</td></tr>\n",
       "</tbody>\n",
       "</table>\n"
      ],
      "text/latex": [
       "\\begin{tabular}{r|lll}\n",
       "  & Df & F value & Pr(>F)\\\\\n",
       "\\hline\n",
       "\tgroup &   2           & 441.385       & 5.108978e-138\\\\\n",
       "\t  & 997           &      NA       &            NA\\\\\n",
       "\\end{tabular}\n"
      ],
      "text/markdown": [
       "\n",
       "| <!--/--> | Df | F value | Pr(>F) |\n",
       "|---|---|---|---|\n",
       "| group |   2           | 441.385       | 5.108978e-138 |\n",
       "|   | 997           |      NA       |            NA |\n",
       "\n"
      ],
      "text/plain": [
       "      Df  F value Pr(>F)       \n",
       "group   2 441.385 5.108978e-138\n",
       "      997      NA            NA"
      ]
     },
     "metadata": {},
     "output_type": "display_data"
    }
   ],
   "source": [
    "leveneTest(d$wealth, d$status, center = mean)"
   ]
  },
  {
   "cell_type": "code",
   "execution_count": 8,
   "metadata": {},
   "outputs": [],
   "source": [
    "model <- aov(wealth ~ status, data = d)"
   ]
  },
  {
   "cell_type": "code",
   "execution_count": 9,
   "metadata": {
    "scrolled": true
   },
   "outputs": [
    {
     "data": {
      "image/png": "[encoded data removed]",
      "text/plain": [
       "Plot with title \"\""
      ]
     },
     "metadata": {},
     "output_type": "display_data"
    },
    {
     "data": {
      "image/png": "[encoded data removed]",
      "text/plain": [
       "Plot with title \"\""
      ]
     },
     "metadata": {},
     "output_type": "display_data"
    },
    {
     "data": {
      "image/png": "[encoded data removed]",
      "text/plain": [
       "Plot with title \"\""
      ]
     },
     "metadata": {},
     "output_type": "display_data"
    },
    {
     "data": {
      "image/png": "[encoded data removed]",
      "text/plain": [
       "Plot with title \"\""
      ]
     },
     "metadata": {},
     "output_type": "display_data"
    }
   ],
   "source": [
    "plot(model)"
   ]
  },
  {
   "cell_type": "code",
   "execution_count": 10,
   "metadata": {},
   "outputs": [
    {
     "data": {
      "text/plain": [
       "             Df Sum Sq Mean Sq F value Pr(>F)    \n",
       "status        2 206616  103308    5030 <2e-16 ***\n",
       "Residuals   997  20475      21                   \n",
       "---\n",
       "Signif. codes:  0 '***' 0.001 '**' 0.01 '*' 0.05 '.' 0.1 ' ' 1"
      ]
     },
     "metadata": {},
     "output_type": "display_data"
    }
   ],
   "source": [
    "summary(model)"
   ]
  },
  {
   "cell_type": "code",
   "execution_count": 11,
   "metadata": {},
   "outputs": [
    {
     "data": {
      "text/plain": [
       "\n",
       "\tPairwise comparisons using t tests with pooled SD \n",
       "\n",
       "data:  d$wealth and d$status \n",
       "\n",
       "        Chieftain Officer\n",
       "Officer <2e-16    -      \n",
       "Peasant <2e-16    <2e-16 \n",
       "\n",
       "P value adjustment method: BH "
      ]
     },
     "metadata": {},
     "output_type": "display_data"
    }
   ],
   "source": [
    "pairwise.t.test(d$wealth, d$status, p.adjust.method = \"BH\")"
   ]
  },
  {
   "cell_type": "markdown",
   "metadata": {},
   "source": [
    "Difference between statuses!"
   ]
  },
  {
   "cell_type": "code",
   "execution_count": 12,
   "metadata": {},
   "outputs": [],
   "source": [
    "d1 <- d\n",
    "d1['group'] <- paste(d$tribe, d$status)"
   ]
  },
  {
   "cell_type": "code",
   "execution_count": 13,
   "metadata": {
    "scrolled": true
   },
   "outputs": [
    {
     "data": {
      "text/html": [
       "<table>\n",
       "<thead><tr><th scope=col>tribe</th><th scope=col>status</th><th scope=col>wealth</th><th scope=col>group</th></tr></thead>\n",
       "<tbody>\n",
       "\t<tr><td>Yellow        </td><td>Peasant       </td><td> 4            </td><td>Yellow Peasant</td></tr>\n",
       "\t<tr><td>Yellow        </td><td>Peasant       </td><td> 4            </td><td>Yellow Peasant</td></tr>\n",
       "\t<tr><td>Blue          </td><td>Peasant       </td><td> 4            </td><td>Blue Peasant  </td></tr>\n",
       "\t<tr><td>Red           </td><td>Officer       </td><td> 9            </td><td>Red Officer   </td></tr>\n",
       "\t<tr><td>Blue          </td><td>Chieftain     </td><td>56            </td><td>Blue Chieftain</td></tr>\n",
       "\t<tr><td>Yellow        </td><td>Peasant       </td><td> 3            </td><td>Yellow Peasant</td></tr>\n",
       "\t<tr><td>Yellow        </td><td>Peasant       </td><td> 3            </td><td>Yellow Peasant</td></tr>\n",
       "\t<tr><td>Red           </td><td>Peasant       </td><td> 5            </td><td>Red Peasant   </td></tr>\n",
       "\t<tr><td>Red           </td><td>Peasant       </td><td> 4            </td><td>Red Peasant   </td></tr>\n",
       "\t<tr><td>Yellow        </td><td>Officer       </td><td>13            </td><td>Yellow Officer</td></tr>\n",
       "\t<tr><td>Blue          </td><td>Peasant       </td><td> 4            </td><td>Blue Peasant  </td></tr>\n",
       "\t<tr><td>Yellow        </td><td>Officer       </td><td>16            </td><td>Yellow Officer</td></tr>\n",
       "\t<tr><td>Blue          </td><td>Peasant       </td><td> 3            </td><td>Blue Peasant  </td></tr>\n",
       "\t<tr><td>Red           </td><td>Peasant       </td><td> 5            </td><td>Red Peasant   </td></tr>\n",
       "\t<tr><td>Red           </td><td>Peasant       </td><td> 6            </td><td>Red Peasant   </td></tr>\n",
       "\t<tr><td>Red           </td><td>Peasant       </td><td> 1            </td><td>Red Peasant   </td></tr>\n",
       "\t<tr><td>Yellow        </td><td>Officer       </td><td>22            </td><td>Yellow Officer</td></tr>\n",
       "\t<tr><td>Yellow        </td><td>Peasant       </td><td> 3            </td><td>Yellow Peasant</td></tr>\n",
       "\t<tr><td>Yellow        </td><td>Officer       </td><td>21            </td><td>Yellow Officer</td></tr>\n",
       "\t<tr><td>Yellow        </td><td>Peasant       </td><td> 1            </td><td>Yellow Peasant</td></tr>\n",
       "\t<tr><td>Blue          </td><td>Peasant       </td><td> 1            </td><td>Blue Peasant  </td></tr>\n",
       "\t<tr><td>Blue          </td><td>Officer       </td><td>18            </td><td>Blue Officer  </td></tr>\n",
       "\t<tr><td>Blue          </td><td>Chieftain     </td><td>44            </td><td>Blue Chieftain</td></tr>\n",
       "\t<tr><td>Blue          </td><td>Peasant       </td><td> 1            </td><td>Blue Peasant  </td></tr>\n",
       "\t<tr><td>Red           </td><td>Peasant       </td><td> 6            </td><td>Red Peasant   </td></tr>\n",
       "\t<tr><td>Yellow        </td><td>Officer       </td><td>10            </td><td>Yellow Officer</td></tr>\n",
       "\t<tr><td>Yellow        </td><td>Officer       </td><td>24            </td><td>Yellow Officer</td></tr>\n",
       "\t<tr><td>Yellow        </td><td>Peasant       </td><td> 1            </td><td>Yellow Peasant</td></tr>\n",
       "\t<tr><td>Blue          </td><td>Peasant       </td><td> 1            </td><td>Blue Peasant  </td></tr>\n",
       "\t<tr><td>Yellow        </td><td>Peasant       </td><td> 1            </td><td>Yellow Peasant</td></tr>\n",
       "\t<tr><td>...</td><td>...</td><td>...</td><td>...</td></tr>\n",
       "\t<tr><td>Yellow          </td><td>Peasant         </td><td> 1              </td><td>Yellow Peasant  </td></tr>\n",
       "\t<tr><td>Yellow          </td><td>Peasant         </td><td> 2              </td><td>Yellow Peasant  </td></tr>\n",
       "\t<tr><td>Blue            </td><td>Officer         </td><td>24              </td><td>Blue Officer    </td></tr>\n",
       "\t<tr><td>Blue            </td><td>Peasant         </td><td> 2              </td><td>Blue Peasant    </td></tr>\n",
       "\t<tr><td>Blue            </td><td>Officer         </td><td>13              </td><td>Blue Officer    </td></tr>\n",
       "\t<tr><td>Blue            </td><td>Peasant         </td><td> 5              </td><td>Blue Peasant    </td></tr>\n",
       "\t<tr><td>Red             </td><td>Peasant         </td><td> 4              </td><td>Red Peasant     </td></tr>\n",
       "\t<tr><td>Blue            </td><td>Officer         </td><td>13              </td><td>Blue Officer    </td></tr>\n",
       "\t<tr><td>Blue            </td><td>Peasant         </td><td> 5              </td><td>Blue Peasant    </td></tr>\n",
       "\t<tr><td>Yellow          </td><td>Chieftain       </td><td>66              </td><td>Yellow Chieftain</td></tr>\n",
       "\t<tr><td>Yellow          </td><td>Officer         </td><td>12              </td><td>Yellow Officer  </td></tr>\n",
       "\t<tr><td>Red             </td><td>Peasant         </td><td> 6              </td><td>Red Peasant     </td></tr>\n",
       "\t<tr><td>Blue            </td><td>Peasant         </td><td> 3              </td><td>Blue Peasant    </td></tr>\n",
       "\t<tr><td>Yellow          </td><td>Officer         </td><td>18              </td><td>Yellow Officer  </td></tr>\n",
       "\t<tr><td>Red             </td><td>Peasant         </td><td> 2              </td><td>Red Peasant     </td></tr>\n",
       "\t<tr><td>Yellow          </td><td>Peasant         </td><td> 4              </td><td>Yellow Peasant  </td></tr>\n",
       "\t<tr><td>Red             </td><td>Peasant         </td><td> 3              </td><td>Red Peasant     </td></tr>\n",
       "\t<tr><td>Red             </td><td>Peasant         </td><td> 8              </td><td>Red Peasant     </td></tr>\n",
       "\t<tr><td>Yellow          </td><td>Chieftain       </td><td>46              </td><td>Yellow Chieftain</td></tr>\n",
       "\t<tr><td>Blue            </td><td>Peasant         </td><td> 3              </td><td>Blue Peasant    </td></tr>\n",
       "\t<tr><td>Yellow          </td><td>Peasant         </td><td> 5              </td><td>Yellow Peasant  </td></tr>\n",
       "\t<tr><td>Red             </td><td>Peasant         </td><td> 8              </td><td>Red Peasant     </td></tr>\n",
       "\t<tr><td>Yellow          </td><td>Officer         </td><td>21              </td><td>Yellow Officer  </td></tr>\n",
       "\t<tr><td>Blue            </td><td>Peasant         </td><td> 3              </td><td>Blue Peasant    </td></tr>\n",
       "\t<tr><td>Yellow          </td><td>Peasant         </td><td> 3              </td><td>Yellow Peasant  </td></tr>\n",
       "\t<tr><td>Blue            </td><td>Peasant         </td><td> 5              </td><td>Blue Peasant    </td></tr>\n",
       "\t<tr><td>Blue            </td><td>Officer         </td><td>12              </td><td>Blue Officer    </td></tr>\n",
       "\t<tr><td>Red             </td><td>Officer         </td><td> 8              </td><td>Red Officer     </td></tr>\n",
       "\t<tr><td>Blue            </td><td>Officer         </td><td>24              </td><td>Blue Officer    </td></tr>\n",
       "\t<tr><td>Yellow          </td><td>Peasant         </td><td> 4              </td><td>Yellow Peasant  </td></tr>\n",
       "</tbody>\n",
       "</table>\n"
      ],
      "text/latex": [
       "\\begin{tabular}{r|llll}\n",
       " tribe & status & wealth & group\\\\\n",
       "\\hline\n",
       "\t Yellow         & Peasant        &  4             & Yellow Peasant\\\\\n",
       "\t Yellow         & Peasant        &  4             & Yellow Peasant\\\\\n",
       "\t Blue           & Peasant        &  4             & Blue Peasant  \\\\\n",
       "\t Red            & Officer        &  9             & Red Officer   \\\\\n",
       "\t Blue           & Chieftain      & 56             & Blue Chieftain\\\\\n",
       "\t Yellow         & Peasant        &  3             & Yellow Peasant\\\\\n",
       "\t Yellow         & Peasant        &  3             & Yellow Peasant\\\\\n",
       "\t Red            & Peasant        &  5             & Red Peasant   \\\\\n",
       "\t Red            & Peasant        &  4             & Red Peasant   \\\\\n",
       "\t Yellow         & Officer        & 13             & Yellow Officer\\\\\n",
       "\t Blue           & Peasant        &  4             & Blue Peasant  \\\\\n",
       "\t Yellow         & Officer        & 16             & Yellow Officer\\\\\n",
       "\t Blue           & Peasant        &  3             & Blue Peasant  \\\\\n",
       "\t Red            & Peasant        &  5             & Red Peasant   \\\\\n",
       "\t Red            & Peasant        &  6             & Red Peasant   \\\\\n",
       "\t Red            & Peasant        &  1             & Red Peasant   \\\\\n",
       "\t Yellow         & Officer        & 22             & Yellow Officer\\\\\n",
       "\t Yellow         & Peasant        &  3             & Yellow Peasant\\\\\n",
       "\t Yellow         & Officer        & 21             & Yellow Officer\\\\\n",
       "\t Yellow         & Peasant        &  1             & Yellow Peasant\\\\\n",
       "\t Blue           & Peasant        &  1             & Blue Peasant  \\\\\n",
       "\t Blue           & Officer        & 18             & Blue Officer  \\\\\n",
       "\t Blue           & Chieftain      & 44             & Blue Chieftain\\\\\n",
       "\t Blue           & Peasant        &  1             & Blue Peasant  \\\\\n",
       "\t Red            & Peasant        &  6             & Red Peasant   \\\\\n",
       "\t Yellow         & Officer        & 10             & Yellow Officer\\\\\n",
       "\t Yellow         & Officer        & 24             & Yellow Officer\\\\\n",
       "\t Yellow         & Peasant        &  1             & Yellow Peasant\\\\\n",
       "\t Blue           & Peasant        &  1             & Blue Peasant  \\\\\n",
       "\t Yellow         & Peasant        &  1             & Yellow Peasant\\\\\n",
       "\t ... & ... & ... & ...\\\\\n",
       "\t Yellow           & Peasant          &  1               & Yellow Peasant  \\\\\n",
       "\t Yellow           & Peasant          &  2               & Yellow Peasant  \\\\\n",
       "\t Blue             & Officer          & 24               & Blue Officer    \\\\\n",
       "\t Blue             & Peasant          &  2               & Blue Peasant    \\\\\n",
       "\t Blue             & Officer          & 13               & Blue Officer    \\\\\n",
       "\t Blue             & Peasant          &  5               & Blue Peasant    \\\\\n",
       "\t Red              & Peasant          &  4               & Red Peasant     \\\\\n",
       "\t Blue             & Officer          & 13               & Blue Officer    \\\\\n",
       "\t Blue             & Peasant          &  5               & Blue Peasant    \\\\\n",
       "\t Yellow           & Chieftain        & 66               & Yellow Chieftain\\\\\n",
       "\t Yellow           & Officer          & 12               & Yellow Officer  \\\\\n",
       "\t Red              & Peasant          &  6               & Red Peasant     \\\\\n",
       "\t Blue             & Peasant          &  3               & Blue Peasant    \\\\\n",
       "\t Yellow           & Officer          & 18               & Yellow Officer  \\\\\n",
       "\t Red              & Peasant          &  2               & Red Peasant     \\\\\n",
       "\t Yellow           & Peasant          &  4               & Yellow Peasant  \\\\\n",
       "\t Red              & Peasant          &  3               & Red Peasant     \\\\\n",
       "\t Red              & Peasant          &  8               & Red Peasant     \\\\\n",
       "\t Yellow           & Chieftain        & 46               & Yellow Chieftain\\\\\n",
       "\t Blue             & Peasant          &  3               & Blue Peasant    \\\\\n",
       "\t Yellow           & Peasant          &  5               & Yellow Peasant  \\\\\n",
       "\t Red              & Peasant          &  8               & Red Peasant     \\\\\n",
       "\t Yellow           & Officer          & 21               & Yellow Officer  \\\\\n",
       "\t Blue             & Peasant          &  3               & Blue Peasant    \\\\\n",
       "\t Yellow           & Peasant          &  3               & Yellow Peasant  \\\\\n",
       "\t Blue             & Peasant          &  5               & Blue Peasant    \\\\\n",
       "\t Blue             & Officer          & 12               & Blue Officer    \\\\\n",
       "\t Red              & Officer          &  8               & Red Officer     \\\\\n",
       "\t Blue             & Officer          & 24               & Blue Officer    \\\\\n",
       "\t Yellow           & Peasant          &  4               & Yellow Peasant  \\\\\n",
       "\\end{tabular}\n"
      ],
      "text/markdown": [
       "\n",
       "| tribe | status | wealth | group |\n",
       "|---|---|---|---|\n",
       "| Yellow         | Peasant        |  4             | Yellow Peasant |\n",
       "| Yellow         | Peasant        |  4             | Yellow Peasant |\n",
       "| Blue           | Peasant        |  4             | Blue Peasant   |\n",
       "| Red            | Officer        |  9             | Red Officer    |\n",
       "| Blue           | Chieftain      | 56             | Blue Chieftain |\n",
       "| Yellow         | Peasant        |  3             | Yellow Peasant |\n",
       "| Yellow         | Peasant        |  3             | Yellow Peasant |\n",
       "| Red            | Peasant        |  5             | Red Peasant    |\n",
       "| Red            | Peasant        |  4             | Red Peasant    |\n",
       "| Yellow         | Officer        | 13             | Yellow Officer |\n",
       "| Blue           | Peasant        |  4             | Blue Peasant   |\n",
       "| Yellow         | Officer        | 16             | Yellow Officer |\n",
       "| Blue           | Peasant        |  3             | Blue Peasant   |\n",
       "| Red            | Peasant        |  5             | Red Peasant    |\n",
       "| Red            | Peasant        |  6             | Red Peasant    |\n",
       "| Red            | Peasant        |  1             | Red Peasant    |\n",
       "| Yellow         | Officer        | 22             | Yellow Officer |\n",
       "| Yellow         | Peasant        |  3             | Yellow Peasant |\n",
       "| Yellow         | Officer        | 21             | Yellow Officer |\n",
       "| Yellow         | Peasant        |  1             | Yellow Peasant |\n",
       "| Blue           | Peasant        |  1             | Blue Peasant   |\n",
       "| Blue           | Officer        | 18             | Blue Officer   |\n",
       "| Blue           | Chieftain      | 44             | Blue Chieftain |\n",
       "| Blue           | Peasant        |  1             | Blue Peasant   |\n",
       "| Red            | Peasant        |  6             | Red Peasant    |\n",
       "| Yellow         | Officer        | 10             | Yellow Officer |\n",
       "| Yellow         | Officer        | 24             | Yellow Officer |\n",
       "| Yellow         | Peasant        |  1             | Yellow Peasant |\n",
       "| Blue           | Peasant        |  1             | Blue Peasant   |\n",
       "| Yellow         | Peasant        |  1             | Yellow Peasant |\n",
       "| ... | ... | ... | ... |\n",
       "| Yellow           | Peasant          |  1               | Yellow Peasant   |\n",
       "| Yellow           | Peasant          |  2               | Yellow Peasant   |\n",
       "| Blue             | Officer          | 24               | Blue Officer     |\n",
       "| Blue             | Peasant          |  2               | Blue Peasant     |\n",
       "| Blue             | Officer          | 13               | Blue Officer     |\n",
       "| Blue             | Peasant          |  5               | Blue Peasant     |\n",
       "| Red              | Peasant          |  4               | Red Peasant      |\n",
       "| Blue             | Officer          | 13               | Blue Officer     |\n",
       "| Blue             | Peasant          |  5               | Blue Peasant     |\n",
       "| Yellow           | Chieftain        | 66               | Yellow Chieftain |\n",
       "| Yellow           | Officer          | 12               | Yellow Officer   |\n",
       "| Red              | Peasant          |  6               | Red Peasant      |\n",
       "| Blue             | Peasant          |  3               | Blue Peasant     |\n",
       "| Yellow           | Officer          | 18               | Yellow Officer   |\n",
       "| Red              | Peasant          |  2               | Red Peasant      |\n",
       "| Yellow           | Peasant          |  4               | Yellow Peasant   |\n",
       "| Red              | Peasant          |  3               | Red Peasant      |\n",
       "| Red              | Peasant          |  8               | Red Peasant      |\n",
       "| Yellow           | Chieftain        | 46               | Yellow Chieftain |\n",
       "| Blue             | Peasant          |  3               | Blue Peasant     |\n",
       "| Yellow           | Peasant          |  5               | Yellow Peasant   |\n",
       "| Red              | Peasant          |  8               | Red Peasant      |\n",
       "| Yellow           | Officer          | 21               | Yellow Officer   |\n",
       "| Blue             | Peasant          |  3               | Blue Peasant     |\n",
       "| Yellow           | Peasant          |  3               | Yellow Peasant   |\n",
       "| Blue             | Peasant          |  5               | Blue Peasant     |\n",
       "| Blue             | Officer          | 12               | Blue Officer     |\n",
       "| Red              | Officer          |  8               | Red Officer      |\n",
       "| Blue             | Officer          | 24               | Blue Officer     |\n",
       "| Yellow           | Peasant          |  4               | Yellow Peasant   |\n",
       "\n"
      ],
      "text/plain": [
       "     tribe  status    wealth group           \n",
       "1    Yellow Peasant    4     Yellow Peasant  \n",
       "2    Yellow Peasant    4     Yellow Peasant  \n",
       "3    Blue   Peasant    4     Blue Peasant    \n",
       "4    Red    Officer    9     Red Officer     \n",
       "5    Blue   Chieftain 56     Blue Chieftain  \n",
       "6    Yellow Peasant    3     Yellow Peasant  \n",
       "7    Yellow Peasant    3     Yellow Peasant  \n",
       "8    Red    Peasant    5     Red Peasant     \n",
       "9    Red    Peasant    4     Red Peasant     \n",
       "10   Yellow Officer   13     Yellow Officer  \n",
       "11   Blue   Peasant    4     Blue Peasant    \n",
       "12   Yellow Officer   16     Yellow Officer  \n",
       "13   Blue   Peasant    3     Blue Peasant    \n",
       "14   Red    Peasant    5     Red Peasant     \n",
       "15   Red    Peasant    6     Red Peasant     \n",
       "16   Red    Peasant    1     Red Peasant     \n",
       "17   Yellow Officer   22     Yellow Officer  \n",
       "18   Yellow Peasant    3     Yellow Peasant  \n",
       "19   Yellow Officer   21     Yellow Officer  \n",
       "20   Yellow Peasant    1     Yellow Peasant  \n",
       "21   Blue   Peasant    1     Blue Peasant    \n",
       "22   Blue   Officer   18     Blue Officer    \n",
       "23   Blue   Chieftain 44     Blue Chieftain  \n",
       "24   Blue   Peasant    1     Blue Peasant    \n",
       "25   Red    Peasant    6     Red Peasant     \n",
       "26   Yellow Officer   10     Yellow Officer  \n",
       "27   Yellow Officer   24     Yellow Officer  \n",
       "28   Yellow Peasant    1     Yellow Peasant  \n",
       "29   Blue   Peasant    1     Blue Peasant    \n",
       "30   Yellow Peasant    1     Yellow Peasant  \n",
       "...  ...    ...       ...    ...             \n",
       "971  Yellow Peasant    1     Yellow Peasant  \n",
       "972  Yellow Peasant    2     Yellow Peasant  \n",
       "973  Blue   Officer   24     Blue Officer    \n",
       "974  Blue   Peasant    2     Blue Peasant    \n",
       "975  Blue   Officer   13     Blue Officer    \n",
       "976  Blue   Peasant    5     Blue Peasant    \n",
       "977  Red    Peasant    4     Red Peasant     \n",
       "978  Blue   Officer   13     Blue Officer    \n",
       "979  Blue   Peasant    5     Blue Peasant    \n",
       "980  Yellow Chieftain 66     Yellow Chieftain\n",
       "981  Yellow Officer   12     Yellow Officer  \n",
       "982  Red    Peasant    6     Red Peasant     \n",
       "983  Blue   Peasant    3     Blue Peasant    \n",
       "984  Yellow Officer   18     Yellow Officer  \n",
       "985  Red    Peasant    2     Red Peasant     \n",
       "986  Yellow Peasant    4     Yellow Peasant  \n",
       "987  Red    Peasant    3     Red Peasant     \n",
       "988  Red    Peasant    8     Red Peasant     \n",
       "989  Yellow Chieftain 46     Yellow Chieftain\n",
       "990  Blue   Peasant    3     Blue Peasant    \n",
       "991  Yellow Peasant    5     Yellow Peasant  \n",
       "992  Red    Peasant    8     Red Peasant     \n",
       "993  Yellow Officer   21     Yellow Officer  \n",
       "994  Blue   Peasant    3     Blue Peasant    \n",
       "995  Yellow Peasant    3     Yellow Peasant  \n",
       "996  Blue   Peasant    5     Blue Peasant    \n",
       "997  Blue   Officer   12     Blue Officer    \n",
       "998  Red    Officer    8     Red Officer     \n",
       "999  Blue   Officer   24     Blue Officer    \n",
       "1000 Yellow Peasant    4     Yellow Peasant  "
      ]
     },
     "metadata": {},
     "output_type": "display_data"
    }
   ],
   "source": [
    "d1"
   ]
  },
  {
   "cell_type": "code",
   "execution_count": 14,
   "metadata": {},
   "outputs": [
    {
     "name": "stderr",
     "output_type": "stream",
     "text": [
      "Warning message in leveneTest.default(d1$wealth, d1$group, center = median):\n",
      "\"d1$group coerced to factor.\""
     ]
    },
    {
     "data": {
      "text/html": [
       "<table>\n",
       "<thead><tr><th></th><th scope=col>Df</th><th scope=col>F value</th><th scope=col>Pr(&gt;F)</th></tr></thead>\n",
       "<tbody>\n",
       "\t<tr><th scope=row>group</th><td>  8          </td><td>83.7971      </td><td>8.834722e-106</td></tr>\n",
       "\t<tr><th scope=row> </th><td>991          </td><td>     NA      </td><td>           NA</td></tr>\n",
       "</tbody>\n",
       "</table>\n"
      ],
      "text/latex": [
       "\\begin{tabular}{r|lll}\n",
       "  & Df & F value & Pr(>F)\\\\\n",
       "\\hline\n",
       "\tgroup &   8           & 83.7971       & 8.834722e-106\\\\\n",
       "\t  & 991           &      NA       &            NA\\\\\n",
       "\\end{tabular}\n"
      ],
      "text/markdown": [
       "\n",
       "| <!--/--> | Df | F value | Pr(>F) |\n",
       "|---|---|---|---|\n",
       "| group |   8           | 83.7971       | 8.834722e-106 |\n",
       "|   | 991           |      NA       |            NA |\n",
       "\n"
      ],
      "text/plain": [
       "      Df  F value Pr(>F)       \n",
       "group   8 83.7971 8.834722e-106\n",
       "      991      NA            NA"
      ]
     },
     "metadata": {},
     "output_type": "display_data"
    }
   ],
   "source": [
    "leveneTest(d1$wealth, d1$group, center = median)"
   ]
  },
  {
   "cell_type": "code",
   "execution_count": 15,
   "metadata": {},
   "outputs": [],
   "source": [
    "model <- aov(wealth ~ group, data = d1)"
   ]
  },
  {
   "cell_type": "code",
   "execution_count": 16,
   "metadata": {},
   "outputs": [
    {
     "data": {
      "text/plain": [
       "             Df Sum Sq Mean Sq F value Pr(>F)    \n",
       "group         8 208296   26037    1373 <2e-16 ***\n",
       "Residuals   991  18795      19                   \n",
       "---\n",
       "Signif. codes:  0 '***' 0.001 '**' 0.01 '*' 0.05 '.' 0.1 ' ' 1"
      ]
     },
     "metadata": {},
     "output_type": "display_data"
    }
   ],
   "source": [
    "summary(model)"
   ]
  },
  {
   "cell_type": "code",
   "execution_count": 17,
   "metadata": {},
   "outputs": [
    {
     "data": {
      "text/html": [
       "<strong>$p.value</strong> = <table>\n",
       "<thead><tr><th></th><th scope=col>Blue Chieftain</th><th scope=col>Blue Officer</th><th scope=col>Blue Peasant</th><th scope=col>Red Chieftain</th><th scope=col>Red Officer</th><th scope=col>Red Peasant</th><th scope=col>Yellow Chieftain</th><th scope=col>Yellow Officer</th></tr></thead>\n",
       "<tbody>\n",
       "\t<tr><th scope=row>Blue Officer</th><td>1.589865e-217</td><td>           NA</td><td>           NA</td><td>           NA</td><td>           NA</td><td>           NA</td><td>           NA</td><td>          NA </td></tr>\n",
       "\t<tr><th scope=row>Blue Peasant</th><td> 0.000000e+00</td><td>1.363787e-104</td><td>           NA</td><td>           NA</td><td>           NA</td><td>           NA</td><td>           NA</td><td>          NA </td></tr>\n",
       "\t<tr><th scope=row>Red Chieftain</th><td> 1.064005e-07</td><td>1.278444e-236</td><td> 0.000000e+00</td><td>           NA</td><td>           NA</td><td>           NA</td><td>           NA</td><td>          NA </td></tr>\n",
       "\t<tr><th scope=row>Red Officer</th><td>2.999332e-207</td><td> 1.006915e-02</td><td>8.322190e-129</td><td>2.354708e-227</td><td>           NA</td><td>           NA</td><td>           NA</td><td>          NA </td></tr>\n",
       "\t<tr><th scope=row>Red Peasant</th><td> 0.000000e+00</td><td> 1.156437e-87</td><td> 7.086358e-04</td><td> 0.000000e+00</td><td>4.229327e-111</td><td>           NA</td><td>           NA</td><td>          NA </td></tr>\n",
       "\t<tr><th scope=row>Yellow Chieftain</th><td> 6.166289e-02</td><td>2.768446e-183</td><td>3.472866e-300</td><td> 8.744349e-12</td><td>4.865410e-173</td><td>1.228081e-290</td><td>           NA</td><td>          NA </td></tr>\n",
       "\t<tr><th scope=row>Yellow Officer</th><td>2.176073e-225</td><td> 1.132345e-01</td><td> 1.928812e-92</td><td>1.106080e-243</td><td> 3.000041e-05</td><td> 7.320751e-76</td><td>8.193726e-191</td><td>          NA </td></tr>\n",
       "\t<tr><th scope=row>Yellow Peasant</th><td> 0.000000e+00</td><td>3.245347e-104</td><td> 6.277778e-01</td><td> 0.000000e+00</td><td>7.224651e-128</td><td> 1.632971e-04</td><td>3.048073e-299</td><td>2.700974e-92 </td></tr>\n",
       "</tbody>\n",
       "</table>\n"
      ],
      "text/latex": [
       "\\textbf{\\$p.value} = \\begin{tabular}{r|llllllll}\n",
       "  & Blue Chieftain & Blue Officer & Blue Peasant & Red Chieftain & Red Officer & Red Peasant & Yellow Chieftain & Yellow Officer\\\\\n",
       "\\hline\n",
       "\tBlue Officer & 1.589865e-217 &            NA &            NA &            NA &            NA &            NA &            NA &           NA \\\\\n",
       "\tBlue Peasant &  0.000000e+00 & 1.363787e-104 &            NA &            NA &            NA &            NA &            NA &           NA \\\\\n",
       "\tRed Chieftain &  1.064005e-07 & 1.278444e-236 &  0.000000e+00 &            NA &            NA &            NA &            NA &           NA \\\\\n",
       "\tRed Officer & 2.999332e-207 &  1.006915e-02 & 8.322190e-129 & 2.354708e-227 &            NA &            NA &            NA &           NA \\\\\n",
       "\tRed Peasant &  0.000000e+00 &  1.156437e-87 &  7.086358e-04 &  0.000000e+00 & 4.229327e-111 &            NA &            NA &           NA \\\\\n",
       "\tYellow Chieftain &  6.166289e-02 & 2.768446e-183 & 3.472866e-300 &  8.744349e-12 & 4.865410e-173 & 1.228081e-290 &            NA &           NA \\\\\n",
       "\tYellow Officer & 2.176073e-225 &  1.132345e-01 &  1.928812e-92 & 1.106080e-243 &  3.000041e-05 &  7.320751e-76 & 8.193726e-191 &           NA \\\\\n",
       "\tYellow Peasant &  0.000000e+00 & 3.245347e-104 &  6.277778e-01 &  0.000000e+00 & 7.224651e-128 &  1.632971e-04 & 3.048073e-299 & 2.700974e-92 \\\\\n",
       "\\end{tabular}\n"
      ],
      "text/markdown": [
       "**$p.value** = \n",
       "| <!--/--> | Blue Chieftain | Blue Officer | Blue Peasant | Red Chieftain | Red Officer | Red Peasant | Yellow Chieftain | Yellow Officer |\n",
       "|---|---|---|---|---|---|---|---|---|\n",
       "| Blue Officer | 1.589865e-217 |            NA |            NA |            NA |            NA |            NA |            NA |           NA  |\n",
       "| Blue Peasant |  0.000000e+00 | 1.363787e-104 |            NA |            NA |            NA |            NA |            NA |           NA  |\n",
       "| Red Chieftain |  1.064005e-07 | 1.278444e-236 |  0.000000e+00 |            NA |            NA |            NA |            NA |           NA  |\n",
       "| Red Officer | 2.999332e-207 |  1.006915e-02 | 8.322190e-129 | 2.354708e-227 |            NA |            NA |            NA |           NA  |\n",
       "| Red Peasant |  0.000000e+00 |  1.156437e-87 |  7.086358e-04 |  0.000000e+00 | 4.229327e-111 |            NA |            NA |           NA  |\n",
       "| Yellow Chieftain |  6.166289e-02 | 2.768446e-183 | 3.472866e-300 |  8.744349e-12 | 4.865410e-173 | 1.228081e-290 |            NA |           NA  |\n",
       "| Yellow Officer | 2.176073e-225 |  1.132345e-01 |  1.928812e-92 | 1.106080e-243 |  3.000041e-05 |  7.320751e-76 | 8.193726e-191 |           NA  |\n",
       "| Yellow Peasant |  0.000000e+00 | 3.245347e-104 |  6.277778e-01 |  0.000000e+00 | 7.224651e-128 |  1.632971e-04 | 3.048073e-299 | 2.700974e-92  |\n",
       "\n"
      ],
      "text/plain": [
       "$p.value\n",
       "                 Blue Chieftain  Blue Officer  Blue Peasant Red Chieftain\n",
       "Blue Officer      1.589865e-217            NA            NA            NA\n",
       "Blue Peasant       0.000000e+00 1.363787e-104            NA            NA\n",
       "Red Chieftain      1.064005e-07 1.278444e-236  0.000000e+00            NA\n",
       "Red Officer       2.999332e-207  1.006915e-02 8.322190e-129 2.354708e-227\n",
       "Red Peasant        0.000000e+00  1.156437e-87  7.086358e-04  0.000000e+00\n",
       "Yellow Chieftain   6.166289e-02 2.768446e-183 3.472866e-300  8.744349e-12\n",
       "Yellow Officer    2.176073e-225  1.132345e-01  1.928812e-92 1.106080e-243\n",
       "Yellow Peasant     0.000000e+00 3.245347e-104  6.277778e-01  0.000000e+00\n",
       "                   Red Officer   Red Peasant Yellow Chieftain Yellow Officer\n",
       "Blue Officer                NA            NA               NA             NA\n",
       "Blue Peasant                NA            NA               NA             NA\n",
       "Red Chieftain               NA            NA               NA             NA\n",
       "Red Officer                 NA            NA               NA             NA\n",
       "Red Peasant      4.229327e-111            NA               NA             NA\n",
       "Yellow Chieftain 4.865410e-173 1.228081e-290               NA             NA\n",
       "Yellow Officer    3.000041e-05  7.320751e-76    8.193726e-191             NA\n",
       "Yellow Peasant   7.224651e-128  1.632971e-04    3.048073e-299   2.700974e-92\n"
      ]
     },
     "metadata": {},
     "output_type": "display_data"
    }
   ],
   "source": [
    "pairwise.t.test(d1$wealth, d1$group, p.adjust.method = \"BH\")[3]"
   ]
  },
  {
   "cell_type": "markdown",
   "metadata": {},
   "source": [
    "Yellow Peasant    ~    Blue Peasant  \n",
    "Yellow Officer    ~    Blue Officer  \n",
    "Yellow Chieftain  ~    Blue Chieftain  "
   ]
  },
  {
   "cell_type": "code",
   "execution_count": 18,
   "metadata": {
    "scrolled": true
   },
   "outputs": [],
   "source": [
    "lStatus <- list()\n",
    "for(status in unique(d1[,'status'])){\n",
    "    lStatus <- append(lStatus, list(d1[d1$status==status,]))\n",
    "}"
   ]
  },
  {
   "cell_type": "code",
   "execution_count": 19,
   "metadata": {},
   "outputs": [
    {
     "data": {
      "text/plain": [
       "lStatus[[1]]$tribe: Blue\n",
       "      median         mean      SE.mean CI.mean.0.95          var      std.dev \n",
       "  3.00000000   3.08910891   0.09979981   0.19678892   2.01192060   1.41842187 \n",
       "    coef.var \n",
       "  0.45916862 \n",
       "------------------------------------------------------------ \n",
       "lStatus[[1]]$tribe: Red\n",
       "      median         mean      SE.mean CI.mean.0.95          var      std.dev \n",
       "   5.0000000    4.5592417    0.1288816    0.2540674    3.5048070    1.8721130 \n",
       "    coef.var \n",
       "   0.4106194 \n",
       "------------------------------------------------------------ \n",
       "lStatus[[1]]$tribe: Yellow\n",
       "      median         mean      SE.mean CI.mean.0.95          var      std.dev \n",
       "   3.0000000    2.8729282    0.1085760    0.2142455    2.1337630    1.4607406 \n",
       "    coef.var \n",
       "   0.5084501 "
      ]
     },
     "metadata": {},
     "output_type": "display_data"
    }
   ],
   "source": [
    "by(lStatus[[1]]$wealth, lStatus[[1]]$tribe, stat.desc, basic=F)"
   ]
  },
  {
   "cell_type": "markdown",
   "metadata": {},
   "source": [
    "Red live better!"
   ]
  },
  {
   "cell_type": "code",
   "execution_count": 20,
   "metadata": {},
   "outputs": [
    {
     "data": {
      "text/plain": [
       "lStatus[[3]]$tribe: Blue\n",
       "      median         mean      SE.mean CI.mean.0.95          var      std.dev \n",
       "  50.0000000   50.2820513    1.2565342    2.5437205   61.5762483    7.8470535 \n",
       "    coef.var \n",
       "   0.1560607 \n",
       "------------------------------------------------------------ \n",
       "lStatus[[3]]$tribe: Red\n",
       "      median         mean      SE.mean CI.mean.0.95          var      std.dev \n",
       "  61.0000000   55.9354839    2.1982082    4.4893401  149.7956989   12.2391053 \n",
       "    coef.var \n",
       "   0.2188075 \n",
       "------------------------------------------------------------ \n",
       "lStatus[[3]]$tribe: Yellow\n",
       "      median         mean      SE.mean CI.mean.0.95          var      std.dev \n",
       "  47.0000000   48.3125000    1.9210409    3.9179888  118.0927419   10.8670484 \n",
       "    coef.var \n",
       "   0.2249324 "
      ]
     },
     "metadata": {},
     "output_type": "display_data"
    }
   ],
   "source": [
    "by(lStatus[[3]]$wealth, lStatus[[3]]$tribe, stat.desc, basic=F)"
   ]
  },
  {
   "cell_type": "markdown",
   "metadata": {},
   "source": [
    "**Yellow and Blue are same.   \n",
    "Reds live better.**"
   ]
  },
  {
   "cell_type": "code",
   "execution_count": 21,
   "metadata": {},
   "outputs": [
    {
     "data": {
      "text/plain": [
       "\n",
       "\tPairwise comparisons using t tests with pooled SD \n",
       "\n",
       "data:  d[d$status == \"Chieftain\", ][[\"wealth\"]] and d[d$status == \"Chieftain\", ][[\"tribe\"]] \n",
       "\n",
       "       Blue  Red  \n",
       "Red    0.037 -    \n",
       "Yellow 0.424 0.012\n",
       "\n",
       "P value adjustment method: BH "
      ]
     },
     "metadata": {},
     "output_type": "display_data"
    }
   ],
   "source": [
    "pairwise.t.test(d[d$status=='Chieftain',][['wealth']], d[d$status=='Chieftain',][['tribe']], p.adjust.method = \"BH\")"
   ]
  },
  {
   "cell_type": "code",
   "execution_count": 22,
   "metadata": {},
   "outputs": [
    {
     "data": {
      "text/html": [
       "<table>\n",
       "<thead><tr><th></th><th scope=col>Df</th><th scope=col>F value</th><th scope=col>Pr(&gt;F)</th></tr></thead>\n",
       "<tbody>\n",
       "\t<tr><th scope=row>group</th><td>  2        </td><td>6.5468     </td><td>0.001540987</td></tr>\n",
       "\t<tr><th scope=row> </th><td>591        </td><td>    NA     </td><td>         NA</td></tr>\n",
       "</tbody>\n",
       "</table>\n"
      ],
      "text/latex": [
       "\\begin{tabular}{r|lll}\n",
       "  & Df & F value & Pr(>F)\\\\\n",
       "\\hline\n",
       "\tgroup &   2         & 6.5468      & 0.001540987\\\\\n",
       "\t  & 591         &     NA      &          NA\\\\\n",
       "\\end{tabular}\n"
      ],
      "text/markdown": [
       "\n",
       "| <!--/--> | Df | F value | Pr(>F) |\n",
       "|---|---|---|---|\n",
       "| group |   2         | 6.5468      | 0.001540987 |\n",
       "|   | 591         |     NA      |          NA |\n",
       "\n"
      ],
      "text/plain": [
       "      Df  F value Pr(>F)     \n",
       "group   2 6.5468  0.001540987\n",
       "      591     NA           NA"
      ]
     },
     "metadata": {},
     "output_type": "display_data"
    }
   ],
   "source": [
    "i <- 1\n",
    "leveneTest(lStatus[[i]]$wealth, lStatus[[i]]$tribe, center = median)"
   ]
  },
  {
   "cell_type": "code",
   "execution_count": 23,
   "metadata": {},
   "outputs": [
    {
     "data": {
      "text/plain": [
       "\n",
       "\tOne-way analysis of means (not assuming equal variances)\n",
       "\n",
       "data:  lStatus[[1]]$wealth and lStatus[[1]]$tribe\n",
       "F = 56.913, num df = 2.00, denom df = 390.52, p-value < 2.2e-16\n"
      ]
     },
     "metadata": {},
     "output_type": "display_data"
    }
   ],
   "source": [
    "oneway.test(lStatus[[1]]$wealth ~ lStatus[[1]]$tribe, data=d)"
   ]
  },
  {
   "cell_type": "code",
   "execution_count": 24,
   "metadata": {},
   "outputs": [
    {
     "data": {
      "text/plain": [
       "Call:\n",
       "t1way(formula = lStatus[[1]]$wealth ~ lStatus[[1]]$tribe, data = d)\n",
       "\n",
       "Test statistic: F = 40.1584 \n",
       "Degrees of freedom 1: 2 \n",
       "Degrees of freedom 2: 233.53 \n",
       "p-value: 0 \n",
       "\n",
       "Explanatory measure of effect size: 0.48 \n"
      ]
     },
     "metadata": {},
     "output_type": "display_data"
    }
   ],
   "source": [
    "t1way(lStatus[[1]]$wealth ~ lStatus[[1]]$tribe, data=d)"
   ]
  },
  {
   "cell_type": "code",
   "execution_count": 26,
   "metadata": {},
   "outputs": [
    {
     "data": {
      "text/html": [
       "32"
      ],
      "text/latex": [
       "32"
      ],
      "text/markdown": [
       "32"
      ],
      "text/plain": [
       "[1] 32"
      ]
     },
     "metadata": {},
     "output_type": "display_data"
    },
    {
     "data": {
      "text/html": [
       "99"
      ],
      "text/latex": [
       "99"
      ],
      "text/markdown": [
       "99"
      ],
      "text/plain": [
       "[1] 99"
      ]
     },
     "metadata": {},
     "output_type": "display_data"
    },
    {
     "data": {
      "text/html": [
       "181"
      ],
      "text/latex": [
       "181"
      ],
      "text/markdown": [
       "181"
      ],
      "text/plain": [
       "[1] 181"
      ]
     },
     "metadata": {},
     "output_type": "display_data"
    }
   ],
   "source": [
    "length(d[d$status=='Chieftain' & d$tribe=='Yellow',1])\n",
    "length(d[d$status=='Officer' & d$tribe=='Yellow',1])\n",
    "length(d[d$status=='Peasant' & d$tribe=='Yellow',1])"
   ]
  },
  {
   "cell_type": "code",
   "execution_count": 33,
   "metadata": {},
   "outputs": [
    {
     "data": {
      "text/html": [
       "<table>\n",
       "<thead><tr><th></th><th scope=col>Df</th><th scope=col>F value</th><th scope=col>Pr(&gt;F)</th></tr></thead>\n",
       "<tbody>\n",
       "\t<tr><th scope=row>group</th><td>  2      </td><td>0.7457757</td><td>0.4746306</td></tr>\n",
       "\t<tr><th scope=row> </th><td>997      </td><td>       NA</td><td>       NA</td></tr>\n",
       "</tbody>\n",
       "</table>\n"
      ],
      "text/latex": [
       "\\begin{tabular}{r|lll}\n",
       "  & Df & F value & Pr(>F)\\\\\n",
       "\\hline\n",
       "\tgroup &   2       & 0.7457757 & 0.4746306\\\\\n",
       "\t  & 997       &        NA &        NA\\\\\n",
       "\\end{tabular}\n"
      ],
      "text/markdown": [
       "\n",
       "| <!--/--> | Df | F value | Pr(>F) |\n",
       "|---|---|---|---|\n",
       "| group |   2       | 0.7457757 | 0.4746306 |\n",
       "|   | 997       |        NA |        NA |\n",
       "\n"
      ],
      "text/plain": [
       "      Df  F value   Pr(>F)   \n",
       "group   2 0.7457757 0.4746306\n",
       "      997        NA        NA"
      ]
     },
     "metadata": {},
     "output_type": "display_data"
    }
   ],
   "source": [
    "leveneTest(d$wealth, d$tribe, center = mean)"
   ]
  },
  {
   "cell_type": "code",
   "execution_count": 32,
   "metadata": {},
   "outputs": [
    {
     "data": {
      "text/html": [
       "<table>\n",
       "<thead><tr><th></th><th scope=col>Df</th><th scope=col>F value</th><th scope=col>Pr(&gt;F)</th></tr></thead>\n",
       "<tbody>\n",
       "\t<tr><th scope=row>group</th><td>  2      </td><td>0.1958725</td><td>0.8221487</td></tr>\n",
       "\t<tr><th scope=row> </th><td>997      </td><td>       NA</td><td>       NA</td></tr>\n",
       "</tbody>\n",
       "</table>\n"
      ],
      "text/latex": [
       "\\begin{tabular}{r|lll}\n",
       "  & Df & F value & Pr(>F)\\\\\n",
       "\\hline\n",
       "\tgroup &   2       & 0.1958725 & 0.8221487\\\\\n",
       "\t  & 997       &        NA &        NA\\\\\n",
       "\\end{tabular}\n"
      ],
      "text/markdown": [
       "\n",
       "| <!--/--> | Df | F value | Pr(>F) |\n",
       "|---|---|---|---|\n",
       "| group |   2       | 0.1958725 | 0.8221487 |\n",
       "|   | 997       |        NA |        NA |\n",
       "\n"
      ],
      "text/plain": [
       "      Df  F value   Pr(>F)   \n",
       "group   2 0.1958725 0.8221487\n",
       "      997        NA        NA"
      ]
     },
     "metadata": {},
     "output_type": "display_data"
    }
   ],
   "source": [
    "leveneTest(d$wealth, d$tribe, center = median)"
   ]
  },
  {
   "cell_type": "code",
   "execution_count": 29,
   "metadata": {},
   "outputs": [
    {
     "data": {
      "text/plain": [
       "             Df Sum Sq Mean Sq F value Pr(>F)\n",
       "tribe         2    485   242.5   1.067  0.344\n",
       "Residuals   997 226606   227.3               "
      ]
     },
     "metadata": {},
     "output_type": "display_data"
    }
   ],
   "source": [
    "summary(aov(wealth ~ tribe, data = d1))"
   ]
  },
  {
   "cell_type": "code",
   "execution_count": 30,
   "metadata": {},
   "outputs": [],
   "source": [
    "# kruskal.test(wealth ~ tribe, data = d1)"
   ]
  },
  {
   "cell_type": "code",
   "execution_count": null,
   "metadata": {},
   "outputs": [],
   "source": []
  }
 ],
 "metadata": {
  "kernelspec": {
   "display_name": "R",
   "language": "R",
   "name": "ir"
  },
  "language_info": {
   "codemirror_mode": "r",
   "file_extension": ".r",
   "mimetype": "text/x-r-source",
   "name": "R",
   "pygments_lexer": "r",
   "version": "3.6.1"
  }
 },
 "nbformat": 4,
 "nbformat_minor": 2
}
