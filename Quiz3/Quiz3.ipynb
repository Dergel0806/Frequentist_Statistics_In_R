{
 "cells": [
  {
   "cell_type": "markdown",
   "metadata": {},
   "source": [
    "# Loglinear analysis"
   ]
  },
  {
   "cell_type": "markdown",
   "metadata": {},
   "source": [
    "A open-minded wizard acquires the ability to discern truth from falsehood. The powers that be allow him to interview convicted murderers prior to execution because he lies about what his purposes are. He can therefore discern if a convicted murderer is actually innocent. In the interests of political correctness he inquires about the individuals race and gender as he or she or they see it. The data is recorded in the attachment above. All questions in this quiz relate to this data."
   ]
  },
  {
   "cell_type": "code",
   "execution_count": 1,
   "metadata": {},
   "outputs": [],
   "source": [
    "library('pastecs')\n",
    "library('pgirmess')\n",
    "library('MASS')\n",
    "library('gmodels')"
   ]
  },
  {
   "cell_type": "code",
   "execution_count": 2,
   "metadata": {},
   "outputs": [],
   "source": [
    "quizData <- read.csv('Quiz3.csv')"
   ]
  },
  {
   "cell_type": "code",
   "execution_count": 3,
   "metadata": {},
   "outputs": [
    {
     "data": {
      "text/plain": [
       "          gender\n",
       "guilty     Female Male\n",
       "  Guilty      260  259\n",
       "  Innocent    252  229"
      ]
     },
     "metadata": {},
     "output_type": "display_data"
    }
   ],
   "source": [
    "table(quizData[c('guilty','gender')])"
   ]
  },
  {
   "cell_type": "code",
   "execution_count": 4,
   "metadata": {},
   "outputs": [
    {
     "data": {
      "text/plain": [
       "      guilty       gender          race    \n",
       " Guilty  :519   Female:512   Half-Orc:627  \n",
       " Innocent:481   Male  :488   Human   :373  "
      ]
     },
     "metadata": {},
     "output_type": "display_data"
    }
   ],
   "source": [
    "summary(quizData)"
   ]
  },
  {
   "cell_type": "code",
   "execution_count": 5,
   "metadata": {},
   "outputs": [],
   "source": [
    "contingencyTable<-xtabs(~ guilty + gender + race, data = quizData)"
   ]
  },
  {
   "cell_type": "code",
   "execution_count": 6,
   "metadata": {},
   "outputs": [
    {
     "data": {
      "text/plain": [
       "Call:\n",
       "loglm(formula = ~guilty * gender * race, data = contingencyTable)\n",
       "\n",
       "Statistics:\n",
       "                 X^2 df P(> X^2)\n",
       "Likelihood Ratio   0  0        1\n",
       "Pearson            0  0        1"
      ]
     },
     "metadata": {},
     "output_type": "display_data"
    }
   ],
   "source": [
    "saturated<-loglm(~ guilty * gender * race, data = contingencyTable)\n",
    "saturated"
   ]
  },
  {
   "cell_type": "code",
   "execution_count": 7,
   "metadata": {},
   "outputs": [],
   "source": [
    "noThreeWay <- update(saturated, .~. -guilty:gender:race)"
   ]
  },
  {
   "cell_type": "markdown",
   "metadata": {},
   "source": [
    "saturated:  ~ guilty + gender + race + guilty:gender + guilty:race + gender:race + guilty:gender:race   \n",
    "noThreeWay: ~ guilty + gender + race + guilty:gender + guilty:race + gender:race"
   ]
  },
  {
   "cell_type": "code",
   "execution_count": 8,
   "metadata": {},
   "outputs": [
    {
     "data": {
      "text/plain": [
       "LR tests for hierarchical log-linear models\n",
       "\n",
       "Model 1:\n",
       " . ~ guilty + gender + race + guilty:gender + guilty:race + gender:race \n",
       "Model 2:\n",
       " ~guilty * gender * race \n",
       "\n",
       "            Deviance df Delta(Dev) Delta(df) P(> Delta(Dev)\n",
       "Model 1   0.05762412  1                                    \n",
       "Model 2   0.00000000  0 0.05762412         1        0.81029\n",
       "Saturated 0.00000000  0 0.00000000         0        1.00000"
      ]
     },
     "metadata": {},
     "output_type": "display_data"
    }
   ],
   "source": [
    "anova(saturated, noThreeWay)"
   ]
  },
  {
   "cell_type": "code",
   "execution_count": 9,
   "metadata": {},
   "outputs": [],
   "source": [
    "noGenderRace <- update(noThreeWay, .~. -gender:race)"
   ]
  },
  {
   "cell_type": "code",
   "execution_count": 10,
   "metadata": {},
   "outputs": [
    {
     "data": {
      "text/plain": [
       "LR tests for hierarchical log-linear models\n",
       "\n",
       "Model 1:\n",
       " . ~ guilty + gender + race + guilty:gender + guilty:race \n",
       "Model 2:\n",
       " ~guilty * gender * race \n",
       "\n",
       "           Deviance df Delta(Dev) Delta(df) P(> Delta(Dev)\n",
       "Model 1   0.1978229  2                                    \n",
       "Model 2   0.0000000  0  0.1978229         2        0.90582\n",
       "Saturated 0.0000000  0  0.0000000         0        1.00000"
      ]
     },
     "metadata": {},
     "output_type": "display_data"
    }
   ],
   "source": [
    "anova(saturated, noGenderRace)"
   ]
  },
  {
   "cell_type": "code",
   "execution_count": 11,
   "metadata": {},
   "outputs": [],
   "source": [
    "noGenderGuilty <- noGenderRace <- update(noGenderRace, .~. -gender:guilty)"
   ]
  },
  {
   "cell_type": "code",
   "execution_count": 12,
   "metadata": {},
   "outputs": [
    {
     "data": {
      "text/plain": [
       "LR tests for hierarchical log-linear models\n",
       "\n",
       "Model 1:\n",
       " . ~ guilty + gender + race + guilty:race \n",
       "Model 2:\n",
       " ~guilty * gender * race \n",
       "\n",
       "          Deviance df Delta(Dev) Delta(df) P(> Delta(Dev)\n",
       "Model 1   0.723906  3                                    \n",
       "Model 2   0.000000  0   0.723906         3        0.86757\n",
       "Saturated 0.000000  0   0.000000         0        1.00000"
      ]
     },
     "metadata": {},
     "output_type": "display_data"
    }
   ],
   "source": [
    "anova(saturated, noGenderGuilty)"
   ]
  },
  {
   "cell_type": "markdown",
   "metadata": {},
   "source": [
    "NO SEXISM!"
   ]
  },
  {
   "cell_type": "code",
   "execution_count": 13,
   "metadata": {},
   "outputs": [],
   "source": [
    "noRaceGuilty <- update(noGenderGuilty, .~. -race:guilty)"
   ]
  },
  {
   "cell_type": "code",
   "execution_count": 14,
   "metadata": {},
   "outputs": [
    {
     "data": {
      "text/plain": [
       "LR tests for hierarchical log-linear models\n",
       "\n",
       "Model 1:\n",
       " . ~ guilty + gender + race \n",
       "Model 2:\n",
       " ~guilty * gender * race \n",
       "\n",
       "          Deviance df Delta(Dev) Delta(df) P(> Delta(Dev)\n",
       "Model 1   46.58638  4                                    \n",
       "Model 2    0.00000  0   46.58638         4              0\n",
       "Saturated  0.00000  0    0.00000         0              1"
      ]
     },
     "metadata": {},
     "output_type": "display_data"
    }
   ],
   "source": [
    "anova(saturated, noRaceGuilty)"
   ]
  },
  {
   "cell_type": "markdown",
   "metadata": {},
   "source": [
    "RACISM!"
   ]
  },
  {
   "cell_type": "code",
   "execution_count": 15,
   "metadata": {},
   "outputs": [],
   "source": [
    "noRaceGuilty2 <- update(noGenderRace, .~. -race:guilty)"
   ]
  },
  {
   "cell_type": "code",
   "execution_count": 16,
   "metadata": {},
   "outputs": [
    {
     "data": {
      "text/plain": [
       "LR tests for hierarchical log-linear models\n",
       "\n",
       "Model 1:\n",
       " . ~ guilty + gender + race \n",
       "Model 2:\n",
       " ~guilty * gender * race \n",
       "\n",
       "          Deviance df Delta(Dev) Delta(df) P(> Delta(Dev)\n",
       "Model 1   46.58638  4                                    \n",
       "Model 2    0.00000  0   46.58638         4              0\n",
       "Saturated  0.00000  0    0.00000         0              1"
      ]
     },
     "metadata": {},
     "output_type": "display_data"
    }
   ],
   "source": [
    "anova(saturated, noRaceGuilty2)"
   ]
  }
 ],
 "metadata": {
  "kernelspec": {
   "display_name": "R",
   "language": "R",
   "name": "ir"
  },
  "language_info": {
   "codemirror_mode": "r",
   "file_extension": ".r",
   "mimetype": "text/x-r-source",
   "name": "R",
   "pygments_lexer": "r",
   "version": "3.6.1"
  }
 },
 "nbformat": 4,
 "nbformat_minor": 2
}
