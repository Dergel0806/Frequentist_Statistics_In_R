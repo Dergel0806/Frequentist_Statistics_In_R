{
 "cells": [
  {
   "cell_type": "code",
   "execution_count": 1,
   "metadata": {},
   "outputs": [
    {
     "name": "stderr",
     "output_type": "stream",
     "text": [
      "Loading required package: carData\n",
      "Registered S3 method overwritten by 'pgirmess':\n",
      "  method   from\n",
      "  print.mc mc2d\n",
      "Loading required package: mvtnorm\n",
      "Loading required package: survival\n",
      "Loading required package: TH.data\n",
      "Loading required package: MASS\n",
      "\n",
      "Attaching package: 'TH.data'\n",
      "\n",
      "The following object is masked from 'package:MASS':\n",
      "\n",
      "    geyser\n",
      "\n"
     ]
    }
   ],
   "source": [
    "library(car)\n",
    "library(WRS2)\n",
    "library(pgirmess)\n",
    "library(multcomp)"
   ]
  },
  {
   "cell_type": "code",
   "execution_count": 2,
   "metadata": {},
   "outputs": [],
   "source": [
    "d <- read.csv('DS2DK.csv')"
   ]
  },
  {
   "cell_type": "code",
   "execution_count": 3,
   "metadata": {},
   "outputs": [],
   "source": [
    "d['category1'] <- lapply(d['category1'], as.factor)\n",
    "d['category2'] <- lapply(d['category2'], as.factor)"
   ]
  },
  {
   "cell_type": "code",
   "execution_count": 4,
   "metadata": {
    "scrolled": true
   },
   "outputs": [
    {
     "data": {
      "text/html": [
       "<table>\n",
       "<thead><tr><th scope=col>traitX</th><th scope=col>traitY</th><th scope=col>traitZ</th><th scope=col>itemA</th><th scope=col>itemB</th><th scope=col>itemC</th><th scope=col>itemD</th><th scope=col>itemE</th><th scope=col>itemF</th><th scope=col>itemG</th><th scope=col>category1</th><th scope=col>category2</th><th scope=col>category3</th></tr></thead>\n",
       "<tbody>\n",
       "\t<tr><td>40      </td><td>66      </td><td>39      </td><td>0       </td><td>0       </td><td>0       </td><td>0       </td><td>1       </td><td>0       </td><td>1       </td><td>4       </td><td>6       </td><td>Bow     </td></tr>\n",
       "\t<tr><td>27      </td><td>54      </td><td>43      </td><td>0       </td><td>0       </td><td>0       </td><td>1       </td><td>1       </td><td>0       </td><td>0       </td><td>5       </td><td>6       </td><td>Apple   </td></tr>\n",
       "\t<tr><td>52      </td><td>35      </td><td>43      </td><td>0       </td><td>0       </td><td>0       </td><td>0       </td><td>0       </td><td>0       </td><td>1       </td><td>2       </td><td>10      </td><td>Elephant</td></tr>\n",
       "\t<tr><td>61      </td><td>33      </td><td>43      </td><td>0       </td><td>0       </td><td>1       </td><td>1       </td><td>0       </td><td>1       </td><td>0       </td><td>1       </td><td>6       </td><td>Elephant</td></tr>\n",
       "\t<tr><td>47      </td><td>46      </td><td>48      </td><td>0       </td><td>0       </td><td>1       </td><td>0       </td><td>1       </td><td>1       </td><td>0       </td><td>3       </td><td>2       </td><td>Dog     </td></tr>\n",
       "\t<tr><td>47      </td><td>49      </td><td>52      </td><td>0       </td><td>0       </td><td>0       </td><td>1       </td><td>1       </td><td>1       </td><td>1       </td><td>3       </td><td>6       </td><td>Cat     </td></tr>\n",
       "</tbody>\n",
       "</table>\n"
      ],
      "text/latex": [
       "\\begin{tabular}{r|lllllllllllll}\n",
       " traitX & traitY & traitZ & itemA & itemB & itemC & itemD & itemE & itemF & itemG & category1 & category2 & category3\\\\\n",
       "\\hline\n",
       "\t 40       & 66       & 39       & 0        & 0        & 0        & 0        & 1        & 0        & 1        & 4        & 6        & Bow     \\\\\n",
       "\t 27       & 54       & 43       & 0        & 0        & 0        & 1        & 1        & 0        & 0        & 5        & 6        & Apple   \\\\\n",
       "\t 52       & 35       & 43       & 0        & 0        & 0        & 0        & 0        & 0        & 1        & 2        & 10       & Elephant\\\\\n",
       "\t 61       & 33       & 43       & 0        & 0        & 1        & 1        & 0        & 1        & 0        & 1        & 6        & Elephant\\\\\n",
       "\t 47       & 46       & 48       & 0        & 0        & 1        & 0        & 1        & 1        & 0        & 3        & 2        & Dog     \\\\\n",
       "\t 47       & 49       & 52       & 0        & 0        & 0        & 1        & 1        & 1        & 1        & 3        & 6        & Cat     \\\\\n",
       "\\end{tabular}\n"
      ],
      "text/markdown": [
       "\n",
       "| traitX | traitY | traitZ | itemA | itemB | itemC | itemD | itemE | itemF | itemG | category1 | category2 | category3 |\n",
       "|---|---|---|---|---|---|---|---|---|---|---|---|---|\n",
       "| 40       | 66       | 39       | 0        | 0        | 0        | 0        | 1        | 0        | 1        | 4        | 6        | Bow      |\n",
       "| 27       | 54       | 43       | 0        | 0        | 0        | 1        | 1        | 0        | 0        | 5        | 6        | Apple    |\n",
       "| 52       | 35       | 43       | 0        | 0        | 0        | 0        | 0        | 0        | 1        | 2        | 10       | Elephant |\n",
       "| 61       | 33       | 43       | 0        | 0        | 1        | 1        | 0        | 1        | 0        | 1        | 6        | Elephant |\n",
       "| 47       | 46       | 48       | 0        | 0        | 1        | 0        | 1        | 1        | 0        | 3        | 2        | Dog      |\n",
       "| 47       | 49       | 52       | 0        | 0        | 0        | 1        | 1        | 1        | 1        | 3        | 6        | Cat      |\n",
       "\n"
      ],
      "text/plain": [
       "  traitX traitY traitZ itemA itemB itemC itemD itemE itemF itemG category1\n",
       "1 40     66     39     0     0     0     0     1     0     1     4        \n",
       "2 27     54     43     0     0     0     1     1     0     0     5        \n",
       "3 52     35     43     0     0     0     0     0     0     1     2        \n",
       "4 61     33     43     0     0     1     1     0     1     0     1        \n",
       "5 47     46     48     0     0     1     0     1     1     0     3        \n",
       "6 47     49     52     0     0     0     1     1     1     1     3        \n",
       "  category2 category3\n",
       "1 6         Bow      \n",
       "2 6         Apple    \n",
       "3 10        Elephant \n",
       "4 6         Elephant \n",
       "5 2         Dog      \n",
       "6 6         Cat      "
      ]
     },
     "metadata": {},
     "output_type": "display_data"
    }
   ],
   "source": [
    "head(d)"
   ]
  },
  {
   "cell_type": "code",
   "execution_count": 5,
   "metadata": {
    "scrolled": false
   },
   "outputs": [
    {
     "data": {
      "text/plain": [
       "     traitX          traitY          traitZ          itemA      \n",
       " Min.   :16.00   Min.   :16.00   Min.   :24.00   Min.   :0.000  \n",
       " 1st Qu.:39.00   1st Qu.:43.00   1st Qu.:46.00   1st Qu.:0.000  \n",
       " Median :45.00   Median :51.00   Median :50.00   Median :0.000  \n",
       " Mean   :45.01   Mean   :50.33   Mean   :49.97   Mean   :0.477  \n",
       " 3rd Qu.:51.00   3rd Qu.:58.00   3rd Qu.:54.00   3rd Qu.:1.000  \n",
       " Max.   :82.00   Max.   :90.00   Max.   :73.00   Max.   :1.000  \n",
       "                                                                \n",
       "     itemB           itemC           itemD           itemE      \n",
       " Min.   :0.000   Min.   :0.000   Min.   :0.000   Min.   :0.000  \n",
       " 1st Qu.:0.000   1st Qu.:0.000   1st Qu.:0.000   1st Qu.:0.000  \n",
       " Median :0.000   Median :0.000   Median :0.000   Median :0.000  \n",
       " Mean   :0.491   Mean   :0.473   Mean   :0.479   Mean   :0.498  \n",
       " 3rd Qu.:1.000   3rd Qu.:1.000   3rd Qu.:1.000   3rd Qu.:1.000  \n",
       " Max.   :1.000   Max.   :1.000   Max.   :1.000   Max.   :1.000  \n",
       "                                                                \n",
       "     itemF           itemG       category1   category2      category3  \n",
       " Min.   :0.000   Min.   :0.000   1:194     3      :116   Apple   :192  \n",
       " 1st Qu.:0.000   1st Qu.:0.000   2:187     8      :111   Bow     :207  \n",
       " Median :0.000   Median :0.000   3:200     2      :108   Cat     :211  \n",
       " Mean   :0.495   Mean   :0.487   4:207     7      :102   Dog     :210  \n",
       " 3rd Qu.:1.000   3rd Qu.:1.000   5:212     4      : 99   Elephant:180  \n",
       " Max.   :1.000   Max.   :1.000             1      : 97                 \n",
       "                                           (Other):367                 "
      ]
     },
     "metadata": {},
     "output_type": "display_data"
    }
   ],
   "source": [
    "summary(d)"
   ]
  },
  {
   "cell_type": "code",
   "execution_count": 6,
   "metadata": {},
   "outputs": [
    {
     "data": {
      "text/html": [
       "<ol class=list-inline>\n",
       "\t<li>Bow</li>\n",
       "\t<li>Apple</li>\n",
       "\t<li>Elephant</li>\n",
       "\t<li>Dog</li>\n",
       "\t<li>Cat</li>\n",
       "</ol>\n",
       "\n",
       "<details>\n",
       "\t<summary style=display:list-item;cursor:pointer>\n",
       "\t\t<strong>Levels</strong>:\n",
       "\t</summary>\n",
       "\t<ol class=list-inline>\n",
       "\t\t<li>'Apple'</li>\n",
       "\t\t<li>'Bow'</li>\n",
       "\t\t<li>'Cat'</li>\n",
       "\t\t<li>'Dog'</li>\n",
       "\t\t<li>'Elephant'</li>\n",
       "\t</ol>\n",
       "</details>"
      ],
      "text/latex": [
       "\\begin{enumerate*}\n",
       "\\item Bow\n",
       "\\item Apple\n",
       "\\item Elephant\n",
       "\\item Dog\n",
       "\\item Cat\n",
       "\\end{enumerate*}\n",
       "\n",
       "\\emph{Levels}: \\begin{enumerate*}\n",
       "\\item 'Apple'\n",
       "\\item 'Bow'\n",
       "\\item 'Cat'\n",
       "\\item 'Dog'\n",
       "\\item 'Elephant'\n",
       "\\end{enumerate*}\n"
      ],
      "text/markdown": [
       "1. Bow\n",
       "2. Apple\n",
       "3. Elephant\n",
       "4. Dog\n",
       "5. Cat\n",
       "\n",
       "\n",
       "\n",
       "**Levels**: 1. 'Apple'\n",
       "2. 'Bow'\n",
       "3. 'Cat'\n",
       "4. 'Dog'\n",
       "5. 'Elephant'\n",
       "\n",
       "\n"
      ],
      "text/plain": [
       "[1] Bow      Apple    Elephant Dog      Cat     \n",
       "Levels: Apple Bow Cat Dog Elephant"
      ]
     },
     "metadata": {},
     "output_type": "display_data"
    }
   ],
   "source": [
    "unique(d$category3)"
   ]
  },
  {
   "cell_type": "markdown",
   "metadata": {},
   "source": [
    "### Q1: Do traits differ by categories 2 and 3?\n",
    "\n",
    "1. Is **average** value of each `trait` (taken individually) different for at least one of the groups represented in `category 2`?\n",
    "1. Is **average** value of each `trait` (taken individually) different for at least one of the groups represented in `category 3`?\n",
    "\n",
    "Looks like ANOVA or K-W."
   ]
  },
  {
   "cell_type": "markdown",
   "metadata": {},
   "source": [
    "--------------"
   ]
  },
  {
   "cell_type": "code",
   "execution_count": 7,
   "metadata": {},
   "outputs": [],
   "source": [
    "DA2Q1 <- function(trait, category){\n",
    "    # leveneTest(trait, category, center=median)\n",
    "\n",
    "    if(leveneTest(trait, category, center=median)$`Pr(>F)` < 0.5){\n",
    "        # cat('HoV violated!\\n\\n')\n",
    "        # kruskal.test(trait ~ category)\n",
    "        cat('P-value is',kruskal.test(trait ~ category)$p.value,'\\n')\n",
    "        if(kruskal.test(trait ~ category)$p.value < 0.05){\n",
    "            cat('There is a difference!\\n')\n",
    "            pairwise.p.value <- pairwise.t.test(trait, category, paired = FALSE, p.adjust.method = \"bonferroni\")$p.value\n",
    "            pairwise.p.value[is.na(pairwise.p.value)] <- 1\n",
    "                for(e in pairwise.p.value){\n",
    "                    if(e < 0.001){\n",
    "                        pairwise.p.value[pairwise.p.value==e] <- '***'\n",
    "                    } else if(e < 0.01){\n",
    "                        pairwise.p.value[pairwise.p.value==e] <- ' **'\n",
    "                    } else if(e < 0.05){\n",
    "                        pairwise.p.value[pairwise.p.value==e] <- '  *'\n",
    "                    } else if(e < 0.1){\n",
    "                        pairwise.p.value[pairwise.p.value==e] <- '  .'\n",
    "                    } else{\n",
    "                        pairwise.p.value[pairwise.p.value==e] <- '   '\n",
    "                    }\n",
    "                }\n",
    "            return(pairwise.p.value)\n",
    "        } else cat('No difference!\\n')\n",
    "    }\n",
    "}"
   ]
  },
  {
   "cell_type": "code",
   "execution_count": 8,
   "metadata": {
    "scrolled": false
   },
   "outputs": [
    {
     "name": "stdout",
     "output_type": "stream",
     "text": [
      "For category2 :\n",
      "For traitX :\n",
      "\n",
      "P-value is 5.578058e-22 \n",
      "There is a difference!\n",
      "   1   2   3   4   5   6   7   8   9  \n",
      "2  ***                                \n",
      "3  ***                                \n",
      "4  ***                                \n",
      "5  ***                                \n",
      "6  ***                                \n",
      "7  ***                                \n",
      "8  ***                                \n",
      "9  ***                                \n",
      "10 ***                                \n",
      "------------------------------------\n",
      "\n",
      "For traitY :\n",
      "\n",
      "P-value is 1.823228e-27 \n",
      "There is a difference!\n",
      "   1   2   3   4   5   6   7   8   9  \n",
      "2                                     \n",
      "3  *** ***                            \n",
      "4  *** ***                            \n",
      "5  *** ***                            \n",
      "6      ***         ***                \n",
      "7          ***  ** ***                \n",
      "8       **   *     ***                \n",
      "9          *** *** ***                \n",
      "10         *** *** ***                \n",
      "------------------------------------\n",
      "\n",
      "For traitZ :\n",
      "\n",
      "------------------------------------\n",
      "\n",
      "========================================\n",
      "\n",
      "For category3 :\n",
      "For traitX :\n",
      "\n",
      "------------------------------------\n",
      "\n",
      "For traitY :\n",
      "\n",
      "P-value is 9.620545e-54 \n",
      "There is a difference!\n",
      "         Apple Bow Cat Dog\n",
      "Bow      ***              \n",
      "Cat            ***        \n",
      "Dog            ***        \n",
      "Elephant ***       *** ***\n",
      "------------------------------------\n",
      "\n",
      "For traitZ :\n",
      "\n",
      "------------------------------------\n",
      "\n",
      "========================================\n",
      "\n"
     ]
    }
   ],
   "source": [
    "options(warn=-1)\n",
    "traits <- c('traitX', 'traitY', 'traitZ')\n",
    "categories <- c('category2', 'category3')\n",
    "\n",
    "for(category in categories){\n",
    "    cat('For', category,':\\n')\n",
    "    for(trait in traits){\n",
    "        cat('For', trait,':\\n\\n')\n",
    "        p.values <- DA2Q1(d[[trait]], d[[category]])\n",
    "        if(!is.null(p.values)){\n",
    "            print(p.values, quote=F)\n",
    "        }\n",
    "        cat('------------------------------------\\n\\n')\n",
    "    }\n",
    "    cat('========================================\\n\\n')\n",
    "}\n",
    "options(warn=0)"
   ]
  },
  {
   "cell_type": "markdown",
   "metadata": {},
   "source": [
    "Signif. codes:  `0 '***' 0.001 '**' 0.01 '*' 0.05 '.' 0.1 ' ' 1`"
   ]
  },
  {
   "cell_type": "markdown",
   "metadata": {},
   "source": [
    "### Q2: When controlling for category1 do the traits differ by categories 2 and 3?\n",
    "\n",
    "1. Is average value of each trait (taken individually) different for at least one of the groups represented in category 2, while controlling for category 1?  \n",
    "1. Is average value of each trait (taken individually) different for at least one of the groups represented in category 3, while controlling for category 1?"
   ]
  },
  {
   "cell_type": "code",
   "execution_count": 9,
   "metadata": {
    "scrolled": true
   },
   "outputs": [],
   "source": [
    "# d <- d[sample(nrow(d), 600), ]"
   ]
  },
  {
   "cell_type": "code",
   "execution_count": 10,
   "metadata": {},
   "outputs": [
    {
     "data": {
      "text/html": [
       "<table>\n",
       "<thead><tr><th></th><th scope=col>Sum Sq</th><th scope=col>Df</th><th scope=col>F value</th><th scope=col>Pr(&gt;F)</th></tr></thead>\n",
       "<tbody>\n",
       "\t<tr><th scope=row>(Intercept)</th><td>125444.21    </td><td>  1          </td><td>1182.16756   </td><td>6.664699e-171</td></tr>\n",
       "\t<tr><th scope=row>category1</th><td> 10726.61    </td><td>  4          </td><td>  25.27149   </td><td> 5.941082e-20</td></tr>\n",
       "\t<tr><th scope=row>category2</th><td> 18644.01    </td><td>  9          </td><td>  19.52205   </td><td> 2.528049e-30</td></tr>\n",
       "\t<tr><th scope=row>Residuals</th><td>104628.14    </td><td>986          </td><td>        NA   </td><td>           NA</td></tr>\n",
       "</tbody>\n",
       "</table>\n"
      ],
      "text/latex": [
       "\\begin{tabular}{r|llll}\n",
       "  & Sum Sq & Df & F value & Pr(>F)\\\\\n",
       "\\hline\n",
       "\t(Intercept) & 125444.21     &   1           & 1182.16756    & 6.664699e-171\\\\\n",
       "\tcategory1 &  10726.61     &   4           &   25.27149    &  5.941082e-20\\\\\n",
       "\tcategory2 &  18644.01     &   9           &   19.52205    &  2.528049e-30\\\\\n",
       "\tResiduals & 104628.14     & 986           &         NA    &            NA\\\\\n",
       "\\end{tabular}\n"
      ],
      "text/markdown": [
       "\n",
       "| <!--/--> | Sum Sq | Df | F value | Pr(>F) |\n",
       "|---|---|---|---|---|\n",
       "| (Intercept) | 125444.21     |   1           | 1182.16756    | 6.664699e-171 |\n",
       "| category1 |  10726.61     |   4           |   25.27149    |  5.941082e-20 |\n",
       "| category2 |  18644.01     |   9           |   19.52205    |  2.528049e-30 |\n",
       "| Residuals | 104628.14     | 986           |         NA    |            NA |\n",
       "\n"
      ],
      "text/plain": [
       "            Sum Sq    Df  F value    Pr(>F)       \n",
       "(Intercept) 125444.21   1 1182.16756 6.664699e-171\n",
       "category1    10726.61   4   25.27149  5.941082e-20\n",
       "category2    18644.01   9   19.52205  2.528049e-30\n",
       "Residuals   104628.14 986         NA            NA"
      ]
     },
     "metadata": {},
     "output_type": "display_data"
    }
   ],
   "source": [
    "model <- aov(traitY ~ category1 + category2, data=d)\n",
    "Anova(model, type=\"III\")"
   ]
  },
  {
   "cell_type": "code",
   "execution_count": 11,
   "metadata": {},
   "outputs": [
    {
     "data": {
      "text/plain": [
       "                     Df Sum Sq Mean Sq F value Pr(>F)    \n",
       "category1             4   8055  2013.8  32.248 <2e-16 ***\n",
       "category2             9  10524  1169.4  18.726 <2e-16 ***\n",
       "category1:category2  36   1491    41.4   0.663  0.937    \n",
       "Residuals           950  59325    62.4                   \n",
       "---\n",
       "Signif. codes:  0 '***' 0.001 '**' 0.01 '*' 0.05 '.' 0.1 ' ' 1"
      ]
     },
     "metadata": {},
     "output_type": "display_data"
    }
   ],
   "source": [
    "hoRS <- aov(traitX ~ category1 * category2, data = d)\n",
    "summary(hoRS)"
   ]
  },
  {
   "cell_type": "code",
   "execution_count": 12,
   "metadata": {},
   "outputs": [
    {
     "data": {
      "text/plain": [
       "                       Df Sum Sq Mean Sq F value Pr(>F)\n",
       "as.numeric(category2)   1    1.6   1.610   0.798  0.372\n",
       "Residuals             998 2013.3   2.017               "
      ]
     },
     "metadata": {},
     "output_type": "display_data"
    }
   ],
   "source": [
    "check <- aov(as.numeric(category1) ~ as.numeric(category2), data = d)\n",
    "summary(check)"
   ]
  },
  {
   "cell_type": "code",
   "execution_count": 13,
   "metadata": {
    "scrolled": true
   },
   "outputs": [
    {
     "data": {
      "image/png": "[encoded data removed]",
      "text/plain": [
       "Plot with title \"\""
      ]
     },
     "metadata": {},
     "output_type": "display_data"
    },
    {
     "data": {
      "image/png": "[encoded data removed]",
      "text/plain": [
       "Plot with title \"\""
      ]
     },
     "metadata": {},
     "output_type": "display_data"
    },
    {
     "data": {
      "image/png": "[encoded data removed]",
      "text/plain": [
       "Plot with title \"\""
      ]
     },
     "metadata": {},
     "output_type": "display_data"
    },
    {
     "data": {
      "image/png": "[encoded data removed]",
      "text/plain": [
       "Plot with title \"\""
      ]
     },
     "metadata": {},
     "output_type": "display_data"
    }
   ],
   "source": [
    "plot(model)"
   ]
  },
  {
   "cell_type": "code",
   "execution_count": 14,
   "metadata": {
    "scrolled": true
   },
   "outputs": [
    {
     "name": "stderr",
     "output_type": "stream",
     "text": [
      "Warning message in RET$pfunction(\"adjusted\", ...):\n",
      "\"Completion with error > abseps\"Warning message in RET$pfunction(\"adjusted\", ...):\n",
      "\"Completion with error > abseps\"Warning message in RET$pfunction(\"adjusted\", ...):\n",
      "\"Completion with error > abseps\"Warning message in RET$pfunction(\"adjusted\", ...):\n",
      "\"Completion with error > abseps\"Warning message in RET$pfunction(\"adjusted\", ...):\n",
      "\"Completion with error > abseps\""
     ]
    },
    {
     "data": {
      "text/plain": [
       "\n",
       "\t Simultaneous Tests for General Linear Hypotheses\n",
       "\n",
       "Multiple Comparisons of Means: Tukey Contrasts\n",
       "\n",
       "\n",
       "Fit: aov(formula = traitY ~ category1 + category2, data = d)\n",
       "\n",
       "Linear Hypotheses:\n",
       "            Estimate Std. Error t value Pr(>|t|)    \n",
       "2 - 1 == 0   -2.7507     1.4421  -1.907  0.66404    \n",
       "3 - 1 == 0    8.0926     1.4187   5.704  < 0.001 ***\n",
       "4 - 1 == 0    7.7102     1.4723   5.237  < 0.001 ***\n",
       "5 - 1 == 0   12.2550     1.5563   7.875  < 0.001 ***\n",
       "6 - 1 == 0    3.2053     1.4913   2.149  0.49224    \n",
       "7 - 1 == 0    1.2965     1.4640   0.886  0.99687    \n",
       "8 - 1 == 0    3.3986     1.4332   2.371  0.34347    \n",
       "9 - 1 == 0    0.5990     1.4802   0.405  1.00000    \n",
       "10 - 1 == 0  -0.7304     1.4915  -0.490  0.99998    \n",
       "3 - 2 == 0   10.8433     1.3781   7.868  < 0.001 ***\n",
       "4 - 2 == 0   10.4609     1.4341   7.294  < 0.001 ***\n",
       "5 - 2 == 0   15.0057     1.5204   9.870  < 0.001 ***\n",
       "6 - 2 == 0    5.9560     1.4510   4.105  0.00173 ** \n",
       "7 - 2 == 0    4.0471     1.4236   2.843  0.12297    \n",
       "8 - 2 == 0    6.1493     1.3931   4.414  < 0.001 ***\n",
       "9 - 2 == 0    3.3497     1.4428   2.322  0.37510    \n",
       "10 - 2 == 0   2.0203     1.4532   1.390  0.93012    \n",
       "4 - 3 == 0   -0.3824     1.4098  -0.271  1.00000    \n",
       "5 - 3 == 0    4.1624     1.4987   2.777  0.14464    \n",
       "6 - 3 == 0   -4.8873     1.4275  -3.424  0.02199 *  \n",
       "7 - 3 == 0   -6.7961     1.4005  -4.852  < 0.001 ***\n",
       "8 - 3 == 0   -4.6940     1.3689  -3.429  0.02198 *  \n",
       "9 - 3 == 0   -7.4936     1.4190  -5.281  < 0.001 ***\n",
       "10 - 3 == 0  -8.8230     1.4276  -6.180  < 0.001 ***\n",
       "5 - 4 == 0    4.5448     1.5496   2.933  0.09782 .  \n",
       "6 - 4 == 0   -4.5048     1.4818  -3.040  0.07301 .  \n",
       "7 - 4 == 0   -6.4137     1.4556  -4.406  < 0.001 ***\n",
       "8 - 4 == 0   -4.3116     1.4251  -3.025  0.07601 .  \n",
       "9 - 4 == 0   -7.1112     1.4725  -4.829  < 0.001 ***\n",
       "10 - 4 == 0  -8.4406     1.4826  -5.693  < 0.001 ***\n",
       "6 - 5 == 0   -9.0497     1.5662  -5.778  < 0.001 ***\n",
       "7 - 5 == 0  -10.9585     1.5397  -7.117  < 0.001 ***\n",
       "8 - 5 == 0   -8.8564     1.5130  -5.853  < 0.001 ***\n",
       "9 - 5 == 0  -11.6560     1.5579  -7.482  < 0.001 ***\n",
       "10 - 5 == 0 -12.9854     1.5695  -8.274  < 0.001 ***\n",
       "7 - 6 == 0   -1.9089     1.4702  -1.298  0.95388    \n",
       "8 - 6 == 0    0.1933     1.4426   0.134  1.00000    \n",
       "9 - 6 == 0   -2.6063     1.4905  -1.749  0.76663    \n",
       "10 - 6 == 0  -3.9357     1.5015  -2.621  0.20832    \n",
       "8 - 7 == 0    2.1021     1.4166   1.484  0.89818    \n",
       "9 - 7 == 0   -0.6975     1.4656  -0.476  0.99998    \n",
       "10 - 7 == 0  -2.0269     1.4772  -1.372  0.93542    \n",
       "9 - 8 == 0   -2.7996     1.4325  -1.954  0.63066    \n",
       "10 - 8 == 0  -4.1290     1.4429  -2.862  0.11842    \n",
       "10 - 9 == 0  -1.3294     1.4908  -0.892  0.99670    \n",
       "---\n",
       "Signif. codes:  0 '***' 0.001 '**' 0.01 '*' 0.05 '.' 0.1 ' ' 1\n",
       "(Adjusted p values reported -- single-step method)\n"
      ]
     },
     "metadata": {},
     "output_type": "display_data"
    },
    {
     "data": {
      "text/plain": [
       "\n",
       "\t Simultaneous Confidence Intervals\n",
       "\n",
       "Multiple Comparisons of Means: Tukey Contrasts\n",
       "\n",
       "\n",
       "Fit: aov(formula = traitY ~ category1 + category2, data = d)\n",
       "\n",
       "Quantile = 3.1697\n",
       "95% family-wise confidence level\n",
       " \n",
       "\n",
       "Linear Hypotheses:\n",
       "            Estimate lwr      upr     \n",
       "2 - 1 == 0   -2.7507  -7.3217   1.8203\n",
       "3 - 1 == 0    8.0926   3.5956  12.5896\n",
       "4 - 1 == 0    7.7102   3.0434  12.3770\n",
       "5 - 1 == 0   12.2550   7.3220  17.1879\n",
       "6 - 1 == 0    3.2053  -1.5217   7.9324\n",
       "7 - 1 == 0    1.2965  -3.3439   5.9369\n",
       "8 - 1 == 0    3.3986  -1.1443   7.9415\n",
       "9 - 1 == 0    0.5990  -4.0928   5.2908\n",
       "10 - 1 == 0  -0.7304  -5.4581   3.9973\n",
       "3 - 2 == 0   10.8433   6.4750  15.2115\n",
       "4 - 2 == 0   10.4609   5.9151  15.0066\n",
       "5 - 2 == 0   15.0057  10.1864  19.8249\n",
       "6 - 2 == 0    5.9560   1.3567  10.5553\n",
       "7 - 2 == 0    4.0471  -0.4653   8.5596\n",
       "8 - 2 == 0    6.1493   1.7337  10.5649\n",
       "9 - 2 == 0    3.3497  -1.2237   7.9230\n",
       "10 - 2 == 0   2.0203  -2.5860   6.6266\n",
       "4 - 3 == 0   -0.3824  -4.8511   4.0863\n",
       "5 - 3 == 0    4.1624  -0.5880   8.9128\n",
       "6 - 3 == 0   -4.8873  -9.4121  -0.3624\n",
       "7 - 3 == 0   -6.7961 -11.2355  -2.3568\n",
       "8 - 3 == 0   -4.6940  -9.0329  -0.3551\n",
       "9 - 3 == 0   -7.4936 -11.9915  -2.9958\n",
       "10 - 3 == 0  -8.8230 -13.3481  -4.2978\n",
       "5 - 4 == 0    4.5448  -0.3669   9.4565\n",
       "6 - 4 == 0   -4.5048  -9.2016   0.1919\n",
       "7 - 4 == 0   -6.4137 -11.0277  -1.7998\n",
       "8 - 4 == 0   -4.3116  -8.8288   0.2056\n",
       "9 - 4 == 0   -7.1112 -11.7787  -2.4437\n",
       "10 - 4 == 0  -8.4406 -13.1400  -3.7411\n",
       "6 - 5 == 0   -9.0497 -14.0142  -4.0851\n",
       "7 - 5 == 0  -10.9585 -15.8388  -6.0782\n",
       "8 - 5 == 0   -8.8564 -13.6522  -4.0606\n",
       "9 - 5 == 0  -11.6560 -16.5940  -6.7180\n",
       "10 - 5 == 0 -12.9854 -17.9603  -8.0105\n",
       "7 - 6 == 0   -1.9089  -6.5690   2.7513\n",
       "8 - 6 == 0    0.1933  -4.3794   4.7660\n",
       "9 - 6 == 0   -2.6063  -7.3309   2.1182\n",
       "10 - 6 == 0  -3.9357  -8.6951   0.8237\n",
       "8 - 7 == 0    2.1021  -2.3880   6.5923\n",
       "9 - 7 == 0   -0.6975  -5.3429   3.9479\n",
       "10 - 7 == 0  -2.0269  -6.7093   2.6556\n",
       "9 - 8 == 0   -2.7996  -7.3402   1.7410\n",
       "10 - 8 == 0  -4.1290  -8.7025   0.4445\n",
       "10 - 9 == 0  -1.3294  -6.0548   3.3960\n"
      ]
     },
     "metadata": {},
     "output_type": "display_data"
    }
   ],
   "source": [
    "model <- aov(traitY ~ category1 + category2, data=d)\n",
    "postHocs <- glht(model, linfct = mcp(category2 = \"Tukey\")) #library multcomp\n",
    "summary(postHocs)\n",
    "confint(postHocs)"
   ]
  },
  {
   "cell_type": "code",
   "execution_count": 15,
   "metadata": {},
   "outputs": [
    {
     "data": {
      "text/html": [
       "<table>\n",
       "<thead><tr><th></th><th scope=col>Df</th><th scope=col>F value</th><th scope=col>Pr(&gt;F)</th></tr></thead>\n",
       "<tbody>\n",
       "\t<tr><th scope=row>group</th><td>  9        </td><td>2.820711   </td><td>0.002804713</td></tr>\n",
       "\t<tr><th scope=row> </th><td>990        </td><td>      NA   </td><td>         NA</td></tr>\n",
       "</tbody>\n",
       "</table>\n"
      ],
      "text/latex": [
       "\\begin{tabular}{r|lll}\n",
       "  & Df & F value & Pr(>F)\\\\\n",
       "\\hline\n",
       "\tgroup &   9         & 2.820711    & 0.002804713\\\\\n",
       "\t  & 990         &       NA    &          NA\\\\\n",
       "\\end{tabular}\n"
      ],
      "text/markdown": [
       "\n",
       "| <!--/--> | Df | F value | Pr(>F) |\n",
       "|---|---|---|---|\n",
       "| group |   9         | 2.820711    | 0.002804713 |\n",
       "|   | 990         |       NA    |          NA |\n",
       "\n"
      ],
      "text/plain": [
       "      Df  F value  Pr(>F)     \n",
       "group   9 2.820711 0.002804713\n",
       "      990       NA          NA"
      ]
     },
     "metadata": {},
     "output_type": "display_data"
    }
   ],
   "source": [
    "leveneTest(d$traitX, d$category2, center=median)"
   ]
  },
  {
   "cell_type": "code",
   "execution_count": null,
   "metadata": {},
   "outputs": [],
   "source": []
  }
 ],
 "metadata": {
  "kernelspec": {
   "display_name": "R",
   "language": "R",
   "name": "ir"
  },
  "language_info": {
   "codemirror_mode": "r",
   "file_extension": ".r",
   "mimetype": "text/x-r-source",
   "name": "R",
   "pygments_lexer": "r",
   "version": "3.6.1"
  }
 },
 "nbformat": 4,
 "nbformat_minor": 2
}
